{
 "cells": [
  {
   "cell_type": "markdown",
   "metadata": {},
   "source": [
    "# Introduction to Python for Digital Text Analysis (Part I)"
   ]
  },
  {
   "cell_type": "markdown",
   "metadata": {},
   "source": [
    "This session will provide an overview of how Python can be used to descriptively summarise a dataset made of YouTube comments.\n",
    "\n",
    "We expect you to have basic knowledge of Python, bue if you don't, here's the link:\n",
    "https://github.com/fbkarsdorp/python-intro/blob/master/notebook.ipynb\n",
    "\n",
    "As this lesson is aimed at people with little python experience - perhaps nothing more than one tutorial! - we are first going to refresh your memory of some Python tools.\n",
    "\n",
    "_____________________________\n",
    "\n",
    "Just before that, I'll tell you one of the most important things I've learned about programming:\n",
    "\n",
    "### Most problems you'll ever face [in Python] were once someone else's problem.\n",
    "\n",
    "So Google it. Go to Stack Overflow. Don't spend time trying to reinvent the wheel."
   ]
  },
  {
   "cell_type": "markdown",
   "metadata": {},
   "source": [
    "## Refreshing your python memory"
   ]
  },
  {
   "cell_type": "markdown",
   "metadata": {},
   "source": [
    "__Strings__ are one of Python's simplest data types. A string can be represented with single ( **'** ) or double ( **\"** ) quotation marks:"
   ]
  },
  {
   "cell_type": "code",
   "execution_count": 2,
   "metadata": {},
   "outputs": [
    {
     "name": "stdout",
     "output_type": "stream",
     "text": [
      "Hello world!\n"
     ]
    }
   ],
   "source": [
    "s = \"Hello world!\"\n",
    "print(s)"
   ]
  },
  {
   "cell_type": "markdown",
   "metadata": {},
   "source": [
    "A string can be modified in many ways. Here we will focus in a few of them.\n",
    "\n",
    "You can replace part of a string:"
   ]
  },
  {
   "cell_type": "code",
   "execution_count": 3,
   "metadata": {},
   "outputs": [
    {
     "name": "stdout",
     "output_type": "stream",
     "text": [
      "Hello python!\n"
     ]
    }
   ],
   "source": [
    "s2 = s.replace(\"world\", \"python\")\n",
    "print(s2)"
   ]
  },
  {
   "cell_type": "markdown",
   "metadata": {},
   "source": [
    "You can concatenate strings, by summing one string to another:"
   ]
  },
  {
   "cell_type": "code",
   "execution_count": 4,
   "metadata": {},
   "outputs": [
    {
     "name": "stdout",
     "output_type": "stream",
     "text": [
      "Hello world! Hello python!\n"
     ]
    }
   ],
   "source": [
    "s3 = s + ' ' + s2\n",
    "print(s3)"
   ]
  },
  {
   "cell_type": "markdown",
   "metadata": {},
   "source": [
    "You can split strings, turning them into lists:"
   ]
  },
  {
   "cell_type": "code",
   "execution_count": 5,
   "metadata": {},
   "outputs": [
    {
     "name": "stdout",
     "output_type": "stream",
     "text": [
      "['Hello', 'world!', 'Hello', 'python!']\n"
     ]
    }
   ],
   "source": [
    "splitstring = s3.split()\n",
    "print (splitstring)"
   ]
  },
  {
   "cell_type": "markdown",
   "metadata": {},
   "source": [
    "**Lists** are sequences of objects. For instance, the object _splitstring_ above is a list of strings.\n",
    "\n",
    "Here's how to define an empty list, and fill it with numbers, in various ways. Note that one way to fill a list is to add another list to it:"
   ]
  },
  {
   "cell_type": "code",
   "execution_count": 6,
   "metadata": {},
   "outputs": [
    {
     "name": "stdout",
     "output_type": "stream",
     "text": [
      "[10, 20, 30, 0, 1, 2, 3]\n",
      "[10, 20]\n",
      "[1, 2, 3]\n",
      "[10, 20, 1, 2, 3]\n"
     ]
    }
   ],
   "source": [
    "my_list = []\n",
    "\n",
    "my_list.append(10)\n",
    "my_list.append(20)\n",
    "\n",
    "my_list = my_list + [ 30 ]\n",
    "\n",
    "my_list += range(4)\n",
    "# this is the same as: my_list = my_list + range(4)\n",
    "\n",
    "print( my_list )\n",
    "print( my_list[:2] )\n",
    "print( my_list[4:] )\n",
    "print( my_list[:2]+my_list[4:] )"
   ]
  },
  {
   "cell_type": "markdown",
   "metadata": {},
   "source": [
    "If lists are ordered sequences of objects, **Dictionaries** are for when there's no necessary order.\n",
    "\n",
    "The elements of a dictionary are pairs of **keys** and **values**.\n",
    "\n",
    "Here's how to create a dictionary and populate it with key-value pairs:"
   ]
  },
  {
   "cell_type": "code",
   "execution_count": 7,
   "metadata": {},
   "outputs": [
    {
     "name": "stdout",
     "output_type": "stream",
     "text": [
      "{'host': 'EASt', 'location': 'Brussels', 'event': 'workshop'}\n",
      "['host', 'location', 'event']\n",
      "['EASt', 'Brussels', 'workshop']\n"
     ]
    }
   ],
   "source": [
    "my_dict = {}\n",
    "\n",
    "my_dict['location'] = 'Brussels'\n",
    "my_dict['host'] = 'EASt'\n",
    "my_dict['event'] = 'workshop'\n",
    "\n",
    "print my_dict\n",
    "print my_dict.keys()\n",
    "print my_dict.values()"
   ]
  },
  {
   "cell_type": "markdown",
   "metadata": {},
   "source": [
    "Once you have your strings, lists, dictionaries and whatever else, you might want to go through them.\n",
    "\n",
    "**for loops** are one common way to iterate over structures. Here's how to iterate over a range of integers:"
   ]
  },
  {
   "cell_type": "code",
   "execution_count": 8,
   "metadata": {},
   "outputs": [
    {
     "name": "stdout",
     "output_type": "stream",
     "text": [
      "0\n",
      "1\n",
      "2\n",
      "3\n",
      "4\n"
     ]
    }
   ],
   "source": [
    "for i in range(5):\n",
    "    print(i)"
   ]
  },
  {
   "cell_type": "markdown",
   "metadata": {},
   "source": [
    "But you can iterate over any kind of list. For example, here's how to iterate over a list of strings:"
   ]
  },
  {
   "cell_type": "code",
   "execution_count": 9,
   "metadata": {},
   "outputs": [
    {
     "name": "stdout",
     "output_type": "stream",
     "text": [
      "My name is Amelie\n",
      "My name is Tom\n",
      "My name is Niko\n",
      "My name is Ruben\n",
      "My name is Esma\n"
     ]
    }
   ],
   "source": [
    "names  = [ 'Amelie','Tom','Niko','Ruben','Esma' ]\n",
    "\n",
    "for name in names:\n",
    "    print (\"My name is \"+name)"
   ]
  },
  {
   "cell_type": "markdown",
   "metadata": {},
   "source": [
    "And here's how to iterate over two lists at the same time, using **zip**:"
   ]
  },
  {
   "cell_type": "code",
   "execution_count": 10,
   "metadata": {},
   "outputs": [
    {
     "name": "stdout",
     "output_type": "stream",
     "text": [
      "('Amelie', 'was born in', 1968)\n",
      "('Tom', 'was born in', 1984)\n",
      "('Niko', 'was born in', 1977)\n",
      "('Ruben', 'was born in', 1988)\n",
      "('Esma', 'was born in', 1973)\n"
     ]
    }
   ],
   "source": [
    "names  = [ 'Amelie','Tom','Niko','Ruben','Esma' ]\n",
    "births = [ 1968, 1984, 1977, 1988, 1973 ]\n",
    " \n",
    "for i, j in zip(names, births):\n",
    "    print( i, \"was born in\", j )"
   ]
  },
  {
   "cell_type": "markdown",
   "metadata": {},
   "source": [
    "_____________\n",
    "\n",
    "# Data analysis with *pandas*"
   ]
  },
  {
   "cell_type": "code",
   "execution_count": 11,
   "metadata": {
    "collapsed": true
   },
   "outputs": [],
   "source": [
    "import pandas as pd"
   ]
  },
  {
   "cell_type": "markdown",
   "metadata": {},
   "source": [
    "Now that we have fresh python in our heads, we can look into the YouTube comments. We will be using the **pandas** library, which is very common in data analysis tasks.\n",
    "\n",
    "Here, **comments** will be a **DataFrame** object. You can think of this object as a spreadsheet.\n",
    "\n",
    "We will be analysing comments from one video by the K-pop band EXO. You can repeat this analysis with any other video in the dataset.\n",
    "\n",
    "Now let's load the dataset:"
   ]
  },
  {
   "cell_type": "code",
   "execution_count": 12,
   "metadata": {
    "collapsed": true
   },
   "outputs": [],
   "source": [
    "comments = pd.read_csv('data/kpop_videos_metadata/exo/I3dezFzsNss.txt', delimiter='\\t')"
   ]
  },
  {
   "cell_type": "markdown",
   "metadata": {},
   "source": [
    "Show the first rows of **comments**:"
   ]
  },
  {
   "cell_type": "code",
   "execution_count": 13,
   "metadata": {},
   "outputs": [
    {
     "data": {
      "text/html": [
       "<div>\n",
       "<style>\n",
       "    .dataframe thead tr:only-child th {\n",
       "        text-align: right;\n",
       "    }\n",
       "\n",
       "    .dataframe thead th {\n",
       "        text-align: left;\n",
       "    }\n",
       "\n",
       "    .dataframe tbody tr th {\n",
       "        vertical-align: top;\n",
       "    }\n",
       "</style>\n",
       "<table border=\"1\" class=\"dataframe\">\n",
       "  <thead>\n",
       "    <tr style=\"text-align: right;\">\n",
       "      <th></th>\n",
       "      <th>Search</th>\n",
       "      <th>Title</th>\n",
       "      <th>VideoID</th>\n",
       "      <th>CommentID</th>\n",
       "      <th>CommentPublished</th>\n",
       "      <th>CommentUpdated</th>\n",
       "      <th>CommentTextDisplay</th>\n",
       "      <th>CommentAuthorName</th>\n",
       "      <th>CommentAuthorURI</th>\n",
       "      <th>CommentCanReply</th>\n",
       "      <th>CommentTotalReplyCount</th>\n",
       "      <th>CommentisPublic</th>\n",
       "      <th>CommentLikeCount</th>\n",
       "      <th>CommentVewerRating</th>\n",
       "      <th>IsReply</th>\n",
       "      <th>CommentPosterInfo</th>\n",
       "    </tr>\n",
       "  </thead>\n",
       "  <tbody>\n",
       "    <tr>\n",
       "      <th>0</th>\n",
       "      <td>https://www.youtube.com/channel/UCEf_Bc-KVd7on...</td>\n",
       "      <td>EXO_으르렁 (Growl)_Music Video (Korean ver.)</td>\n",
       "      <td>I3dezFzsNss</td>\n",
       "      <td>z22xh5jg4k2qihsxa04t1aokg4s1z3dasi1t0x00bl0rbk...</td>\n",
       "      <td>2017-08-02T12:30:41.000Z</td>\n",
       "      <td>2017-08-02T12:30:41.000Z</td>\n",
       "      <td>hi love your group😍😍</td>\n",
       "      <td>Naomi Nicole Yambao</td>\n",
       "      <td>http://www.youtube.com/channel/UCgKNWcyzGUki05...</td>\n",
       "      <td>false</td>\n",
       "      <td>0.0</td>\n",
       "      <td>True</td>\n",
       "      <td>0.0</td>\n",
       "      <td>none</td>\n",
       "      <td>0.0</td>\n",
       "      <td>NaN</td>\n",
       "    </tr>\n",
       "    <tr>\n",
       "      <th>1</th>\n",
       "      <td>https://www.youtube.com/channel/UCEf_Bc-KVd7on...</td>\n",
       "      <td>EXO_으르렁 (Growl)_Music Video (Korean ver.)</td>\n",
       "      <td>I3dezFzsNss</td>\n",
       "      <td>z23uexlogtr2tlpuxacdp430horwegylmjduvkgwwydw03...</td>\n",
       "      <td>2017-08-02T12:22:35.000Z</td>\n",
       "      <td>2017-08-02T12:22:35.000Z</td>\n",
       "      <td>I reply love exo.</td>\n",
       "      <td>Ahmad Farhan Zarin</td>\n",
       "      <td>http://www.youtube.com/channel/UCPgG5K1vZ11Ml-...</td>\n",
       "      <td>false</td>\n",
       "      <td>0.0</td>\n",
       "      <td>True</td>\n",
       "      <td>0.0</td>\n",
       "      <td>none</td>\n",
       "      <td>0.0</td>\n",
       "      <td>NaN</td>\n",
       "    </tr>\n",
       "    <tr>\n",
       "      <th>2</th>\n",
       "      <td>https://www.youtube.com/channel/UCEf_Bc-KVd7on...</td>\n",
       "      <td>EXO_으르렁 (Growl)_Music Video (Korean ver.)</td>\n",
       "      <td>I3dezFzsNss</td>\n",
       "      <td>z230ibrzhyyqvbb5k04t1aokgimmqowmdk3y52tvq1mlbk...</td>\n",
       "      <td>2017-08-02T10:03:26.000Z</td>\n",
       "      <td>2017-08-02T10:03:26.000Z</td>\n",
       "      <td>I love exo  gussssssss 💜💜💜💜💜💜💜💜💜💜</td>\n",
       "      <td>sheridan tulio</td>\n",
       "      <td>http://www.youtube.com/channel/UCBEz6cQfyxMC9G...</td>\n",
       "      <td>false</td>\n",
       "      <td>0.0</td>\n",
       "      <td>True</td>\n",
       "      <td>0.0</td>\n",
       "      <td>none</td>\n",
       "      <td>0.0</td>\n",
       "      <td>NaN</td>\n",
       "    </tr>\n",
       "    <tr>\n",
       "      <th>3</th>\n",
       "      <td>https://www.youtube.com/channel/UCEf_Bc-KVd7on...</td>\n",
       "      <td>EXO_으르렁 (Growl)_Music Video (Korean ver.)</td>\n",
       "      <td>I3dezFzsNss</td>\n",
       "      <td>z224etfowwr2wvzwm04t1aokgljq3oegusu4ltzmc5mdbk...</td>\n",
       "      <td>2017-08-02T09:13:33.000Z</td>\n",
       "      <td>2017-08-02T09:13:33.000Z</td>\n",
       "      <td>pause the video at exactly 1:10 and you nothic...</td>\n",
       "      <td>Seraph Gaming</td>\n",
       "      <td>http://www.youtube.com/channel/UCfa8YIK7eVm_9g...</td>\n",
       "      <td>false</td>\n",
       "      <td>0.0</td>\n",
       "      <td>True</td>\n",
       "      <td>0.0</td>\n",
       "      <td>none</td>\n",
       "      <td>0.0</td>\n",
       "      <td>NaN</td>\n",
       "    </tr>\n",
       "    <tr>\n",
       "      <th>4</th>\n",
       "      <td>https://www.youtube.com/channel/UCEf_Bc-KVd7on...</td>\n",
       "      <td>EXO_으르렁 (Growl)_Music Video (Korean ver.)</td>\n",
       "      <td>I3dezFzsNss</td>\n",
       "      <td>z22vw5fylsv2sxzaq04t1aokg4nt21krutepbqls05zrbk...</td>\n",
       "      <td>2017-08-01T23:04:24.000Z</td>\n",
       "      <td>2017-08-01T23:04:24.000Z</td>\n",
       "      <td>I have watched this way too many times for my ...</td>\n",
       "      <td>Ashleigh Sharman</td>\n",
       "      <td>http://www.youtube.com/channel/UCCisZVYC0gOOmn...</td>\n",
       "      <td>false</td>\n",
       "      <td>0.0</td>\n",
       "      <td>True</td>\n",
       "      <td>0.0</td>\n",
       "      <td>none</td>\n",
       "      <td>0.0</td>\n",
       "      <td>NaN</td>\n",
       "    </tr>\n",
       "  </tbody>\n",
       "</table>\n",
       "</div>"
      ],
      "text/plain": [
       "                                              Search  \\\n",
       "0  https://www.youtube.com/channel/UCEf_Bc-KVd7on...   \n",
       "1  https://www.youtube.com/channel/UCEf_Bc-KVd7on...   \n",
       "2  https://www.youtube.com/channel/UCEf_Bc-KVd7on...   \n",
       "3  https://www.youtube.com/channel/UCEf_Bc-KVd7on...   \n",
       "4  https://www.youtube.com/channel/UCEf_Bc-KVd7on...   \n",
       "\n",
       "                                       Title      VideoID  \\\n",
       "0  EXO_으르렁 (Growl)_Music Video (Korean ver.)  I3dezFzsNss   \n",
       "1  EXO_으르렁 (Growl)_Music Video (Korean ver.)  I3dezFzsNss   \n",
       "2  EXO_으르렁 (Growl)_Music Video (Korean ver.)  I3dezFzsNss   \n",
       "3  EXO_으르렁 (Growl)_Music Video (Korean ver.)  I3dezFzsNss   \n",
       "4  EXO_으르렁 (Growl)_Music Video (Korean ver.)  I3dezFzsNss   \n",
       "\n",
       "                                           CommentID  \\\n",
       "0  z22xh5jg4k2qihsxa04t1aokg4s1z3dasi1t0x00bl0rbk...   \n",
       "1  z23uexlogtr2tlpuxacdp430horwegylmjduvkgwwydw03...   \n",
       "2  z230ibrzhyyqvbb5k04t1aokgimmqowmdk3y52tvq1mlbk...   \n",
       "3  z224etfowwr2wvzwm04t1aokgljq3oegusu4ltzmc5mdbk...   \n",
       "4  z22vw5fylsv2sxzaq04t1aokg4nt21krutepbqls05zrbk...   \n",
       "\n",
       "           CommentPublished            CommentUpdated  \\\n",
       "0  2017-08-02T12:30:41.000Z  2017-08-02T12:30:41.000Z   \n",
       "1  2017-08-02T12:22:35.000Z  2017-08-02T12:22:35.000Z   \n",
       "2  2017-08-02T10:03:26.000Z  2017-08-02T10:03:26.000Z   \n",
       "3  2017-08-02T09:13:33.000Z  2017-08-02T09:13:33.000Z   \n",
       "4  2017-08-01T23:04:24.000Z  2017-08-01T23:04:24.000Z   \n",
       "\n",
       "                                  CommentTextDisplay    CommentAuthorName  \\\n",
       "0                               hi love your group😍😍  Naomi Nicole Yambao   \n",
       "1                                  I reply love exo.   Ahmad Farhan Zarin   \n",
       "2                  I love exo  gussssssss 💜💜💜💜💜💜💜💜💜💜       sheridan tulio   \n",
       "3  pause the video at exactly 1:10 and you nothic...        Seraph Gaming   \n",
       "4  I have watched this way too many times for my ...     Ashleigh Sharman   \n",
       "\n",
       "                                    CommentAuthorURI CommentCanReply  \\\n",
       "0  http://www.youtube.com/channel/UCgKNWcyzGUki05...           false   \n",
       "1  http://www.youtube.com/channel/UCPgG5K1vZ11Ml-...           false   \n",
       "2  http://www.youtube.com/channel/UCBEz6cQfyxMC9G...           false   \n",
       "3  http://www.youtube.com/channel/UCfa8YIK7eVm_9g...           false   \n",
       "4  http://www.youtube.com/channel/UCCisZVYC0gOOmn...           false   \n",
       "\n",
       "   CommentTotalReplyCount CommentisPublic  CommentLikeCount  \\\n",
       "0                     0.0            True               0.0   \n",
       "1                     0.0            True               0.0   \n",
       "2                     0.0            True               0.0   \n",
       "3                     0.0            True               0.0   \n",
       "4                     0.0            True               0.0   \n",
       "\n",
       "  CommentVewerRating  IsReply  CommentPosterInfo  \n",
       "0               none      0.0                NaN  \n",
       "1               none      0.0                NaN  \n",
       "2               none      0.0                NaN  \n",
       "3               none      0.0                NaN  \n",
       "4               none      0.0                NaN  "
      ]
     },
     "execution_count": 13,
     "metadata": {},
     "output_type": "execute_result"
    }
   ],
   "source": [
    "comments.head()"
   ]
  },
  {
   "cell_type": "markdown",
   "metadata": {},
   "source": [
    "**Filter** the dataframe, to select only part of the comments:"
   ]
  },
  {
   "cell_type": "code",
   "execution_count": 14,
   "metadata": {},
   "outputs": [
    {
     "data": {
      "text/html": [
       "<div>\n",
       "<style>\n",
       "    .dataframe thead tr:only-child th {\n",
       "        text-align: right;\n",
       "    }\n",
       "\n",
       "    .dataframe thead th {\n",
       "        text-align: left;\n",
       "    }\n",
       "\n",
       "    .dataframe tbody tr th {\n",
       "        vertical-align: top;\n",
       "    }\n",
       "</style>\n",
       "<table border=\"1\" class=\"dataframe\">\n",
       "  <thead>\n",
       "    <tr style=\"text-align: right;\">\n",
       "      <th></th>\n",
       "      <th>CommentPublished</th>\n",
       "      <th>CommentTextDisplay</th>\n",
       "      <th>CommentAuthorName</th>\n",
       "      <th>CommentLikeCount</th>\n",
       "    </tr>\n",
       "  </thead>\n",
       "  <tbody>\n",
       "    <tr>\n",
       "      <th>0</th>\n",
       "      <td>2017-08-02T12:30:41.000Z</td>\n",
       "      <td>hi love your group😍😍</td>\n",
       "      <td>Naomi Nicole Yambao</td>\n",
       "      <td>0.0</td>\n",
       "    </tr>\n",
       "    <tr>\n",
       "      <th>1</th>\n",
       "      <td>2017-08-02T12:22:35.000Z</td>\n",
       "      <td>I reply love exo.</td>\n",
       "      <td>Ahmad Farhan Zarin</td>\n",
       "      <td>0.0</td>\n",
       "    </tr>\n",
       "    <tr>\n",
       "      <th>2</th>\n",
       "      <td>2017-08-02T10:03:26.000Z</td>\n",
       "      <td>I love exo  gussssssss 💜💜💜💜💜💜💜💜💜💜</td>\n",
       "      <td>sheridan tulio</td>\n",
       "      <td>0.0</td>\n",
       "    </tr>\n",
       "    <tr>\n",
       "      <th>3</th>\n",
       "      <td>2017-08-02T09:13:33.000Z</td>\n",
       "      <td>pause the video at exactly 1:10 and you nothic...</td>\n",
       "      <td>Seraph Gaming</td>\n",
       "      <td>0.0</td>\n",
       "    </tr>\n",
       "    <tr>\n",
       "      <th>4</th>\n",
       "      <td>2017-08-01T23:04:24.000Z</td>\n",
       "      <td>I have watched this way too many times for my ...</td>\n",
       "      <td>Ashleigh Sharman</td>\n",
       "      <td>0.0</td>\n",
       "    </tr>\n",
       "  </tbody>\n",
       "</table>\n",
       "</div>"
      ],
      "text/plain": [
       "           CommentPublished  \\\n",
       "0  2017-08-02T12:30:41.000Z   \n",
       "1  2017-08-02T12:22:35.000Z   \n",
       "2  2017-08-02T10:03:26.000Z   \n",
       "3  2017-08-02T09:13:33.000Z   \n",
       "4  2017-08-01T23:04:24.000Z   \n",
       "\n",
       "                                  CommentTextDisplay    CommentAuthorName  \\\n",
       "0                               hi love your group😍😍  Naomi Nicole Yambao   \n",
       "1                                  I reply love exo.   Ahmad Farhan Zarin   \n",
       "2                  I love exo  gussssssss 💜💜💜💜💜💜💜💜💜💜       sheridan tulio   \n",
       "3  pause the video at exactly 1:10 and you nothic...        Seraph Gaming   \n",
       "4  I have watched this way too many times for my ...     Ashleigh Sharman   \n",
       "\n",
       "   CommentLikeCount  \n",
       "0               0.0  \n",
       "1               0.0  \n",
       "2               0.0  \n",
       "3               0.0  \n",
       "4               0.0  "
      ]
     },
     "execution_count": 14,
     "metadata": {},
     "output_type": "execute_result"
    }
   ],
   "source": [
    "comments = comments.filter(items=['CommentPublished','CommentTextDisplay','CommentAuthorName','CommentLikeCount'])\n",
    "\n",
    "comments.head()"
   ]
  },
  {
   "cell_type": "markdown",
   "metadata": {},
   "source": [
    "Filters can be combined. The result is always another dataframe:"
   ]
  },
  {
   "cell_type": "code",
   "execution_count": 15,
   "metadata": {},
   "outputs": [
    {
     "data": {
      "text/html": [
       "<div>\n",
       "<style>\n",
       "    .dataframe thead tr:only-child th {\n",
       "        text-align: right;\n",
       "    }\n",
       "\n",
       "    .dataframe thead th {\n",
       "        text-align: left;\n",
       "    }\n",
       "\n",
       "    .dataframe tbody tr th {\n",
       "        vertical-align: top;\n",
       "    }\n",
       "</style>\n",
       "<table border=\"1\" class=\"dataframe\">\n",
       "  <thead>\n",
       "    <tr style=\"text-align: right;\">\n",
       "      <th></th>\n",
       "      <th>CommentPublished</th>\n",
       "      <th>CommentTextDisplay</th>\n",
       "      <th>CommentAuthorName</th>\n",
       "      <th>CommentLikeCount</th>\n",
       "    </tr>\n",
       "  </thead>\n",
       "  <tbody>\n",
       "    <tr>\n",
       "      <th>5</th>\n",
       "      <td>2017-08-01T16:33:42.000Z</td>\n",
       "      <td>watching this video in 2017. i hope kokobop ge...</td>\n",
       "      <td>Ria Torres</td>\n",
       "      <td>2.0</td>\n",
       "    </tr>\n",
       "    <tr>\n",
       "      <th>7</th>\n",
       "      <td>2017-08-01T11:39:31.000Z</td>\n",
       "      <td>3:01 though😂😂 chanyeol still memorize when he ...</td>\n",
       "      <td>FOUR Friends</td>\n",
       "      <td>2.0</td>\n",
       "    </tr>\n",
       "    <tr>\n",
       "      <th>9</th>\n",
       "      <td>2017-08-01T10:56:39.000Z</td>\n",
       "      <td>Still love that save by kai at 2:16 xdd</td>\n",
       "      <td>Johan Pagdanganan</td>\n",
       "      <td>2.0</td>\n",
       "    </tr>\n",
       "    <tr>\n",
       "      <th>13</th>\n",
       "      <td>2017-08-01T06:47:11.000Z</td>\n",
       "      <td>august 2017 and im still here watching this ㅋㅋㅋ</td>\n",
       "      <td>Prisca Cynthia Limardi</td>\n",
       "      <td>2.0</td>\n",
       "    </tr>\n",
       "    <tr>\n",
       "      <th>16</th>\n",
       "      <td>2017-07-31T21:41:59.000Z</td>\n",
       "      <td>Didn't anyone notice the silhouette on D.O.'s ...</td>\n",
       "      <td>Leila Moreno</td>\n",
       "      <td>1.0</td>\n",
       "    </tr>\n",
       "  </tbody>\n",
       "</table>\n",
       "</div>"
      ],
      "text/plain": [
       "            CommentPublished  \\\n",
       "5   2017-08-01T16:33:42.000Z   \n",
       "7   2017-08-01T11:39:31.000Z   \n",
       "9   2017-08-01T10:56:39.000Z   \n",
       "13  2017-08-01T06:47:11.000Z   \n",
       "16  2017-07-31T21:41:59.000Z   \n",
       "\n",
       "                                   CommentTextDisplay       CommentAuthorName  \\\n",
       "5   watching this video in 2017. i hope kokobop ge...              Ria Torres   \n",
       "7   3:01 though😂😂 chanyeol still memorize when he ...            FOUR Friends   \n",
       "9             Still love that save by kai at 2:16 xdd       Johan Pagdanganan   \n",
       "13    august 2017 and im still here watching this ㅋㅋㅋ  Prisca Cynthia Limardi   \n",
       "16  Didn't anyone notice the silhouette on D.O.'s ...            Leila Moreno   \n",
       "\n",
       "    CommentLikeCount  \n",
       "5                2.0  \n",
       "7                2.0  \n",
       "9                2.0  \n",
       "13               2.0  \n",
       "16               1.0  "
      ]
     },
     "execution_count": 15,
     "metadata": {},
     "output_type": "execute_result"
    }
   ],
   "source": [
    "one_two_likes = comments[ (comments['CommentLikeCount'] >= 1) & (comments['CommentLikeCount'] <= 2) ]\n",
    "\n",
    "one_two_likes.head()"
   ]
  },
  {
   "cell_type": "markdown",
   "metadata": {},
   "source": [
    "Another way to use filters is to create token columns with _True_ for the rows that pass these filters and _False_ for the rows that do not. Here we define a new column called _SomeLikes_, which is _True_ for rows with _CommentLikeCount_ >= 1 and <= 2. "
   ]
  },
  {
   "cell_type": "code",
   "execution_count": 16,
   "metadata": {},
   "outputs": [
    {
     "data": {
      "text/html": [
       "<div>\n",
       "<style>\n",
       "    .dataframe thead tr:only-child th {\n",
       "        text-align: right;\n",
       "    }\n",
       "\n",
       "    .dataframe thead th {\n",
       "        text-align: left;\n",
       "    }\n",
       "\n",
       "    .dataframe tbody tr th {\n",
       "        vertical-align: top;\n",
       "    }\n",
       "</style>\n",
       "<table border=\"1\" class=\"dataframe\">\n",
       "  <thead>\n",
       "    <tr style=\"text-align: right;\">\n",
       "      <th></th>\n",
       "      <th>CommentPublished</th>\n",
       "      <th>CommentTextDisplay</th>\n",
       "      <th>CommentAuthorName</th>\n",
       "      <th>CommentLikeCount</th>\n",
       "      <th>SomeLikes</th>\n",
       "    </tr>\n",
       "  </thead>\n",
       "  <tbody>\n",
       "    <tr>\n",
       "      <th>0</th>\n",
       "      <td>2017-08-02T12:30:41.000Z</td>\n",
       "      <td>hi love your group😍😍</td>\n",
       "      <td>Naomi Nicole Yambao</td>\n",
       "      <td>0.0</td>\n",
       "      <td>False</td>\n",
       "    </tr>\n",
       "    <tr>\n",
       "      <th>1</th>\n",
       "      <td>2017-08-02T12:22:35.000Z</td>\n",
       "      <td>I reply love exo.</td>\n",
       "      <td>Ahmad Farhan Zarin</td>\n",
       "      <td>0.0</td>\n",
       "      <td>False</td>\n",
       "    </tr>\n",
       "    <tr>\n",
       "      <th>2</th>\n",
       "      <td>2017-08-02T10:03:26.000Z</td>\n",
       "      <td>I love exo  gussssssss 💜💜💜💜💜💜💜💜💜💜</td>\n",
       "      <td>sheridan tulio</td>\n",
       "      <td>0.0</td>\n",
       "      <td>False</td>\n",
       "    </tr>\n",
       "    <tr>\n",
       "      <th>3</th>\n",
       "      <td>2017-08-02T09:13:33.000Z</td>\n",
       "      <td>pause the video at exactly 1:10 and you nothic...</td>\n",
       "      <td>Seraph Gaming</td>\n",
       "      <td>0.0</td>\n",
       "      <td>False</td>\n",
       "    </tr>\n",
       "    <tr>\n",
       "      <th>4</th>\n",
       "      <td>2017-08-01T23:04:24.000Z</td>\n",
       "      <td>I have watched this way too many times for my ...</td>\n",
       "      <td>Ashleigh Sharman</td>\n",
       "      <td>0.0</td>\n",
       "      <td>False</td>\n",
       "    </tr>\n",
       "  </tbody>\n",
       "</table>\n",
       "</div>"
      ],
      "text/plain": [
       "           CommentPublished  \\\n",
       "0  2017-08-02T12:30:41.000Z   \n",
       "1  2017-08-02T12:22:35.000Z   \n",
       "2  2017-08-02T10:03:26.000Z   \n",
       "3  2017-08-02T09:13:33.000Z   \n",
       "4  2017-08-01T23:04:24.000Z   \n",
       "\n",
       "                                  CommentTextDisplay    CommentAuthorName  \\\n",
       "0                               hi love your group😍😍  Naomi Nicole Yambao   \n",
       "1                                  I reply love exo.   Ahmad Farhan Zarin   \n",
       "2                  I love exo  gussssssss 💜💜💜💜💜💜💜💜💜💜       sheridan tulio   \n",
       "3  pause the video at exactly 1:10 and you nothic...        Seraph Gaming   \n",
       "4  I have watched this way too many times for my ...     Ashleigh Sharman   \n",
       "\n",
       "   CommentLikeCount  SomeLikes  \n",
       "0               0.0      False  \n",
       "1               0.0      False  \n",
       "2               0.0      False  \n",
       "3               0.0      False  \n",
       "4               0.0      False  "
      ]
     },
     "execution_count": 16,
     "metadata": {},
     "output_type": "execute_result"
    }
   ],
   "source": [
    "comments['SomeLikes'] = (comments['CommentLikeCount'] >= 1) & (comments['CommentLikeCount'] <= 2)\n",
    "\n",
    "comments.head()"
   ]
  },
  {
   "cell_type": "markdown",
   "metadata": {},
   "source": [
    "Columns can be removed with **del**:"
   ]
  },
  {
   "cell_type": "code",
   "execution_count": 17,
   "metadata": {},
   "outputs": [
    {
     "data": {
      "text/html": [
       "<div>\n",
       "<style>\n",
       "    .dataframe thead tr:only-child th {\n",
       "        text-align: right;\n",
       "    }\n",
       "\n",
       "    .dataframe thead th {\n",
       "        text-align: left;\n",
       "    }\n",
       "\n",
       "    .dataframe tbody tr th {\n",
       "        vertical-align: top;\n",
       "    }\n",
       "</style>\n",
       "<table border=\"1\" class=\"dataframe\">\n",
       "  <thead>\n",
       "    <tr style=\"text-align: right;\">\n",
       "      <th></th>\n",
       "      <th>CommentPublished</th>\n",
       "      <th>CommentTextDisplay</th>\n",
       "      <th>CommentAuthorName</th>\n",
       "      <th>CommentLikeCount</th>\n",
       "    </tr>\n",
       "  </thead>\n",
       "  <tbody>\n",
       "    <tr>\n",
       "      <th>0</th>\n",
       "      <td>2017-08-02T12:30:41.000Z</td>\n",
       "      <td>hi love your group😍😍</td>\n",
       "      <td>Naomi Nicole Yambao</td>\n",
       "      <td>0.0</td>\n",
       "    </tr>\n",
       "    <tr>\n",
       "      <th>1</th>\n",
       "      <td>2017-08-02T12:22:35.000Z</td>\n",
       "      <td>I reply love exo.</td>\n",
       "      <td>Ahmad Farhan Zarin</td>\n",
       "      <td>0.0</td>\n",
       "    </tr>\n",
       "    <tr>\n",
       "      <th>2</th>\n",
       "      <td>2017-08-02T10:03:26.000Z</td>\n",
       "      <td>I love exo  gussssssss 💜💜💜💜💜💜💜💜💜💜</td>\n",
       "      <td>sheridan tulio</td>\n",
       "      <td>0.0</td>\n",
       "    </tr>\n",
       "    <tr>\n",
       "      <th>3</th>\n",
       "      <td>2017-08-02T09:13:33.000Z</td>\n",
       "      <td>pause the video at exactly 1:10 and you nothic...</td>\n",
       "      <td>Seraph Gaming</td>\n",
       "      <td>0.0</td>\n",
       "    </tr>\n",
       "    <tr>\n",
       "      <th>4</th>\n",
       "      <td>2017-08-01T23:04:24.000Z</td>\n",
       "      <td>I have watched this way too many times for my ...</td>\n",
       "      <td>Ashleigh Sharman</td>\n",
       "      <td>0.0</td>\n",
       "    </tr>\n",
       "  </tbody>\n",
       "</table>\n",
       "</div>"
      ],
      "text/plain": [
       "           CommentPublished  \\\n",
       "0  2017-08-02T12:30:41.000Z   \n",
       "1  2017-08-02T12:22:35.000Z   \n",
       "2  2017-08-02T10:03:26.000Z   \n",
       "3  2017-08-02T09:13:33.000Z   \n",
       "4  2017-08-01T23:04:24.000Z   \n",
       "\n",
       "                                  CommentTextDisplay    CommentAuthorName  \\\n",
       "0                               hi love your group😍😍  Naomi Nicole Yambao   \n",
       "1                                  I reply love exo.   Ahmad Farhan Zarin   \n",
       "2                  I love exo  gussssssss 💜💜💜💜💜💜💜💜💜💜       sheridan tulio   \n",
       "3  pause the video at exactly 1:10 and you nothic...        Seraph Gaming   \n",
       "4  I have watched this way too many times for my ...     Ashleigh Sharman   \n",
       "\n",
       "   CommentLikeCount  \n",
       "0               0.0  \n",
       "1               0.0  \n",
       "2               0.0  \n",
       "3               0.0  \n",
       "4               0.0  "
      ]
     },
     "execution_count": 17,
     "metadata": {},
     "output_type": "execute_result"
    }
   ],
   "source": [
    "del comments['SomeLikes']\n",
    "\n",
    "comments.head()"
   ]
  },
  {
   "cell_type": "markdown",
   "metadata": {},
   "source": [
    "There is more than one way to access a column and its values.\n",
    "\n",
    "In the code below, both _comments.head()['CommentTextDisplay']_ and _comments.head().CommentTextDisplay_ show the text of the first 5 comments, with their indices on the side, while _comments.head().CommentTextDisplay.values_ does not show the indices.\n",
    "\n",
    "Note how any emoji or special characters disappear with the third option as well."
   ]
  },
  {
   "cell_type": "code",
   "execution_count": 18,
   "metadata": {},
   "outputs": [
    {
     "name": "stdout",
     "output_type": "stream",
     "text": [
      "0                                 hi love your group😍😍\n",
      "1                                    I reply love exo.\n",
      "2                    I love exo  gussssssss 💜💜💜💜💜💜💜💜💜💜\n",
      "3    pause the video at exactly 1:10 and you nothic...\n",
      "4    I have watched this way too many times for my ...\n",
      "Name: CommentTextDisplay, dtype: object\n",
      "\n",
      "---------------------------------------------------------\n",
      "\n",
      "0                                 hi love your group😍😍\n",
      "1                                    I reply love exo.\n",
      "2                    I love exo  gussssssss 💜💜💜💜💜💜💜💜💜💜\n",
      "3    pause the video at exactly 1:10 and you nothic...\n",
      "4    I have watched this way too many times for my ...\n",
      "Name: CommentTextDisplay, dtype: object\n",
      "\n",
      "---------------------------------------------------------\n",
      "\n",
      "['hi love your group\\xf0\\x9f\\x98\\x8d\\xf0\\x9f\\x98\\x8d' 'I reply love exo.'\n",
      " 'I love exo  gussssssss \\xf0\\x9f\\x92\\x9c\\xf0\\x9f\\x92\\x9c\\xf0\\x9f\\x92\\x9c\\xf0\\x9f\\x92\\x9c\\xf0\\x9f\\x92\\x9c\\xf0\\x9f\\x92\\x9c\\xf0\\x9f\\x92\\x9c\\xf0\\x9f\\x92\\x9c\\xf0\\x9f\\x92\\x9c\\xf0\\x9f\\x92\\x9c'\n",
      " 'pause the video at exactly 1:10 and you nothice that theres a person in top right in the window like if u scared'\n",
      " 'I have watched this way too many times for my parents to not consider sending me to a mental asylum']\n"
     ]
    }
   ],
   "source": [
    "print( comments.head()['CommentTextDisplay'] )\n",
    "\n",
    "print (\"\\n---------------------------------------------------------\\n\")\n",
    "\n",
    "print( comments.head().CommentTextDisplay )\n",
    "\n",
    "print (\"\\n---------------------------------------------------------\\n\")\n",
    "\n",
    "print( comments.head().CommentTextDisplay.values )"
   ]
  },
  {
   "cell_type": "markdown",
   "metadata": {},
   "source": [
    "Here is how to print one specific row of the dataframe:"
   ]
  },
  {
   "cell_type": "code",
   "execution_count": 19,
   "metadata": {},
   "outputs": [
    {
     "name": "stdout",
     "output_type": "stream",
     "text": [
      "CommentPublished                               2017-07-31T13:41:53.000Z\n",
      "CommentTextDisplay    Did anyone else notice kai drop his hat at 2:1...\n",
      "CommentAuthorName                                           Magic Touch\n",
      "CommentLikeCount                                                      2\n",
      "Name: 19, dtype: object\n"
     ]
    }
   ],
   "source": [
    "print (comments.loc[19])"
   ]
  },
  {
   "cell_type": "markdown",
   "metadata": {},
   "source": [
    "And here is how to print one specific field from that row:"
   ]
  },
  {
   "cell_type": "code",
   "execution_count": 20,
   "metadata": {},
   "outputs": [
    {
     "name": "stdout",
     "output_type": "stream",
     "text": [
      "Did anyone else notice kai drop his hat at 2:14 😂😂❤❤\n"
     ]
    }
   ],
   "source": [
    "print (comments.loc[19].CommentTextDisplay)"
   ]
  },
  {
   "cell_type": "markdown",
   "metadata": {},
   "source": [
    "### Exercise 1:\n",
    "\n",
    "Pick another YouTube video, by one of the four bands, load the file and find the most liked comment. You will need the function **max()**, which returns the maximum value of a list (of numbers, normally)."
   ]
  },
  {
   "cell_type": "markdown",
   "metadata": {},
   "source": [
    "_____________\n",
    "\n",
    "# Basic statistics and data visualisation"
   ]
  },
  {
   "cell_type": "markdown",
   "metadata": {},
   "source": [
    "Now it is time to visualise some of the statistics of this dataset. But first, we need to process this data a little bit.\n",
    "\n",
    "If we look again at our dataframe **comments**, we can see that each comment has a unique date and time, indicated in **CommentPublished**:"
   ]
  },
  {
   "cell_type": "code",
   "execution_count": 21,
   "metadata": {},
   "outputs": [
    {
     "data": {
      "text/html": [
       "<div>\n",
       "<style>\n",
       "    .dataframe thead tr:only-child th {\n",
       "        text-align: right;\n",
       "    }\n",
       "\n",
       "    .dataframe thead th {\n",
       "        text-align: left;\n",
       "    }\n",
       "\n",
       "    .dataframe tbody tr th {\n",
       "        vertical-align: top;\n",
       "    }\n",
       "</style>\n",
       "<table border=\"1\" class=\"dataframe\">\n",
       "  <thead>\n",
       "    <tr style=\"text-align: right;\">\n",
       "      <th></th>\n",
       "      <th>CommentPublished</th>\n",
       "      <th>CommentTextDisplay</th>\n",
       "      <th>CommentAuthorName</th>\n",
       "      <th>CommentLikeCount</th>\n",
       "    </tr>\n",
       "  </thead>\n",
       "  <tbody>\n",
       "    <tr>\n",
       "      <th>0</th>\n",
       "      <td>2017-08-02T12:30:41.000Z</td>\n",
       "      <td>hi love your group😍😍</td>\n",
       "      <td>Naomi Nicole Yambao</td>\n",
       "      <td>0.0</td>\n",
       "    </tr>\n",
       "    <tr>\n",
       "      <th>1</th>\n",
       "      <td>2017-08-02T12:22:35.000Z</td>\n",
       "      <td>I reply love exo.</td>\n",
       "      <td>Ahmad Farhan Zarin</td>\n",
       "      <td>0.0</td>\n",
       "    </tr>\n",
       "    <tr>\n",
       "      <th>2</th>\n",
       "      <td>2017-08-02T10:03:26.000Z</td>\n",
       "      <td>I love exo  gussssssss 💜💜💜💜💜💜💜💜💜💜</td>\n",
       "      <td>sheridan tulio</td>\n",
       "      <td>0.0</td>\n",
       "    </tr>\n",
       "    <tr>\n",
       "      <th>3</th>\n",
       "      <td>2017-08-02T09:13:33.000Z</td>\n",
       "      <td>pause the video at exactly 1:10 and you nothic...</td>\n",
       "      <td>Seraph Gaming</td>\n",
       "      <td>0.0</td>\n",
       "    </tr>\n",
       "    <tr>\n",
       "      <th>4</th>\n",
       "      <td>2017-08-01T23:04:24.000Z</td>\n",
       "      <td>I have watched this way too many times for my ...</td>\n",
       "      <td>Ashleigh Sharman</td>\n",
       "      <td>0.0</td>\n",
       "    </tr>\n",
       "  </tbody>\n",
       "</table>\n",
       "</div>"
      ],
      "text/plain": [
       "           CommentPublished  \\\n",
       "0  2017-08-02T12:30:41.000Z   \n",
       "1  2017-08-02T12:22:35.000Z   \n",
       "2  2017-08-02T10:03:26.000Z   \n",
       "3  2017-08-02T09:13:33.000Z   \n",
       "4  2017-08-01T23:04:24.000Z   \n",
       "\n",
       "                                  CommentTextDisplay    CommentAuthorName  \\\n",
       "0                               hi love your group😍😍  Naomi Nicole Yambao   \n",
       "1                                  I reply love exo.   Ahmad Farhan Zarin   \n",
       "2                  I love exo  gussssssss 💜💜💜💜💜💜💜💜💜💜       sheridan tulio   \n",
       "3  pause the video at exactly 1:10 and you nothic...        Seraph Gaming   \n",
       "4  I have watched this way too many times for my ...     Ashleigh Sharman   \n",
       "\n",
       "   CommentLikeCount  \n",
       "0               0.0  \n",
       "1               0.0  \n",
       "2               0.0  \n",
       "3               0.0  \n",
       "4               0.0  "
      ]
     },
     "execution_count": 21,
     "metadata": {},
     "output_type": "execute_result"
    }
   ],
   "source": [
    "comments.head()"
   ]
  },
  {
   "cell_type": "markdown",
   "metadata": {},
   "source": [
    "We can change that by using the datetime library to turn that string into year, month, day, hour, minute and second.\n",
    "\n",
    "Note how _comments['CommentDateTime']_ is written: this combination of _apply_ and _lambda_ is another way to define a column of your dataframe as a function of other columns."
   ]
  },
  {
   "cell_type": "code",
   "execution_count": 22,
   "metadata": {},
   "outputs": [
    {
     "name": "stdout",
     "output_type": "stream",
     "text": [
      "('min CommentDateTime =', Timestamp('2013-08-01 00:31:48+0000', tz='UTC'))\n",
      "('max CommentDateTime =', Timestamp('2017-08-02 14:00:39+0000', tz='UTC'))\n"
     ]
    }
   ],
   "source": [
    "from datetime import datetime\n",
    "from dateutil import parser\n",
    "\n",
    "comments['CommentDateTime'] = comments.apply( lambda row: parser.parse(row.CommentPublished), axis=1 )  \n",
    "\n",
    "print( \"min CommentDateTime =\", comments.CommentDateTime.min() )\n",
    "print( \"max CommentDateTime =\", comments.CommentDateTime.max() )"
   ]
  },
  {
   "cell_type": "markdown",
   "metadata": {},
   "source": [
    "Let's also add the column *hour*, indicating the time of the day when each comment was posted."
   ]
  },
  {
   "cell_type": "code",
   "execution_count": 23,
   "metadata": {
    "scrolled": true
   },
   "outputs": [
    {
     "data": {
      "text/html": [
       "<div>\n",
       "<style>\n",
       "    .dataframe thead tr:only-child th {\n",
       "        text-align: right;\n",
       "    }\n",
       "\n",
       "    .dataframe thead th {\n",
       "        text-align: left;\n",
       "    }\n",
       "\n",
       "    .dataframe tbody tr th {\n",
       "        vertical-align: top;\n",
       "    }\n",
       "</style>\n",
       "<table border=\"1\" class=\"dataframe\">\n",
       "  <thead>\n",
       "    <tr style=\"text-align: right;\">\n",
       "      <th></th>\n",
       "      <th>CommentPublished</th>\n",
       "      <th>CommentTextDisplay</th>\n",
       "      <th>CommentAuthorName</th>\n",
       "      <th>CommentLikeCount</th>\n",
       "      <th>CommentDateTime</th>\n",
       "      <th>hour</th>\n",
       "    </tr>\n",
       "  </thead>\n",
       "  <tbody>\n",
       "    <tr>\n",
       "      <th>0</th>\n",
       "      <td>2017-08-02T12:30:41.000Z</td>\n",
       "      <td>hi love your group😍😍</td>\n",
       "      <td>Naomi Nicole Yambao</td>\n",
       "      <td>0.0</td>\n",
       "      <td>2017-08-02 12:30:41+00:00</td>\n",
       "      <td>12</td>\n",
       "    </tr>\n",
       "    <tr>\n",
       "      <th>1</th>\n",
       "      <td>2017-08-02T12:22:35.000Z</td>\n",
       "      <td>I reply love exo.</td>\n",
       "      <td>Ahmad Farhan Zarin</td>\n",
       "      <td>0.0</td>\n",
       "      <td>2017-08-02 12:22:35+00:00</td>\n",
       "      <td>12</td>\n",
       "    </tr>\n",
       "    <tr>\n",
       "      <th>2</th>\n",
       "      <td>2017-08-02T10:03:26.000Z</td>\n",
       "      <td>I love exo  gussssssss 💜💜💜💜💜💜💜💜💜💜</td>\n",
       "      <td>sheridan tulio</td>\n",
       "      <td>0.0</td>\n",
       "      <td>2017-08-02 10:03:26+00:00</td>\n",
       "      <td>10</td>\n",
       "    </tr>\n",
       "    <tr>\n",
       "      <th>3</th>\n",
       "      <td>2017-08-02T09:13:33.000Z</td>\n",
       "      <td>pause the video at exactly 1:10 and you nothic...</td>\n",
       "      <td>Seraph Gaming</td>\n",
       "      <td>0.0</td>\n",
       "      <td>2017-08-02 09:13:33+00:00</td>\n",
       "      <td>9</td>\n",
       "    </tr>\n",
       "    <tr>\n",
       "      <th>4</th>\n",
       "      <td>2017-08-01T23:04:24.000Z</td>\n",
       "      <td>I have watched this way too many times for my ...</td>\n",
       "      <td>Ashleigh Sharman</td>\n",
       "      <td>0.0</td>\n",
       "      <td>2017-08-01 23:04:24+00:00</td>\n",
       "      <td>23</td>\n",
       "    </tr>\n",
       "  </tbody>\n",
       "</table>\n",
       "</div>"
      ],
      "text/plain": [
       "           CommentPublished  \\\n",
       "0  2017-08-02T12:30:41.000Z   \n",
       "1  2017-08-02T12:22:35.000Z   \n",
       "2  2017-08-02T10:03:26.000Z   \n",
       "3  2017-08-02T09:13:33.000Z   \n",
       "4  2017-08-01T23:04:24.000Z   \n",
       "\n",
       "                                  CommentTextDisplay    CommentAuthorName  \\\n",
       "0                               hi love your group😍😍  Naomi Nicole Yambao   \n",
       "1                                  I reply love exo.   Ahmad Farhan Zarin   \n",
       "2                  I love exo  gussssssss 💜💜💜💜💜💜💜💜💜💜       sheridan tulio   \n",
       "3  pause the video at exactly 1:10 and you nothic...        Seraph Gaming   \n",
       "4  I have watched this way too many times for my ...     Ashleigh Sharman   \n",
       "\n",
       "   CommentLikeCount           CommentDateTime  hour  \n",
       "0               0.0 2017-08-02 12:30:41+00:00    12  \n",
       "1               0.0 2017-08-02 12:22:35+00:00    12  \n",
       "2               0.0 2017-08-02 10:03:26+00:00    10  \n",
       "3               0.0 2017-08-02 09:13:33+00:00     9  \n",
       "4               0.0 2017-08-01 23:04:24+00:00    23  "
      ]
     },
     "execution_count": 23,
     "metadata": {},
     "output_type": "execute_result"
    }
   ],
   "source": [
    "comments['hour'] = comments.apply( lambda row: row.CommentDateTime.hour, axis=1 )  \n",
    "\n",
    "comments.head()"
   ]
  },
  {
   "cell_type": "markdown",
   "metadata": {},
   "source": [
    "Finally, let's also remove any rows containing null (_NaN_) results."
   ]
  },
  {
   "cell_type": "code",
   "execution_count": 24,
   "metadata": {
    "collapsed": true
   },
   "outputs": [],
   "source": [
    "comments = comments.dropna()"
   ]
  },
  {
   "cell_type": "markdown",
   "metadata": {},
   "source": [
    "_____________\n",
    "### Visualising comments over time"
   ]
  },
  {
   "cell_type": "code",
   "execution_count": 25,
   "metadata": {
    "collapsed": true
   },
   "outputs": [],
   "source": [
    "import matplotlib.pyplot as plt\n",
    "import seaborn as sns\n",
    "sns.set()\n",
    "sns.set(color_codes=True)\n",
    "sns.set_context(\"notebook\", font_scale=1.5, rc={\"lines.linewidth\": 2.5})"
   ]
  },
  {
   "cell_type": "code",
   "execution_count": 26,
   "metadata": {},
   "outputs": [
    {
     "name": "stderr",
     "output_type": "stream",
     "text": [
      "/home/chico/.local/lib/python2.7/site-packages/matplotlib/font_manager.py:1297: UserWarning: findfont: Font family [u'sans-serif'] not found. Falling back to DejaVu Sans\n",
      "  (prop.get_family(), self.defaultFamily[fontext]))\n"
     ]
    },
    {
     "data": {
      "image/png": "[encoded data removed]",
      "text/plain": [
       "<matplotlib.figure.Figure at 0x7faa31e934d0>"
      ]
     },
     "metadata": {},
     "output_type": "display_data"
    }
   ],
   "source": [
    "g = sns.factorplot(x=\"hour\", data=comments, kind=\"count\", size=6, aspect=1.5)\n",
    "plt.show()"
   ]
  },
  {
   "cell_type": "markdown",
   "metadata": {},
   "source": [
    "### Visualising number of likes per comment"
   ]
  },
  {
   "cell_type": "code",
   "execution_count": 62,
   "metadata": {},
   "outputs": [
    {
     "name": "stdout",
     "output_type": "stream",
     "text": [
      "The mean number of likes per comment is 2.57123025184\n"
     ]
    }
   ],
   "source": [
    "print( \"The mean number of likes per comment is \"+str(comments.CommentLikeCount.mean()) ) "
   ]
  },
  {
   "cell_type": "code",
   "execution_count": 28,
   "metadata": {},
   "outputs": [
    {
     "data": {
      "image/png": "[encoded data removed]",
      "text/plain": [
       "<matplotlib.figure.Figure at 0x7faa234a4ad0>"
      ]
     },
     "metadata": {},
     "output_type": "display_data"
    }
   ],
   "source": [
    "g = sns.distplot( comments.CommentLikeCount , kde=False, rug=False, color='g' )\n",
    "\n",
    "g = g.set_ylabel('number of comments')\n",
    "\n",
    "plt.yscale('log')\n",
    "plt.show()"
   ]
  },
  {
   "cell_type": "markdown",
   "metadata": {},
   "source": [
    "We can look in more detail at the comments with the most likes."
   ]
  },
  {
   "cell_type": "code",
   "execution_count": 29,
   "metadata": {},
   "outputs": [
    {
     "name": "stdout",
     "output_type": "stream",
     "text": [
      "2415.0 likes: Who's watching this in 2017?\n",
      "\n",
      "2286.0 likes: The day came today where I finally learnt all of their names  And honestly it feels like one of the greatest accomplishments of my life lmao\n",
      "\n",
      "2108.0 likes: *aggressively stares at my bias*\n",
      "\n",
      "3821.0 likes: I still remember the day I first watched this mv. I was so overwhelmed and taken aback. It's been a wild ride and I'm still here. Love Exo, love anyone who continues to support ot9.\n",
      "\n",
      "2330.0 likes: 2012- i found you.  2013- i fell in love with you.  2014- i missed you.  2015- i trusted you  2016- i still  support you.\n",
      "\n"
     ]
    }
   ],
   "source": [
    "for index, row in comments[ comments.CommentLikeCount > 2000 ].iterrows():\n",
    "    print str(row.CommentLikeCount) + \" likes: \" + row.CommentTextDisplay + \"\\n\""
   ]
  },
  {
   "cell_type": "markdown",
   "metadata": {},
   "source": [
    "We can look at the number of unique authors:"
   ]
  },
  {
   "cell_type": "code",
   "execution_count": 30,
   "metadata": {},
   "outputs": [
    {
     "name": "stdout",
     "output_type": "stream",
     "text": [
      "Number of unique authors: 27119\n"
     ]
    }
   ],
   "source": [
    "all_authors = set(comments.CommentAuthorName)\n",
    "print (\"Number of unique authors: \" + str(len(all_authors)) )"
   ]
  },
  {
   "cell_type": "markdown",
   "metadata": {},
   "source": [
    "### Number of comments per author and number of likes per author:\n",
    "\n",
    "We can also look at which authors comment more or get more likes. Here I have made two dictionaries, *comment_count* and *likes_count*, which have author names as keys, and number of comments and number of likes as values, respectively. "
   ]
  },
  {
   "cell_type": "code",
   "execution_count": 31,
   "metadata": {},
   "outputs": [
    {
     "data": {
      "text/html": [
       "<div>\n",
       "<style>\n",
       "    .dataframe thead tr:only-child th {\n",
       "        text-align: right;\n",
       "    }\n",
       "\n",
       "    .dataframe thead th {\n",
       "        text-align: left;\n",
       "    }\n",
       "\n",
       "    .dataframe tbody tr th {\n",
       "        vertical-align: top;\n",
       "    }\n",
       "</style>\n",
       "<table border=\"1\" class=\"dataframe\">\n",
       "  <thead>\n",
       "    <tr style=\"text-align: right;\">\n",
       "      <th></th>\n",
       "      <th>Author</th>\n",
       "      <th>CommentCount</th>\n",
       "      <th>TotalLikes</th>\n",
       "    </tr>\n",
       "  </thead>\n",
       "  <tbody>\n",
       "    <tr>\n",
       "      <th>0</th>\n",
       "      <td>raizerain</td>\n",
       "      <td>23</td>\n",
       "      <td>0</td>\n",
       "    </tr>\n",
       "    <tr>\n",
       "      <th>1</th>\n",
       "      <td>creepcyeol 엑소</td>\n",
       "      <td>1</td>\n",
       "      <td>1</td>\n",
       "    </tr>\n",
       "    <tr>\n",
       "      <th>2</th>\n",
       "      <td>Kookie Monster</td>\n",
       "      <td>1</td>\n",
       "      <td>6</td>\n",
       "    </tr>\n",
       "    <tr>\n",
       "      <th>3</th>\n",
       "      <td>afefah1</td>\n",
       "      <td>2</td>\n",
       "      <td>0</td>\n",
       "    </tr>\n",
       "    <tr>\n",
       "      <th>4</th>\n",
       "      <td>V - RALDO</td>\n",
       "      <td>1</td>\n",
       "      <td>0</td>\n",
       "    </tr>\n",
       "  </tbody>\n",
       "</table>\n",
       "</div>"
      ],
      "text/plain": [
       "           Author  CommentCount  TotalLikes\n",
       "0       raizerain            23           0\n",
       "1   creepcyeol 엑소             1           1\n",
       "2  Kookie Monster             1           6\n",
       "3         afefah1             2           0\n",
       "4       V - RALDO             1           0"
      ]
     },
     "execution_count": 31,
     "metadata": {},
     "output_type": "execute_result"
    }
   ],
   "source": [
    "comment_count = {}\n",
    "likes_count   = {}\n",
    "\n",
    "for index, row in comments.iterrows():\n",
    "    \n",
    "    author = row.CommentAuthorName\n",
    "    number_of_likes = int(row.CommentLikeCount)\n",
    "    \n",
    "    if author in comment_count:\n",
    "        comment_count[author] += 1\n",
    "    else:\n",
    "        comment_count[author]  = 1\n",
    "        \n",
    "    if author in likes_count:\n",
    "        likes_count[author] += number_of_likes\n",
    "    else:\n",
    "        likes_count[author]  = number_of_likes\n",
    "\n",
    "all_authors = comment_count.keys()\n",
    "\n",
    "data_dict = { 'Author':list(all_authors),\n",
    "              'CommentCount':comment_count.values(),\n",
    "              'TotalLikes':likes_count.values() }\n",
    "\n",
    "authors = pd.DataFrame(data_dict)\n",
    "\n",
    "authors.head()"
   ]
  },
  {
   "cell_type": "markdown",
   "metadata": {},
   "source": [
    "You can sort the dataframe __authors__ by comment count:"
   ]
  },
  {
   "cell_type": "code",
   "execution_count": 32,
   "metadata": {},
   "outputs": [
    {
     "data": {
      "text/html": [
       "<div>\n",
       "<style>\n",
       "    .dataframe thead tr:only-child th {\n",
       "        text-align: right;\n",
       "    }\n",
       "\n",
       "    .dataframe thead th {\n",
       "        text-align: left;\n",
       "    }\n",
       "\n",
       "    .dataframe tbody tr th {\n",
       "        vertical-align: top;\n",
       "    }\n",
       "</style>\n",
       "<table border=\"1\" class=\"dataframe\">\n",
       "  <thead>\n",
       "    <tr style=\"text-align: right;\">\n",
       "      <th></th>\n",
       "      <th>Author</th>\n",
       "      <th>CommentCount</th>\n",
       "      <th>TotalLikes</th>\n",
       "    </tr>\n",
       "  </thead>\n",
       "  <tbody>\n",
       "    <tr>\n",
       "      <th>12509</th>\n",
       "      <td>Deedee Saku</td>\n",
       "      <td>814</td>\n",
       "      <td>70</td>\n",
       "    </tr>\n",
       "    <tr>\n",
       "      <th>22701</th>\n",
       "      <td>exo anna</td>\n",
       "      <td>606</td>\n",
       "      <td>184</td>\n",
       "    </tr>\n",
       "    <tr>\n",
       "      <th>4010</th>\n",
       "      <td>When a unicorn farted, Lay existed</td>\n",
       "      <td>587</td>\n",
       "      <td>306</td>\n",
       "    </tr>\n",
       "    <tr>\n",
       "      <th>4218</th>\n",
       "      <td>kpop Fan</td>\n",
       "      <td>435</td>\n",
       "      <td>285</td>\n",
       "    </tr>\n",
       "    <tr>\n",
       "      <th>1294</th>\n",
       "      <td>exo ikon</td>\n",
       "      <td>376</td>\n",
       "      <td>448</td>\n",
       "    </tr>\n",
       "    <tr>\n",
       "      <th>11521</th>\n",
       "      <td>miza hamid</td>\n",
       "      <td>274</td>\n",
       "      <td>40</td>\n",
       "    </tr>\n",
       "    <tr>\n",
       "      <th>23125</th>\n",
       "      <td>Karen Tang</td>\n",
       "      <td>243</td>\n",
       "      <td>188</td>\n",
       "    </tr>\n",
       "    <tr>\n",
       "      <th>3006</th>\n",
       "      <td>SK Angel</td>\n",
       "      <td>240</td>\n",
       "      <td>358</td>\n",
       "    </tr>\n",
       "    <tr>\n",
       "      <th>7304</th>\n",
       "      <td>LoneWolf</td>\n",
       "      <td>227</td>\n",
       "      <td>3</td>\n",
       "    </tr>\n",
       "    <tr>\n",
       "      <th>949</th>\n",
       "      <td>kamjong in</td>\n",
       "      <td>168</td>\n",
       "      <td>0</td>\n",
       "    </tr>\n",
       "  </tbody>\n",
       "</table>\n",
       "</div>"
      ],
      "text/plain": [
       "                                   Author  CommentCount  TotalLikes\n",
       "12509                         Deedee Saku           814          70\n",
       "22701                            exo anna           606         184\n",
       "4010   When a unicorn farted, Lay existed           587         306\n",
       "4218                             kpop Fan           435         285\n",
       "1294                             exo ikon           376         448\n",
       "11521                          miza hamid           274          40\n",
       "23125                          Karen Tang           243         188\n",
       "3006                             SK Angel           240         358\n",
       "7304                             LoneWolf           227           3\n",
       "949                            kamjong in           168           0"
      ]
     },
     "execution_count": 32,
     "metadata": {},
     "output_type": "execute_result"
    }
   ],
   "source": [
    "authors.sort_values('CommentCount', ascending=False).head(10)"
   ]
  },
  {
   "cell_type": "markdown",
   "metadata": {},
   "source": [
    "You can sort the dataframe __authors__ by like count:"
   ]
  },
  {
   "cell_type": "code",
   "execution_count": 33,
   "metadata": {},
   "outputs": [
    {
     "data": {
      "text/html": [
       "<div>\n",
       "<style>\n",
       "    .dataframe thead tr:only-child th {\n",
       "        text-align: right;\n",
       "    }\n",
       "\n",
       "    .dataframe thead th {\n",
       "        text-align: left;\n",
       "    }\n",
       "\n",
       "    .dataframe tbody tr th {\n",
       "        vertical-align: top;\n",
       "    }\n",
       "</style>\n",
       "<table border=\"1\" class=\"dataframe\">\n",
       "  <thead>\n",
       "    <tr style=\"text-align: right;\">\n",
       "      <th></th>\n",
       "      <th>Author</th>\n",
       "      <th>CommentCount</th>\n",
       "      <th>TotalLikes</th>\n",
       "    </tr>\n",
       "  </thead>\n",
       "  <tbody>\n",
       "    <tr>\n",
       "      <th>23764</th>\n",
       "      <td>realistic dreamr</td>\n",
       "      <td>2</td>\n",
       "      <td>3824</td>\n",
       "    </tr>\n",
       "    <tr>\n",
       "      <th>17017</th>\n",
       "      <td>Kai</td>\n",
       "      <td>2</td>\n",
       "      <td>2415</td>\n",
       "    </tr>\n",
       "    <tr>\n",
       "      <th>2305</th>\n",
       "      <td>claire oh</td>\n",
       "      <td>1</td>\n",
       "      <td>2330</td>\n",
       "    </tr>\n",
       "    <tr>\n",
       "      <th>25172</th>\n",
       "      <td>vin dm</td>\n",
       "      <td>1</td>\n",
       "      <td>2286</td>\n",
       "    </tr>\n",
       "    <tr>\n",
       "      <th>262</th>\n",
       "      <td>Alix Malone</td>\n",
       "      <td>6</td>\n",
       "      <td>2113</td>\n",
       "    </tr>\n",
       "    <tr>\n",
       "      <th>19777</th>\n",
       "      <td>soomyeonxing saves lives sweaties</td>\n",
       "      <td>1</td>\n",
       "      <td>1743</td>\n",
       "    </tr>\n",
       "    <tr>\n",
       "      <th>1339</th>\n",
       "      <td>Kim Jong Kai</td>\n",
       "      <td>105</td>\n",
       "      <td>1633</td>\n",
       "    </tr>\n",
       "    <tr>\n",
       "      <th>3876</th>\n",
       "      <td>j r</td>\n",
       "      <td>1</td>\n",
       "      <td>1524</td>\n",
       "    </tr>\n",
       "    <tr>\n",
       "      <th>22472</th>\n",
       "      <td>E᙭O 安妮</td>\n",
       "      <td>1</td>\n",
       "      <td>1459</td>\n",
       "    </tr>\n",
       "    <tr>\n",
       "      <th>21487</th>\n",
       "      <td>Bubbllee POP</td>\n",
       "      <td>1</td>\n",
       "      <td>1439</td>\n",
       "    </tr>\n",
       "  </tbody>\n",
       "</table>\n",
       "</div>"
      ],
      "text/plain": [
       "                                  Author  CommentCount  TotalLikes\n",
       "23764                   realistic dreamr             2        3824\n",
       "17017                                Kai             2        2415\n",
       "2305                           claire oh             1        2330\n",
       "25172                             vin dm             1        2286\n",
       "262                          Alix Malone             6        2113\n",
       "19777  soomyeonxing saves lives sweaties             1        1743\n",
       "1339                        Kim Jong Kai           105        1633\n",
       "3876                                 j r             1        1524\n",
       "22472                             E᙭O 安妮             1        1459\n",
       "21487                       Bubbllee POP             1        1439"
      ]
     },
     "execution_count": 33,
     "metadata": {},
     "output_type": "execute_result"
    }
   ],
   "source": [
    "authors = authors.sort_values('TotalLikes', ascending=False)\n",
    "authors.head(10)"
   ]
  },
  {
   "cell_type": "markdown",
   "metadata": {},
   "source": [
    "Log-log plot of the number of likes per author:"
   ]
  },
  {
   "cell_type": "code",
   "execution_count": 37,
   "metadata": {},
   "outputs": [
    {
     "data": {
      "image/png": "[encoded data removed]",
      "text/plain": [
       "<matplotlib.figure.Figure at 0x7faa1ff125d0>"
      ]
     },
     "metadata": {},
     "output_type": "display_data"
    }
   ],
   "source": [
    "x = sorted(authors.TotalLikes.values)[::-1]\n",
    "\n",
    "plt.loglog(x, color='b')\n",
    "plt.ylabel('Number of authors')\n",
    "plt.xlabel('Number of likes')\n",
    "plt.show()"
   ]
  },
  {
   "cell_type": "markdown",
   "metadata": {},
   "source": [
    "Log-log plot of the number of comments per author:"
   ]
  },
  {
   "cell_type": "code",
   "execution_count": 38,
   "metadata": {},
   "outputs": [
    {
     "data": {
      "image/png": "[encoded data removed]",
      "text/plain": [
       "<matplotlib.figure.Figure at 0x7faa1fb9aa10>"
      ]
     },
     "metadata": {},
     "output_type": "display_data"
    }
   ],
   "source": [
    "x = sorted(authors.CommentCount.values)[::-1]\n",
    "plt.loglog(x, color='g')\n",
    "plt.ylabel('Number of authors')\n",
    "plt.xlabel('Number of comments')\n",
    "plt.show()"
   ]
  },
  {
   "cell_type": "markdown",
   "metadata": {},
   "source": [
    "Scatter plot of comments per author vs likes per author:"
   ]
  },
  {
   "cell_type": "code",
   "execution_count": 63,
   "metadata": {},
   "outputs": [
    {
     "data": {
      "image/png": "[encoded data removed]",
      "text/plain": [
       "<matplotlib.figure.Figure at 0x7faa141c1810>"
      ]
     },
     "metadata": {},
     "output_type": "display_data"
    }
   ],
   "source": [
    "#plt.close(\"all\")\n",
    "plt.scatter( authors.CommentCount, authors.TotalLikes, alpha=0.75 )\n",
    "plt.xscale('log')\n",
    "plt.yscale('log')\n",
    "\n",
    "plt.ylabel('Number of likes')\n",
    "plt.xlabel('Number of comments')\n",
    "\n",
    "plt.ylim(0.5,10000)\n",
    "plt.show()"
   ]
  },
  {
   "cell_type": "markdown",
   "metadata": {},
   "source": [
    "### Exercise 2:\n",
    "\n",
    "With the same video from the previous exercise, see if you can make the same plots we made here:\n",
    "- A bar plot for the number of comments per hour\n",
    "- A bar plot for the number of likes per comment\n",
    "- A line plot for the number of likes per author\n",
    "- A line plot for the number of comments per author\n",
    "\n",
    "_____________"
   ]
  },
  {
   "cell_type": "markdown",
   "metadata": {},
   "source": [
    "### Comment counts for each video for each of the four groups"
   ]
  },
  {
   "cell_type": "code",
   "execution_count": 40,
   "metadata": {
    "collapsed": true
   },
   "outputs": [],
   "source": [
    "# Blackpink comment counts.\n",
    "df_blackpink_counts = pd.read_csv(\"data/kpop_comment_counts/blackpink_comment_counts.txt\", sep=\"\\t\")\n",
    "\n",
    "# BTS comment counts.\n",
    "df_bts_counts = pd.read_csv(\"data/kpop_comment_counts/bts_comment_counts.txt\", sep=\"\\t\")\n",
    "\n",
    "# EXO comment counts.\n",
    "df_exo_counts = pd.read_csv(\"data/kpop_comment_counts/exo_comment_counts.txt\", sep=\"\\t\")\n",
    "\n",
    "# Twice comment counts.\n",
    "df_twice_counts = pd.read_csv(\"data/kpop_comment_counts/twice_comment_counts.txt\", sep=\"\\t\")"
   ]
  },
  {
   "cell_type": "code",
   "execution_count": 41,
   "metadata": {},
   "outputs": [
    {
     "data": {
      "text/html": [
       "<div>\n",
       "<style>\n",
       "    .dataframe thead tr:only-child th {\n",
       "        text-align: right;\n",
       "    }\n",
       "\n",
       "    .dataframe thead th {\n",
       "        text-align: left;\n",
       "    }\n",
       "\n",
       "    .dataframe tbody tr th {\n",
       "        vertical-align: top;\n",
       "    }\n",
       "</style>\n",
       "<table border=\"1\" class=\"dataframe\">\n",
       "  <thead>\n",
       "    <tr style=\"text-align: right;\">\n",
       "      <th></th>\n",
       "      <th>VideoID</th>\n",
       "      <th>Comments</th>\n",
       "    </tr>\n",
       "  </thead>\n",
       "  <tbody>\n",
       "    <tr>\n",
       "      <th>0</th>\n",
       "      <td>hKUJmA9O6iA</td>\n",
       "      <td>7317</td>\n",
       "    </tr>\n",
       "    <tr>\n",
       "      <th>1</th>\n",
       "      <td>Amq-qlqbjYA</td>\n",
       "      <td>50184</td>\n",
       "    </tr>\n",
       "    <tr>\n",
       "      <th>2</th>\n",
       "      <td>9pdj4iJD08s</td>\n",
       "      <td>41426</td>\n",
       "    </tr>\n",
       "    <tr>\n",
       "      <th>3</th>\n",
       "      <td>FzVR_fymZw4</td>\n",
       "      <td>23461</td>\n",
       "    </tr>\n",
       "    <tr>\n",
       "      <th>4</th>\n",
       "      <td>NvWfJTbrTBY</td>\n",
       "      <td>9376</td>\n",
       "    </tr>\n",
       "  </tbody>\n",
       "</table>\n",
       "</div>"
      ],
      "text/plain": [
       "       VideoID  Comments\n",
       "0  hKUJmA9O6iA      7317\n",
       "1  Amq-qlqbjYA     50184\n",
       "2  9pdj4iJD08s     41426\n",
       "3  FzVR_fymZw4     23461\n",
       "4  NvWfJTbrTBY      9376"
      ]
     },
     "execution_count": 41,
     "metadata": {},
     "output_type": "execute_result"
    }
   ],
   "source": [
    "df_blackpink_counts.head()"
   ]
  },
  {
   "cell_type": "code",
   "execution_count": 42,
   "metadata": {
    "collapsed": true
   },
   "outputs": [],
   "source": [
    "all_bands  = [ df_blackpink_counts, df_bts_counts, df_exo_counts, df_twice_counts ]\n",
    "band_names = [ 'Black Pink', 'BTS', 'EXO', 'TWICE' ]\n",
    "\n",
    "for df,name in zip(all_bands, band_names):\n",
    "    df['BandName'] = [name]*len(df)    "
   ]
  },
  {
   "cell_type": "code",
   "execution_count": 43,
   "metadata": {},
   "outputs": [
    {
     "data": {
      "text/html": [
       "<div>\n",
       "<style>\n",
       "    .dataframe thead tr:only-child th {\n",
       "        text-align: right;\n",
       "    }\n",
       "\n",
       "    .dataframe thead th {\n",
       "        text-align: left;\n",
       "    }\n",
       "\n",
       "    .dataframe tbody tr th {\n",
       "        vertical-align: top;\n",
       "    }\n",
       "</style>\n",
       "<table border=\"1\" class=\"dataframe\">\n",
       "  <thead>\n",
       "    <tr style=\"text-align: right;\">\n",
       "      <th></th>\n",
       "      <th>VideoID</th>\n",
       "      <th>Comments</th>\n",
       "      <th>BandName</th>\n",
       "    </tr>\n",
       "  </thead>\n",
       "  <tbody>\n",
       "    <tr>\n",
       "      <th>0</th>\n",
       "      <td>hKUJmA9O6iA</td>\n",
       "      <td>7317</td>\n",
       "      <td>Black Pink</td>\n",
       "    </tr>\n",
       "    <tr>\n",
       "      <th>1</th>\n",
       "      <td>Amq-qlqbjYA</td>\n",
       "      <td>50184</td>\n",
       "      <td>Black Pink</td>\n",
       "    </tr>\n",
       "    <tr>\n",
       "      <th>2</th>\n",
       "      <td>9pdj4iJD08s</td>\n",
       "      <td>41426</td>\n",
       "      <td>Black Pink</td>\n",
       "    </tr>\n",
       "    <tr>\n",
       "      <th>3</th>\n",
       "      <td>FzVR_fymZw4</td>\n",
       "      <td>23461</td>\n",
       "      <td>Black Pink</td>\n",
       "    </tr>\n",
       "    <tr>\n",
       "      <th>4</th>\n",
       "      <td>NvWfJTbrTBY</td>\n",
       "      <td>9376</td>\n",
       "      <td>Black Pink</td>\n",
       "    </tr>\n",
       "  </tbody>\n",
       "</table>\n",
       "</div>"
      ],
      "text/plain": [
       "       VideoID  Comments    BandName\n",
       "0  hKUJmA9O6iA      7317  Black Pink\n",
       "1  Amq-qlqbjYA     50184  Black Pink\n",
       "2  9pdj4iJD08s     41426  Black Pink\n",
       "3  FzVR_fymZw4     23461  Black Pink\n",
       "4  NvWfJTbrTBY      9376  Black Pink"
      ]
     },
     "execution_count": 43,
     "metadata": {},
     "output_type": "execute_result"
    }
   ],
   "source": [
    "df_blackpink_counts.head()"
   ]
  },
  {
   "cell_type": "code",
   "execution_count": 58,
   "metadata": {},
   "outputs": [
    {
     "data": {
      "image/png": "[encoded data removed]",
      "text/plain": [
       "<matplotlib.figure.Figure at 0x7faa142a0e90>"
      ]
     },
     "metadata": {},
     "output_type": "display_data"
    }
   ],
   "source": [
    "df_allbands = pd.concat(all_bands)\n",
    "\n",
    "plt.subplots(figsize=(10,8))\n",
    "g = sns.boxplot(x=\"BandName\", y=\"Comments\", hue=\"BandName\", data=df_allbands)\n",
    "g.set( yscale='log' )\n",
    "\n",
    "plt.show()"
   ]
  }
 ],
 "metadata": {
  "anaconda-cloud": {},
  "kernelspec": {
   "display_name": "Python 2",
   "language": "python",
   "name": "python2"
  },
  "language_info": {
   "codemirror_mode": {
    "name": "ipython",
    "version": 2
   },
   "file_extension": ".py",
   "mimetype": "text/x-python",
   "name": "python",
   "nbconvert_exporter": "python",
   "pygments_lexer": "ipython2",
   "version": "2.7.12"
  }
 },
 "nbformat": 4,
 "nbformat_minor": 1
}
