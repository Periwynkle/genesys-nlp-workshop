{
 "cells": [
  {
   "cell_type": "markdown",
   "metadata": {},
   "source": [
    "# Introduction to Python for Digital Text Analysis (Part I)"
   ]
  },
  {
   "cell_type": "markdown",
   "metadata": {},
   "source": [
    "This session will provide an overview of how Python can be used to descriptively summarise a dataset.\n",
    "\n",
    "We expect you to have basic knowledge of Python, bue if you don't, here's the link:\n",
    "https://github.com/fbkarsdorp/python-intro/blob/master/notebook.ipynb"
   ]
  },
  {
   "cell_type": "markdown",
   "metadata": {},
   "source": [
    "## Refreshing your python memory"
   ]
  },
  {
   "cell_type": "code",
   "execution_count": 514,
   "metadata": {},
   "outputs": [
    {
     "name": "stdout",
     "output_type": "stream",
     "text": [
      "Hello python!\n",
      "monty python!\n",
      "Hello world! monty python!\n",
      "['Hello', 'world!', 'monty', 'python!']\n"
     ]
    }
   ],
   "source": [
    "# Strings\n",
    "\n",
    "s = \"Hello world!\"\n",
    "\n",
    "s2 = s.replace(\"world\", \"python\")\n",
    "print(s2)\n",
    "\n",
    "s3 = s2.replace(\"Hello\",\"monty\")\n",
    "print(s3)\n",
    "\n",
    "s4 = s + ' '+ s3\n",
    "print(s4)\n",
    "\n",
    "splitstring = s4.split()\n",
    "print (splitstring)"
   ]
  },
  {
   "cell_type": "code",
   "execution_count": 515,
   "metadata": {},
   "outputs": [
    {
     "name": "stdout",
     "output_type": "stream",
     "text": [
      "[10, 20, 30, 0, 1, 2, 3]\n",
      "[10, 20]\n",
      "[1, 2, 3]\n",
      "[10, 20, 1, 2, 3]\n"
     ]
    }
   ],
   "source": [
    "# Lists\n",
    "\n",
    "my_list = []\n",
    "\n",
    "my_list.append(10)\n",
    "my_list.append(20)\n",
    "\n",
    "my_list = my_list + [ 30 ]\n",
    "\n",
    "my_list += range(4)\n",
    "\n",
    "print( my_list )\n",
    "print( my_list[:2] )\n",
    "print( my_list[4:] )\n",
    "print( my_list[:2]+my_list[4:] )"
   ]
  },
  {
   "cell_type": "code",
   "execution_count": 516,
   "metadata": {},
   "outputs": [
    {
     "data": {
      "text/plain": [
       "{'event': 'workshop', 'host': 'EASt', 'location': 'Brussels'}"
      ]
     },
     "execution_count": 516,
     "metadata": {},
     "output_type": "execute_result"
    }
   ],
   "source": [
    "# Dictionaries\n",
    "\n",
    "my_dict = {}\n",
    "\n",
    "my_dict['location'] = 'Brussels'\n",
    "my_dict['host'] = 'EASt'\n",
    "my_dict['event'] = 'workshop'\n",
    "\n",
    "my_dict"
   ]
  },
  {
   "cell_type": "code",
   "execution_count": 517,
   "metadata": {},
   "outputs": [
    {
     "name": "stdout",
     "output_type": "stream",
     "text": [
      "0\n",
      "1\n",
      "2\n",
      "3\n",
      "4\n"
     ]
    }
   ],
   "source": [
    "# for loops\n",
    "for i in range(5):\n",
    "    print(i)"
   ]
  },
  {
   "cell_type": "code",
   "execution_count": 518,
   "metadata": {},
   "outputs": [
    {
     "name": "stdout",
     "output_type": "stream",
     "text": [
      "My name is Amelie\n",
      "My name is Tom\n",
      "My name is Niko\n",
      "My name is Ruben\n",
      "My name is Esma\n"
     ]
    }
   ],
   "source": [
    "names  = [ 'Amelie','Tom','Niko','Ruben','Esma' ]\n",
    "\n",
    "for name in names:\n",
    "    print (\"My name is \"+name)"
   ]
  },
  {
   "cell_type": "code",
   "execution_count": 519,
   "metadata": {},
   "outputs": [
    {
     "name": "stdout",
     "output_type": "stream",
     "text": [
      "Amelie was born in 1968\n",
      "Tom was born in 1984\n",
      "Niko was born in 1977\n",
      "Ruben was born in 1988\n",
      "Esma was born in 1973\n"
     ]
    }
   ],
   "source": [
    "# zip\n",
    "\n",
    "names  = [ 'Amelie','Tom','Niko','Ruben','Esma' ]\n",
    "births = [ 1968, 1984, 1977, 1988, 1973 ]\n",
    " \n",
    "for i, j in zip(names, births):\n",
    "    print(i, \"was born in\", j)"
   ]
  },
  {
   "cell_type": "markdown",
   "metadata": {},
   "source": [
    "# Data analysis with *pandas*"
   ]
  },
  {
   "cell_type": "code",
   "execution_count": 522,
   "metadata": {},
   "outputs": [],
   "source": [
    "import pandas as pd"
   ]
  },
  {
   "cell_type": "markdown",
   "metadata": {},
   "source": [
    "**comments** will be a **DataFrame** object. You can think of this object as a spreadsheet."
   ]
  },
  {
   "cell_type": "code",
   "execution_count": 523,
   "metadata": {},
   "outputs": [],
   "source": [
    "# Sample of comments about the BTS video 'Save Me'.\n",
    "comments = pd.read_excel(\"data/videos.xlsx\", sheetname=1)"
   ]
  },
  {
   "cell_type": "code",
   "execution_count": 524,
   "metadata": {},
   "outputs": [
    {
     "data": {
      "text/html": [
       "<div>\n",
       "<style>\n",
       "    .dataframe thead tr:only-child th {\n",
       "        text-align: right;\n",
       "    }\n",
       "\n",
       "    .dataframe thead th {\n",
       "        text-align: left;\n",
       "    }\n",
       "\n",
       "    .dataframe tbody tr th {\n",
       "        vertical-align: top;\n",
       "    }\n",
       "</style>\n",
       "<table border=\"1\" class=\"dataframe\">\n",
       "  <thead>\n",
       "    <tr style=\"text-align: right;\">\n",
       "      <th></th>\n",
       "      <th>Search</th>\n",
       "      <th>Title</th>\n",
       "      <th>VideoID</th>\n",
       "      <th>CommentID</th>\n",
       "      <th>CommentPublished</th>\n",
       "      <th>CommentUpdated</th>\n",
       "      <th>CommentTextDisplay</th>\n",
       "      <th>CommentAuthorName</th>\n",
       "      <th>CommentAuthorURI</th>\n",
       "      <th>CommentCanReply</th>\n",
       "      <th>CommentTotalReplyCount</th>\n",
       "      <th>CommentisPublic</th>\n",
       "      <th>CommentLikeCount</th>\n",
       "      <th>CommentVewerRating</th>\n",
       "      <th>IsReply</th>\n",
       "      <th>CommentPosterInfo</th>\n",
       "    </tr>\n",
       "  </thead>\n",
       "  <tbody>\n",
       "    <tr>\n",
       "      <th>0</th>\n",
       "      <td>https://www.youtube.com/channel/UC3IZKseVpdzPS...</td>\n",
       "      <td>BTS (방탄소년단) 'Save ME' Official MV</td>\n",
       "      <td>GZjt_sA2eso</td>\n",
       "      <td>z234uhc5gljycromkacdp432q0vjces4wq3zuewbnfhw03...</td>\n",
       "      <td>2017-08-01T18:26:30.000Z</td>\n",
       "      <td>2017-08-01T18:26:30.000Z</td>\n",
       "      <td>V looks so awesome ! hope they come some day t...</td>\n",
       "      <td>xSeriouslyable</td>\n",
       "      <td>http://www.youtube.com/channel/UCVg43Gk6iCw0iq...</td>\n",
       "      <td>false</td>\n",
       "      <td>0.0</td>\n",
       "      <td>1.0</td>\n",
       "      <td>1</td>\n",
       "      <td>none</td>\n",
       "      <td>0</td>\n",
       "      <td>NaN</td>\n",
       "    </tr>\n",
       "    <tr>\n",
       "      <th>1</th>\n",
       "      <td>https://www.youtube.com/channel/UC3IZKseVpdzPS...</td>\n",
       "      <td>BTS (방탄소년단) 'Save ME' Official MV</td>\n",
       "      <td>GZjt_sA2eso</td>\n",
       "      <td>z121jpbosx3ds5quw23fg5jxoqfnhbdjq04</td>\n",
       "      <td>2017-08-01T18:24:35.000Z</td>\n",
       "      <td>2017-08-01T18:24:35.000Z</td>\n",
       "      <td>esteroreroshepo atianitiro  +</td>\n",
       "      <td>strike virtual</td>\n",
       "      <td>http://www.youtube.com/channel/UCOavwxVoZXnW0L...</td>\n",
       "      <td>false</td>\n",
       "      <td>0.0</td>\n",
       "      <td>1.0</td>\n",
       "      <td>0</td>\n",
       "      <td>none</td>\n",
       "      <td>0</td>\n",
       "      <td>NaN</td>\n",
       "    </tr>\n",
       "    <tr>\n",
       "      <th>2</th>\n",
       "      <td>https://www.youtube.com/channel/UC3IZKseVpdzPS...</td>\n",
       "      <td>BTS (방탄소년단) 'Save ME' Official MV</td>\n",
       "      <td>GZjt_sA2eso</td>\n",
       "      <td>z12zyhtrbpmqjbamb234wzboknfpzfttw</td>\n",
       "      <td>2017-08-01T18:17:07.000Z</td>\n",
       "      <td>2017-08-01T18:17:07.000Z</td>\n",
       "      <td>Yeah  jimin♥♥♥♥</td>\n",
       "      <td>yuot yuot</td>\n",
       "      <td>http://www.youtube.com/channel/UCYMpAZqqP1fX8p...</td>\n",
       "      <td>false</td>\n",
       "      <td>0.0</td>\n",
       "      <td>1.0</td>\n",
       "      <td>0</td>\n",
       "      <td>none</td>\n",
       "      <td>0</td>\n",
       "      <td>NaN</td>\n",
       "    </tr>\n",
       "    <tr>\n",
       "      <th>3</th>\n",
       "      <td>https://www.youtube.com/channel/UC3IZKseVpdzPS...</td>\n",
       "      <td>BTS (방탄소년단) 'Save ME' Official MV</td>\n",
       "      <td>GZjt_sA2eso</td>\n",
       "      <td>z12aefop2vajiz0xz04cen3gruqffxlwpzk0k</td>\n",
       "      <td>2017-08-01T17:59:55.000Z</td>\n",
       "      <td>2017-08-01T17:59:55.000Z</td>\n",
       "      <td>love</td>\n",
       "      <td>sakar qadr</td>\n",
       "      <td>http://www.youtube.com/channel/UCYXxHDHz7g1owk...</td>\n",
       "      <td>false</td>\n",
       "      <td>0.0</td>\n",
       "      <td>1.0</td>\n",
       "      <td>0</td>\n",
       "      <td>none</td>\n",
       "      <td>0</td>\n",
       "      <td>NaN</td>\n",
       "    </tr>\n",
       "    <tr>\n",
       "      <th>4</th>\n",
       "      <td>https://www.youtube.com/channel/UC3IZKseVpdzPS...</td>\n",
       "      <td>BTS (방탄소년단) 'Save ME' Official MV</td>\n",
       "      <td>GZjt_sA2eso</td>\n",
       "      <td>z13lilvxpo3reffpo04cgtizfpqaj5co1wc0k</td>\n",
       "      <td>2017-08-01T17:50:49.000Z</td>\n",
       "      <td>2017-08-01T17:50:49.000Z</td>\n",
       "      <td>Please come to Greece Thessaloniki!!!</td>\n",
       "      <td>brina paulidou</td>\n",
       "      <td>http://www.youtube.com/channel/UCwDSreKzLMK8NK...</td>\n",
       "      <td>false</td>\n",
       "      <td>0.0</td>\n",
       "      <td>1.0</td>\n",
       "      <td>1</td>\n",
       "      <td>none</td>\n",
       "      <td>0</td>\n",
       "      <td>NaN</td>\n",
       "    </tr>\n",
       "  </tbody>\n",
       "</table>\n",
       "</div>"
      ],
      "text/plain": [
       "                                              Search  \\\n",
       "0  https://www.youtube.com/channel/UC3IZKseVpdzPS...   \n",
       "1  https://www.youtube.com/channel/UC3IZKseVpdzPS...   \n",
       "2  https://www.youtube.com/channel/UC3IZKseVpdzPS...   \n",
       "3  https://www.youtube.com/channel/UC3IZKseVpdzPS...   \n",
       "4  https://www.youtube.com/channel/UC3IZKseVpdzPS...   \n",
       "\n",
       "                               Title      VideoID  \\\n",
       "0  BTS (방탄소년단) 'Save ME' Official MV  GZjt_sA2eso   \n",
       "1  BTS (방탄소년단) 'Save ME' Official MV  GZjt_sA2eso   \n",
       "2  BTS (방탄소년단) 'Save ME' Official MV  GZjt_sA2eso   \n",
       "3  BTS (방탄소년단) 'Save ME' Official MV  GZjt_sA2eso   \n",
       "4  BTS (방탄소년단) 'Save ME' Official MV  GZjt_sA2eso   \n",
       "\n",
       "                                           CommentID  \\\n",
       "0  z234uhc5gljycromkacdp432q0vjces4wq3zuewbnfhw03...   \n",
       "1                z121jpbosx3ds5quw23fg5jxoqfnhbdjq04   \n",
       "2                  z12zyhtrbpmqjbamb234wzboknfpzfttw   \n",
       "3              z12aefop2vajiz0xz04cen3gruqffxlwpzk0k   \n",
       "4              z13lilvxpo3reffpo04cgtizfpqaj5co1wc0k   \n",
       "\n",
       "           CommentPublished            CommentUpdated  \\\n",
       "0  2017-08-01T18:26:30.000Z  2017-08-01T18:26:30.000Z   \n",
       "1  2017-08-01T18:24:35.000Z  2017-08-01T18:24:35.000Z   \n",
       "2  2017-08-01T18:17:07.000Z  2017-08-01T18:17:07.000Z   \n",
       "3  2017-08-01T17:59:55.000Z  2017-08-01T17:59:55.000Z   \n",
       "4  2017-08-01T17:50:49.000Z  2017-08-01T17:50:49.000Z   \n",
       "\n",
       "                                  CommentTextDisplay CommentAuthorName  \\\n",
       "0  V looks so awesome ! hope they come some day t...    xSeriouslyable   \n",
       "1                      esteroreroshepo atianitiro  +    strike virtual   \n",
       "2                                    Yeah  jimin♥♥♥♥         yuot yuot   \n",
       "3                                               love        sakar qadr   \n",
       "4              Please come to Greece Thessaloniki!!!    brina paulidou   \n",
       "\n",
       "                                    CommentAuthorURI CommentCanReply  \\\n",
       "0  http://www.youtube.com/channel/UCVg43Gk6iCw0iq...           false   \n",
       "1  http://www.youtube.com/channel/UCOavwxVoZXnW0L...           false   \n",
       "2  http://www.youtube.com/channel/UCYMpAZqqP1fX8p...           false   \n",
       "3  http://www.youtube.com/channel/UCYXxHDHz7g1owk...           false   \n",
       "4  http://www.youtube.com/channel/UCwDSreKzLMK8NK...           false   \n",
       "\n",
       "   CommentTotalReplyCount  CommentisPublic  CommentLikeCount  \\\n",
       "0                     0.0              1.0                 1   \n",
       "1                     0.0              1.0                 0   \n",
       "2                     0.0              1.0                 0   \n",
       "3                     0.0              1.0                 0   \n",
       "4                     0.0              1.0                 1   \n",
       "\n",
       "  CommentVewerRating  IsReply  CommentPosterInfo  \n",
       "0               none        0                NaN  \n",
       "1               none        0                NaN  \n",
       "2               none        0                NaN  \n",
       "3               none        0                NaN  \n",
       "4               none        0                NaN  "
      ]
     },
     "execution_count": 524,
     "metadata": {},
     "output_type": "execute_result"
    }
   ],
   "source": [
    "# Show first rows of dataframe\n",
    "comments.head()"
   ]
  },
  {
   "cell_type": "code",
   "execution_count": 525,
   "metadata": {},
   "outputs": [
    {
     "data": {
      "text/html": [
       "<div>\n",
       "<style>\n",
       "    .dataframe thead tr:only-child th {\n",
       "        text-align: right;\n",
       "    }\n",
       "\n",
       "    .dataframe thead th {\n",
       "        text-align: left;\n",
       "    }\n",
       "\n",
       "    .dataframe tbody tr th {\n",
       "        vertical-align: top;\n",
       "    }\n",
       "</style>\n",
       "<table border=\"1\" class=\"dataframe\">\n",
       "  <thead>\n",
       "    <tr style=\"text-align: right;\">\n",
       "      <th></th>\n",
       "      <th>CommentPublished</th>\n",
       "      <th>CommentTextDisplay</th>\n",
       "      <th>CommentAuthorName</th>\n",
       "      <th>CommentLikeCount</th>\n",
       "    </tr>\n",
       "  </thead>\n",
       "  <tbody>\n",
       "    <tr>\n",
       "      <th>0</th>\n",
       "      <td>2017-08-01T18:26:30.000Z</td>\n",
       "      <td>V looks so awesome ! hope they come some day t...</td>\n",
       "      <td>xSeriouslyable</td>\n",
       "      <td>1</td>\n",
       "    </tr>\n",
       "    <tr>\n",
       "      <th>1</th>\n",
       "      <td>2017-08-01T18:24:35.000Z</td>\n",
       "      <td>esteroreroshepo atianitiro  +</td>\n",
       "      <td>strike virtual</td>\n",
       "      <td>0</td>\n",
       "    </tr>\n",
       "    <tr>\n",
       "      <th>2</th>\n",
       "      <td>2017-08-01T18:17:07.000Z</td>\n",
       "      <td>Yeah  jimin♥♥♥♥</td>\n",
       "      <td>yuot yuot</td>\n",
       "      <td>0</td>\n",
       "    </tr>\n",
       "    <tr>\n",
       "      <th>3</th>\n",
       "      <td>2017-08-01T17:59:55.000Z</td>\n",
       "      <td>love</td>\n",
       "      <td>sakar qadr</td>\n",
       "      <td>0</td>\n",
       "    </tr>\n",
       "    <tr>\n",
       "      <th>4</th>\n",
       "      <td>2017-08-01T17:50:49.000Z</td>\n",
       "      <td>Please come to Greece Thessaloniki!!!</td>\n",
       "      <td>brina paulidou</td>\n",
       "      <td>1</td>\n",
       "    </tr>\n",
       "  </tbody>\n",
       "</table>\n",
       "</div>"
      ],
      "text/plain": [
       "           CommentPublished  \\\n",
       "0  2017-08-01T18:26:30.000Z   \n",
       "1  2017-08-01T18:24:35.000Z   \n",
       "2  2017-08-01T18:17:07.000Z   \n",
       "3  2017-08-01T17:59:55.000Z   \n",
       "4  2017-08-01T17:50:49.000Z   \n",
       "\n",
       "                                  CommentTextDisplay CommentAuthorName  \\\n",
       "0  V looks so awesome ! hope they come some day t...    xSeriouslyable   \n",
       "1                      esteroreroshepo atianitiro  +    strike virtual   \n",
       "2                                    Yeah  jimin♥♥♥♥         yuot yuot   \n",
       "3                                               love        sakar qadr   \n",
       "4              Please come to Greece Thessaloniki!!!    brina paulidou   \n",
       "\n",
       "   CommentLikeCount  \n",
       "0                 1  \n",
       "1                 0  \n",
       "2                 0  \n",
       "3                 0  \n",
       "4                 1  "
      ]
     },
     "execution_count": 525,
     "metadata": {},
     "output_type": "execute_result"
    }
   ],
   "source": [
    "# Selecting\n",
    "\n",
    "comments = comments.filter( items=['CommentPublished','CommentTextDisplay','CommentAuthorName','CommentLikeCount'] )\n",
    "\n",
    "comments.head()"
   ]
  },
  {
   "cell_type": "code",
   "execution_count": 526,
   "metadata": {},
   "outputs": [
    {
     "data": {
      "text/html": [
       "<div>\n",
       "<style>\n",
       "    .dataframe thead tr:only-child th {\n",
       "        text-align: right;\n",
       "    }\n",
       "\n",
       "    .dataframe thead th {\n",
       "        text-align: left;\n",
       "    }\n",
       "\n",
       "    .dataframe tbody tr th {\n",
       "        vertical-align: top;\n",
       "    }\n",
       "</style>\n",
       "<table border=\"1\" class=\"dataframe\">\n",
       "  <thead>\n",
       "    <tr style=\"text-align: right;\">\n",
       "      <th></th>\n",
       "      <th>CommentPublished</th>\n",
       "      <th>CommentTextDisplay</th>\n",
       "      <th>CommentAuthorName</th>\n",
       "      <th>CommentLikeCount</th>\n",
       "    </tr>\n",
       "  </thead>\n",
       "  <tbody>\n",
       "    <tr>\n",
       "      <th>1</th>\n",
       "      <td>2017-08-01T18:24:35.000Z</td>\n",
       "      <td>esteroreroshepo atianitiro  +</td>\n",
       "      <td>strike virtual</td>\n",
       "      <td>0</td>\n",
       "    </tr>\n",
       "    <tr>\n",
       "      <th>2</th>\n",
       "      <td>2017-08-01T18:17:07.000Z</td>\n",
       "      <td>Yeah  jimin♥♥♥♥</td>\n",
       "      <td>yuot yuot</td>\n",
       "      <td>0</td>\n",
       "    </tr>\n",
       "    <tr>\n",
       "      <th>3</th>\n",
       "      <td>2017-08-01T17:59:55.000Z</td>\n",
       "      <td>love</td>\n",
       "      <td>sakar qadr</td>\n",
       "      <td>0</td>\n",
       "    </tr>\n",
       "    <tr>\n",
       "      <th>7</th>\n",
       "      <td>2017-08-01T16:26:05.000Z</td>\n",
       "      <td>Who still watch in 2017?</td>\n",
       "      <td>ekisho raito</td>\n",
       "      <td>0</td>\n",
       "    </tr>\n",
       "    <tr>\n",
       "      <th>8</th>\n",
       "      <td>2017-08-01T16:24:59.000Z</td>\n",
       "      <td>Who watch this in 2017?</td>\n",
       "      <td>TheyCallMe Kitty</td>\n",
       "      <td>0</td>\n",
       "    </tr>\n",
       "  </tbody>\n",
       "</table>\n",
       "</div>"
      ],
      "text/plain": [
       "           CommentPublished             CommentTextDisplay CommentAuthorName  \\\n",
       "1  2017-08-01T18:24:35.000Z  esteroreroshepo atianitiro  +    strike virtual   \n",
       "2  2017-08-01T18:17:07.000Z                Yeah  jimin♥♥♥♥         yuot yuot   \n",
       "3  2017-08-01T17:59:55.000Z                           love        sakar qadr   \n",
       "7  2017-08-01T16:26:05.000Z       Who still watch in 2017?      ekisho raito   \n",
       "8  2017-08-01T16:24:59.000Z        Who watch this in 2017?  TheyCallMe Kitty   \n",
       "\n",
       "   CommentLikeCount  \n",
       "1                 0  \n",
       "2                 0  \n",
       "3                 0  \n",
       "7                 0  \n",
       "8                 0  "
      ]
     },
     "execution_count": 526,
     "metadata": {},
     "output_type": "execute_result"
    }
   ],
   "source": [
    "# Filtering\n",
    "\n",
    "zero_likes = comments[ comments['CommentLikeCount'] == 0 ]\n",
    "\n",
    "zero_likes.head()"
   ]
  },
  {
   "cell_type": "code",
   "execution_count": 527,
   "metadata": {},
   "outputs": [
    {
     "data": {
      "text/html": [
       "<div>\n",
       "<style>\n",
       "    .dataframe thead tr:only-child th {\n",
       "        text-align: right;\n",
       "    }\n",
       "\n",
       "    .dataframe thead th {\n",
       "        text-align: left;\n",
       "    }\n",
       "\n",
       "    .dataframe tbody tr th {\n",
       "        vertical-align: top;\n",
       "    }\n",
       "</style>\n",
       "<table border=\"1\" class=\"dataframe\">\n",
       "  <thead>\n",
       "    <tr style=\"text-align: right;\">\n",
       "      <th></th>\n",
       "      <th>CommentPublished</th>\n",
       "      <th>CommentTextDisplay</th>\n",
       "      <th>CommentAuthorName</th>\n",
       "      <th>CommentLikeCount</th>\n",
       "    </tr>\n",
       "  </thead>\n",
       "  <tbody>\n",
       "    <tr>\n",
       "      <th>0</th>\n",
       "      <td>2017-08-01T18:26:30.000Z</td>\n",
       "      <td>V looks so awesome ! hope they come some day t...</td>\n",
       "      <td>xSeriouslyable</td>\n",
       "      <td>1</td>\n",
       "    </tr>\n",
       "    <tr>\n",
       "      <th>4</th>\n",
       "      <td>2017-08-01T17:50:49.000Z</td>\n",
       "      <td>Please come to Greece Thessaloniki!!!</td>\n",
       "      <td>brina paulidou</td>\n",
       "      <td>1</td>\n",
       "    </tr>\n",
       "    <tr>\n",
       "      <th>5</th>\n",
       "      <td>2017-08-01T17:42:27.000Z</td>\n",
       "      <td>like si eres army y nunca los vas a dejar de a...</td>\n",
       "      <td>army forever</td>\n",
       "      <td>1</td>\n",
       "    </tr>\n",
       "    <tr>\n",
       "      <th>6</th>\n",
       "      <td>2017-08-01T17:35:46.000Z</td>\n",
       "      <td>som hermosos</td>\n",
       "      <td>jenni SN</td>\n",
       "      <td>1</td>\n",
       "    </tr>\n",
       "    <tr>\n",
       "      <th>16</th>\n",
       "      <td>2017-08-01T15:31:16.000Z</td>\n",
       "      <td>Limdo😘</td>\n",
       "      <td>julinharavelly Jesus</td>\n",
       "      <td>1</td>\n",
       "    </tr>\n",
       "  </tbody>\n",
       "</table>\n",
       "</div>"
      ],
      "text/plain": [
       "            CommentPublished  \\\n",
       "0   2017-08-01T18:26:30.000Z   \n",
       "4   2017-08-01T17:50:49.000Z   \n",
       "5   2017-08-01T17:42:27.000Z   \n",
       "6   2017-08-01T17:35:46.000Z   \n",
       "16  2017-08-01T15:31:16.000Z   \n",
       "\n",
       "                                   CommentTextDisplay     CommentAuthorName  \\\n",
       "0   V looks so awesome ! hope they come some day t...        xSeriouslyable   \n",
       "4               Please come to Greece Thessaloniki!!!        brina paulidou   \n",
       "5   like si eres army y nunca los vas a dejar de a...          army forever   \n",
       "6                                        som hermosos              jenni SN   \n",
       "16                                             Limdo😘  julinharavelly Jesus   \n",
       "\n",
       "    CommentLikeCount  \n",
       "0                  1  \n",
       "4                  1  \n",
       "5                  1  \n",
       "6                  1  \n",
       "16                 1  "
      ]
     },
     "execution_count": 527,
     "metadata": {},
     "output_type": "execute_result"
    }
   ],
   "source": [
    "one_two_likes = comments[ (comments['CommentLikeCount'] >= 1) & (comments['CommentLikeCount'] <= 2) ]\n",
    "\n",
    "one_two_likes.head()"
   ]
  },
  {
   "cell_type": "code",
   "execution_count": 528,
   "metadata": {},
   "outputs": [
    {
     "data": {
      "text/html": [
       "<div>\n",
       "<style>\n",
       "    .dataframe thead tr:only-child th {\n",
       "        text-align: right;\n",
       "    }\n",
       "\n",
       "    .dataframe thead th {\n",
       "        text-align: left;\n",
       "    }\n",
       "\n",
       "    .dataframe tbody tr th {\n",
       "        vertical-align: top;\n",
       "    }\n",
       "</style>\n",
       "<table border=\"1\" class=\"dataframe\">\n",
       "  <thead>\n",
       "    <tr style=\"text-align: right;\">\n",
       "      <th></th>\n",
       "      <th>CommentPublished</th>\n",
       "      <th>CommentTextDisplay</th>\n",
       "      <th>CommentAuthorName</th>\n",
       "      <th>CommentLikeCount</th>\n",
       "      <th>FewLikes</th>\n",
       "    </tr>\n",
       "  </thead>\n",
       "  <tbody>\n",
       "    <tr>\n",
       "      <th>0</th>\n",
       "      <td>2017-08-01T18:26:30.000Z</td>\n",
       "      <td>V looks so awesome ! hope they come some day t...</td>\n",
       "      <td>xSeriouslyable</td>\n",
       "      <td>1</td>\n",
       "      <td>True</td>\n",
       "    </tr>\n",
       "    <tr>\n",
       "      <th>1</th>\n",
       "      <td>2017-08-01T18:24:35.000Z</td>\n",
       "      <td>esteroreroshepo atianitiro  +</td>\n",
       "      <td>strike virtual</td>\n",
       "      <td>0</td>\n",
       "      <td>False</td>\n",
       "    </tr>\n",
       "    <tr>\n",
       "      <th>2</th>\n",
       "      <td>2017-08-01T18:17:07.000Z</td>\n",
       "      <td>Yeah  jimin♥♥♥♥</td>\n",
       "      <td>yuot yuot</td>\n",
       "      <td>0</td>\n",
       "      <td>False</td>\n",
       "    </tr>\n",
       "    <tr>\n",
       "      <th>3</th>\n",
       "      <td>2017-08-01T17:59:55.000Z</td>\n",
       "      <td>love</td>\n",
       "      <td>sakar qadr</td>\n",
       "      <td>0</td>\n",
       "      <td>False</td>\n",
       "    </tr>\n",
       "    <tr>\n",
       "      <th>4</th>\n",
       "      <td>2017-08-01T17:50:49.000Z</td>\n",
       "      <td>Please come to Greece Thessaloniki!!!</td>\n",
       "      <td>brina paulidou</td>\n",
       "      <td>1</td>\n",
       "      <td>True</td>\n",
       "    </tr>\n",
       "  </tbody>\n",
       "</table>\n",
       "</div>"
      ],
      "text/plain": [
       "           CommentPublished  \\\n",
       "0  2017-08-01T18:26:30.000Z   \n",
       "1  2017-08-01T18:24:35.000Z   \n",
       "2  2017-08-01T18:17:07.000Z   \n",
       "3  2017-08-01T17:59:55.000Z   \n",
       "4  2017-08-01T17:50:49.000Z   \n",
       "\n",
       "                                  CommentTextDisplay CommentAuthorName  \\\n",
       "0  V looks so awesome ! hope they come some day t...    xSeriouslyable   \n",
       "1                      esteroreroshepo atianitiro  +    strike virtual   \n",
       "2                                    Yeah  jimin♥♥♥♥         yuot yuot   \n",
       "3                                               love        sakar qadr   \n",
       "4              Please come to Greece Thessaloniki!!!    brina paulidou   \n",
       "\n",
       "   CommentLikeCount  FewLikes  \n",
       "0                 1      True  \n",
       "1                 0     False  \n",
       "2                 0     False  \n",
       "3                 0     False  \n",
       "4                 1      True  "
      ]
     },
     "execution_count": 528,
     "metadata": {},
     "output_type": "execute_result"
    }
   ],
   "source": [
    "# Adding new column\n",
    "\n",
    "comments['FewLikes'] = (comments['CommentLikeCount'] >= 1) & (comments['CommentLikeCount'] <= 2)\n",
    "\n",
    "comments.head()"
   ]
  },
  {
   "cell_type": "code",
   "execution_count": 529,
   "metadata": {},
   "outputs": [
    {
     "data": {
      "text/html": [
       "<div>\n",
       "<style>\n",
       "    .dataframe thead tr:only-child th {\n",
       "        text-align: right;\n",
       "    }\n",
       "\n",
       "    .dataframe thead th {\n",
       "        text-align: left;\n",
       "    }\n",
       "\n",
       "    .dataframe tbody tr th {\n",
       "        vertical-align: top;\n",
       "    }\n",
       "</style>\n",
       "<table border=\"1\" class=\"dataframe\">\n",
       "  <thead>\n",
       "    <tr style=\"text-align: right;\">\n",
       "      <th></th>\n",
       "      <th>CommentPublished</th>\n",
       "      <th>CommentTextDisplay</th>\n",
       "      <th>CommentAuthorName</th>\n",
       "      <th>CommentLikeCount</th>\n",
       "    </tr>\n",
       "  </thead>\n",
       "  <tbody>\n",
       "    <tr>\n",
       "      <th>0</th>\n",
       "      <td>2017-08-01T18:26:30.000Z</td>\n",
       "      <td>V looks so awesome ! hope they come some day t...</td>\n",
       "      <td>xSeriouslyable</td>\n",
       "      <td>1</td>\n",
       "    </tr>\n",
       "    <tr>\n",
       "      <th>1</th>\n",
       "      <td>2017-08-01T18:24:35.000Z</td>\n",
       "      <td>esteroreroshepo atianitiro  +</td>\n",
       "      <td>strike virtual</td>\n",
       "      <td>0</td>\n",
       "    </tr>\n",
       "    <tr>\n",
       "      <th>2</th>\n",
       "      <td>2017-08-01T18:17:07.000Z</td>\n",
       "      <td>Yeah  jimin♥♥♥♥</td>\n",
       "      <td>yuot yuot</td>\n",
       "      <td>0</td>\n",
       "    </tr>\n",
       "    <tr>\n",
       "      <th>3</th>\n",
       "      <td>2017-08-01T17:59:55.000Z</td>\n",
       "      <td>love</td>\n",
       "      <td>sakar qadr</td>\n",
       "      <td>0</td>\n",
       "    </tr>\n",
       "    <tr>\n",
       "      <th>4</th>\n",
       "      <td>2017-08-01T17:50:49.000Z</td>\n",
       "      <td>Please come to Greece Thessaloniki!!!</td>\n",
       "      <td>brina paulidou</td>\n",
       "      <td>1</td>\n",
       "    </tr>\n",
       "  </tbody>\n",
       "</table>\n",
       "</div>"
      ],
      "text/plain": [
       "           CommentPublished  \\\n",
       "0  2017-08-01T18:26:30.000Z   \n",
       "1  2017-08-01T18:24:35.000Z   \n",
       "2  2017-08-01T18:17:07.000Z   \n",
       "3  2017-08-01T17:59:55.000Z   \n",
       "4  2017-08-01T17:50:49.000Z   \n",
       "\n",
       "                                  CommentTextDisplay CommentAuthorName  \\\n",
       "0  V looks so awesome ! hope they come some day t...    xSeriouslyable   \n",
       "1                      esteroreroshepo atianitiro  +    strike virtual   \n",
       "2                                    Yeah  jimin♥♥♥♥         yuot yuot   \n",
       "3                                               love        sakar qadr   \n",
       "4              Please come to Greece Thessaloniki!!!    brina paulidou   \n",
       "\n",
       "   CommentLikeCount  \n",
       "0                 1  \n",
       "1                 0  \n",
       "2                 0  \n",
       "3                 0  \n",
       "4                 1  "
      ]
     },
     "execution_count": 529,
     "metadata": {},
     "output_type": "execute_result"
    }
   ],
   "source": [
    "del comments['FewLikes']\n",
    "\n",
    "comments.head()"
   ]
  },
  {
   "cell_type": "code",
   "execution_count": 530,
   "metadata": {},
   "outputs": [
    {
     "name": "stdout",
     "output_type": "stream",
     "text": [
      "0    V looks so awesome ! hope they come some day t...\n",
      "1                        esteroreroshepo atianitiro  +\n",
      "2                                      Yeah  jimin♥♥♥♥\n",
      "3                                                 love\n",
      "4                Please come to Greece Thessaloniki!!!\n",
      "Name: CommentTextDisplay, dtype: object\n",
      "\n",
      "---------------------------------------------------------\n",
      "\n",
      "0    V looks so awesome ! hope they come some day t...\n",
      "1                        esteroreroshepo atianitiro  +\n",
      "2                                      Yeah  jimin♥♥♥♥\n",
      "3                                                 love\n",
      "4                Please come to Greece Thessaloniki!!!\n",
      "Name: CommentTextDisplay, dtype: object\n",
      "\n",
      "---------------------------------------------------------\n",
      "\n",
      "['V looks so awesome ! hope they come some day to germany xD'\n",
      " 'esteroreroshepo atianitiro  +' 'Yeah  jimin♥♥♥♥' 'love'\n",
      " 'Please come to Greece Thessaloniki!!!']\n"
     ]
    }
   ],
   "source": [
    "# Synonyms\n",
    "\n",
    "print( comments.head()['CommentTextDisplay'] )\n",
    "\n",
    "print (\"\\n---------------------------------------------------------\\n\")\n",
    "\n",
    "print( comments.head().CommentTextDisplay )\n",
    "\n",
    "print (\"\\n---------------------------------------------------------\\n\")\n",
    "\n",
    "print( comments.head().CommentTextDisplay.values )"
   ]
  },
  {
   "cell_type": "code",
   "execution_count": 531,
   "metadata": {},
   "outputs": [
    {
     "name": "stdout",
     "output_type": "stream",
     "text": [
      "CommentPublished                   2017-08-01T17:50:49.000Z\n",
      "CommentTextDisplay    Please come to Greece Thessaloniki!!!\n",
      "CommentAuthorName                            brina paulidou\n",
      "CommentLikeCount                                          1\n",
      "Name: 4, dtype: object\n",
      "\n",
      "---------------------------------------------------------\n",
      "\n",
      "Please come to Greece Thessaloniki!!!\n"
     ]
    }
   ],
   "source": [
    "# Print one specific line\n",
    "\n",
    "print (comments.loc[4])\n",
    "\n",
    "print (\"\\n---------------------------------------------------------\\n\")\n",
    "\n",
    "print (comments.loc[4].CommentTextDisplay)"
   ]
  },
  {
   "cell_type": "markdown",
   "metadata": {},
   "source": [
    "# Basic statistics and data visualisation"
   ]
  },
  {
   "cell_type": "code",
   "execution_count": 532,
   "metadata": {},
   "outputs": [
    {
     "data": {
      "text/html": [
       "<div>\n",
       "<style>\n",
       "    .dataframe thead tr:only-child th {\n",
       "        text-align: right;\n",
       "    }\n",
       "\n",
       "    .dataframe thead th {\n",
       "        text-align: left;\n",
       "    }\n",
       "\n",
       "    .dataframe tbody tr th {\n",
       "        vertical-align: top;\n",
       "    }\n",
       "</style>\n",
       "<table border=\"1\" class=\"dataframe\">\n",
       "  <thead>\n",
       "    <tr style=\"text-align: right;\">\n",
       "      <th></th>\n",
       "      <th>CommentPublished</th>\n",
       "      <th>CommentTextDisplay</th>\n",
       "      <th>CommentAuthorName</th>\n",
       "      <th>CommentLikeCount</th>\n",
       "    </tr>\n",
       "  </thead>\n",
       "  <tbody>\n",
       "    <tr>\n",
       "      <th>0</th>\n",
       "      <td>2017-08-01T18:26:30.000Z</td>\n",
       "      <td>V looks so awesome ! hope they come some day t...</td>\n",
       "      <td>xSeriouslyable</td>\n",
       "      <td>1</td>\n",
       "    </tr>\n",
       "    <tr>\n",
       "      <th>1</th>\n",
       "      <td>2017-08-01T18:24:35.000Z</td>\n",
       "      <td>esteroreroshepo atianitiro  +</td>\n",
       "      <td>strike virtual</td>\n",
       "      <td>0</td>\n",
       "    </tr>\n",
       "    <tr>\n",
       "      <th>2</th>\n",
       "      <td>2017-08-01T18:17:07.000Z</td>\n",
       "      <td>Yeah  jimin♥♥♥♥</td>\n",
       "      <td>yuot yuot</td>\n",
       "      <td>0</td>\n",
       "    </tr>\n",
       "    <tr>\n",
       "      <th>3</th>\n",
       "      <td>2017-08-01T17:59:55.000Z</td>\n",
       "      <td>love</td>\n",
       "      <td>sakar qadr</td>\n",
       "      <td>0</td>\n",
       "    </tr>\n",
       "    <tr>\n",
       "      <th>4</th>\n",
       "      <td>2017-08-01T17:50:49.000Z</td>\n",
       "      <td>Please come to Greece Thessaloniki!!!</td>\n",
       "      <td>brina paulidou</td>\n",
       "      <td>1</td>\n",
       "    </tr>\n",
       "  </tbody>\n",
       "</table>\n",
       "</div>"
      ],
      "text/plain": [
       "           CommentPublished  \\\n",
       "0  2017-08-01T18:26:30.000Z   \n",
       "1  2017-08-01T18:24:35.000Z   \n",
       "2  2017-08-01T18:17:07.000Z   \n",
       "3  2017-08-01T17:59:55.000Z   \n",
       "4  2017-08-01T17:50:49.000Z   \n",
       "\n",
       "                                  CommentTextDisplay CommentAuthorName  \\\n",
       "0  V looks so awesome ! hope they come some day t...    xSeriouslyable   \n",
       "1                      esteroreroshepo atianitiro  +    strike virtual   \n",
       "2                                    Yeah  jimin♥♥♥♥         yuot yuot   \n",
       "3                                               love        sakar qadr   \n",
       "4              Please come to Greece Thessaloniki!!!    brina paulidou   \n",
       "\n",
       "   CommentLikeCount  \n",
       "0                 1  \n",
       "1                 0  \n",
       "2                 0  \n",
       "3                 0  \n",
       "4                 1  "
      ]
     },
     "execution_count": 532,
     "metadata": {},
     "output_type": "execute_result"
    }
   ],
   "source": [
    "comments.head()"
   ]
  },
  {
   "cell_type": "code",
   "execution_count": 533,
   "metadata": {},
   "outputs": [
    {
     "data": {
      "text/plain": [
       "datetime.datetime(2017, 8, 1, 18, 26, 30, tzinfo=tzutc())"
      ]
     },
     "execution_count": 533,
     "metadata": {},
     "output_type": "execute_result"
    }
   ],
   "source": [
    "# Fixing dates and times \n",
    "\n",
    "from datetime import datetime\n",
    "from dateutil import parser\n",
    "\n",
    "dt = parser.parse('2017-08-01T18:26:30.000Z')\n",
    "\n",
    "dt"
   ]
  },
  {
   "cell_type": "code",
   "execution_count": 534,
   "metadata": {},
   "outputs": [
    {
     "name": "stdout",
     "output_type": "stream",
     "text": [
      "min CommentDateTime = 2017-08-01 02:25:18+00:00\n",
      "max CommentDateTime = 2017-08-01 18:26:30+00:00\n"
     ]
    }
   ],
   "source": [
    "# apply and lambda\n",
    "\n",
    "comments['CommentDateTime'] = comments.apply( lambda row: parser.parse(row.CommentPublished), axis=1 )  \n",
    "\n",
    "print( \"min CommentDateTime =\", comments.CommentDateTime.min() )\n",
    "print( \"max CommentDateTime =\", comments.CommentDateTime.max() )"
   ]
  },
  {
   "cell_type": "code",
   "execution_count": 535,
   "metadata": {},
   "outputs": [
    {
     "data": {
      "text/html": [
       "<div>\n",
       "<style>\n",
       "    .dataframe thead tr:only-child th {\n",
       "        text-align: right;\n",
       "    }\n",
       "\n",
       "    .dataframe thead th {\n",
       "        text-align: left;\n",
       "    }\n",
       "\n",
       "    .dataframe tbody tr th {\n",
       "        vertical-align: top;\n",
       "    }\n",
       "</style>\n",
       "<table border=\"1\" class=\"dataframe\">\n",
       "  <thead>\n",
       "    <tr style=\"text-align: right;\">\n",
       "      <th></th>\n",
       "      <th>CommentPublished</th>\n",
       "      <th>CommentTextDisplay</th>\n",
       "      <th>CommentAuthorName</th>\n",
       "      <th>CommentLikeCount</th>\n",
       "      <th>CommentDateTime</th>\n",
       "      <th>hour</th>\n",
       "    </tr>\n",
       "  </thead>\n",
       "  <tbody>\n",
       "    <tr>\n",
       "      <th>0</th>\n",
       "      <td>2017-08-01T18:26:30.000Z</td>\n",
       "      <td>V looks so awesome ! hope they come some day t...</td>\n",
       "      <td>xSeriouslyable</td>\n",
       "      <td>1</td>\n",
       "      <td>2017-08-01 18:26:30+00:00</td>\n",
       "      <td>18</td>\n",
       "    </tr>\n",
       "    <tr>\n",
       "      <th>1</th>\n",
       "      <td>2017-08-01T18:24:35.000Z</td>\n",
       "      <td>esteroreroshepo atianitiro  +</td>\n",
       "      <td>strike virtual</td>\n",
       "      <td>0</td>\n",
       "      <td>2017-08-01 18:24:35+00:00</td>\n",
       "      <td>18</td>\n",
       "    </tr>\n",
       "    <tr>\n",
       "      <th>2</th>\n",
       "      <td>2017-08-01T18:17:07.000Z</td>\n",
       "      <td>Yeah  jimin♥♥♥♥</td>\n",
       "      <td>yuot yuot</td>\n",
       "      <td>0</td>\n",
       "      <td>2017-08-01 18:17:07+00:00</td>\n",
       "      <td>18</td>\n",
       "    </tr>\n",
       "    <tr>\n",
       "      <th>3</th>\n",
       "      <td>2017-08-01T17:59:55.000Z</td>\n",
       "      <td>love</td>\n",
       "      <td>sakar qadr</td>\n",
       "      <td>0</td>\n",
       "      <td>2017-08-01 17:59:55+00:00</td>\n",
       "      <td>17</td>\n",
       "    </tr>\n",
       "    <tr>\n",
       "      <th>4</th>\n",
       "      <td>2017-08-01T17:50:49.000Z</td>\n",
       "      <td>Please come to Greece Thessaloniki!!!</td>\n",
       "      <td>brina paulidou</td>\n",
       "      <td>1</td>\n",
       "      <td>2017-08-01 17:50:49+00:00</td>\n",
       "      <td>17</td>\n",
       "    </tr>\n",
       "  </tbody>\n",
       "</table>\n",
       "</div>"
      ],
      "text/plain": [
       "           CommentPublished  \\\n",
       "0  2017-08-01T18:26:30.000Z   \n",
       "1  2017-08-01T18:24:35.000Z   \n",
       "2  2017-08-01T18:17:07.000Z   \n",
       "3  2017-08-01T17:59:55.000Z   \n",
       "4  2017-08-01T17:50:49.000Z   \n",
       "\n",
       "                                  CommentTextDisplay CommentAuthorName  \\\n",
       "0  V looks so awesome ! hope they come some day t...    xSeriouslyable   \n",
       "1                      esteroreroshepo atianitiro  +    strike virtual   \n",
       "2                                    Yeah  jimin♥♥♥♥         yuot yuot   \n",
       "3                                               love        sakar qadr   \n",
       "4              Please come to Greece Thessaloniki!!!    brina paulidou   \n",
       "\n",
       "   CommentLikeCount           CommentDateTime  hour  \n",
       "0                 1 2017-08-01 18:26:30+00:00    18  \n",
       "1                 0 2017-08-01 18:24:35+00:00    18  \n",
       "2                 0 2017-08-01 18:17:07+00:00    18  \n",
       "3                 0 2017-08-01 17:59:55+00:00    17  \n",
       "4                 1 2017-08-01 17:50:49+00:00    17  "
      ]
     },
     "execution_count": 535,
     "metadata": {},
     "output_type": "execute_result"
    }
   ],
   "source": [
    "comments['hour'] = comments.apply( lambda row: row.CommentDateTime.hour, axis=1 )  \n",
    "\n",
    "comments.head()"
   ]
  },
  {
   "cell_type": "markdown",
   "metadata": {},
   "source": [
    "### Comments over time"
   ]
  },
  {
   "cell_type": "code",
   "execution_count": 536,
   "metadata": {},
   "outputs": [],
   "source": [
    "import matplotlib.pyplot as plt\n",
    "import seaborn as sns\n",
    "sns.set()\n",
    "sns.set(color_codes=True)\n",
    "sns.set_context(\"notebook\", font_scale=1.5, rc={\"lines.linewidth\": 2.5})"
   ]
  },
  {
   "cell_type": "code",
   "execution_count": 537,
   "metadata": {},
   "outputs": [
    {
     "data": {
      "image/png": "[encoded data removed]",
      "text/plain": [
       "<matplotlib.figure.Figure at 0x7f29b9adff28>"
      ]
     },
     "metadata": {},
     "output_type": "display_data"
    }
   ],
   "source": [
    "g = sns.factorplot(x=\"hour\", data=comments, kind=\"count\",\n",
    "                   palette=\"BuPu\", size=6, aspect=1.5)"
   ]
  },
  {
   "cell_type": "markdown",
   "metadata": {},
   "source": [
    "### Likes per comment"
   ]
  },
  {
   "cell_type": "code",
   "execution_count": 538,
   "metadata": {},
   "outputs": [
    {
     "name": "stdout",
     "output_type": "stream",
     "text": [
      "The mean number of likes per comment is 0.959595959596\n"
     ]
    }
   ],
   "source": [
    "print (\"The mean number of likes per comment is\", comments.CommentLikeCount.mean())"
   ]
  },
  {
   "cell_type": "code",
   "execution_count": 539,
   "metadata": {},
   "outputs": [
    {
     "data": {
      "text/plain": [
       "Counter({0: 40, 1: 43, 2: 4, 3: 8, 4: 2, 6: 2})"
      ]
     },
     "execution_count": 539,
     "metadata": {},
     "output_type": "execute_result"
    }
   ],
   "source": [
    "from collections import Counter\n",
    "\n",
    "Counter( comments.CommentLikeCount )"
   ]
  },
  {
   "cell_type": "code",
   "execution_count": 540,
   "metadata": {},
   "outputs": [
    {
     "data": {
      "image/png": "[encoded data removed]",
      "text/plain": [
       "<matplotlib.figure.Figure at 0x7f29b9b2a3c8>"
      ]
     },
     "metadata": {},
     "output_type": "display_data"
    }
   ],
   "source": [
    "g = sns.distplot( comments.CommentLikeCount, kde=False, rug=False )\n",
    "g = g.set_ylabel('number of comments')"
   ]
  },
  {
   "cell_type": "markdown",
   "metadata": {},
   "source": [
    "We can look in more detail at the comments with the most likes."
   ]
  },
  {
   "cell_type": "code",
   "execution_count": 541,
   "metadata": {},
   "outputs": [
    {
     "name": "stdout",
     "output_type": "stream",
     "text": [
      "i've been watching BTS' MVs and bangtan bombs for the past 2 weeks nonstop i think i remember all their names now..hopefully (yay)! its so amazing how they have achieved so many things yet they're so so humble u don't see that these days with a lot of celebs. i almost feel like they're my family they're just so relatable and genuine its crazy af i now get why they have so many loyal fans youse aren't messing around lmao    the guy at 2:00 i think hoseok is his name?? oh boy that man caught my attention in dope (my very first bts video) and he is still catching my attention he is beautiful and got smooth moves!!\n",
      "\n",
      "Dont wanna be lonely, just wanna be yours, same Jimin same 😍\n",
      "\n",
      "LIKE YES THE LIKE JIMIN Y SUGA\n",
      "\n",
      "JIMINNNNNNN AHHHHH\n",
      "\n"
     ]
    }
   ],
   "source": [
    "for i in comments[ comments.CommentLikeCount > 3 ].CommentTextDisplay:\n",
    "    print(i+'\\n')"
   ]
  },
  {
   "cell_type": "code",
   "execution_count": 553,
   "metadata": {},
   "outputs": [
    {
     "name": "stdout",
     "output_type": "stream",
     "text": [
      "Number of unique authors:  91\n"
     ]
    }
   ],
   "source": [
    "# Set\n",
    "all_authors = set(comments.CommentAuthorName)\n",
    "print (\"Number of unique authors: \",len(all_authors))"
   ]
  },
  {
   "cell_type": "code",
   "execution_count": 542,
   "metadata": {},
   "outputs": [
    {
     "data": {
      "text/html": [
       "<div>\n",
       "<style>\n",
       "    .dataframe thead tr:only-child th {\n",
       "        text-align: right;\n",
       "    }\n",
       "\n",
       "    .dataframe thead th {\n",
       "        text-align: left;\n",
       "    }\n",
       "\n",
       "    .dataframe tbody tr th {\n",
       "        vertical-align: top;\n",
       "    }\n",
       "</style>\n",
       "<table border=\"1\" class=\"dataframe\">\n",
       "  <thead>\n",
       "    <tr style=\"text-align: right;\">\n",
       "      <th></th>\n",
       "      <th>Author</th>\n",
       "      <th>CommentCount</th>\n",
       "      <th>TotalLikes</th>\n",
       "    </tr>\n",
       "  </thead>\n",
       "  <tbody>\n",
       "    <tr>\n",
       "      <th>0</th>\n",
       "      <td>strike virtual</td>\n",
       "      <td>1</td>\n",
       "      <td>0</td>\n",
       "    </tr>\n",
       "    <tr>\n",
       "      <th>1</th>\n",
       "      <td>Coreen Chan</td>\n",
       "      <td>1</td>\n",
       "      <td>0</td>\n",
       "    </tr>\n",
       "    <tr>\n",
       "      <th>2</th>\n",
       "      <td>Владислава Касько</td>\n",
       "      <td>1</td>\n",
       "      <td>1</td>\n",
       "    </tr>\n",
       "    <tr>\n",
       "      <th>3</th>\n",
       "      <td>M yayy</td>\n",
       "      <td>1</td>\n",
       "      <td>3</td>\n",
       "    </tr>\n",
       "    <tr>\n",
       "      <th>4</th>\n",
       "      <td>Abinaya Sinna</td>\n",
       "      <td>2</td>\n",
       "      <td>6</td>\n",
       "    </tr>\n",
       "  </tbody>\n",
       "</table>\n",
       "</div>"
      ],
      "text/plain": [
       "              Author  CommentCount  TotalLikes\n",
       "0     strike virtual             1           0\n",
       "1        Coreen Chan             1           0\n",
       "2  Владислава Касько             1           1\n",
       "3             M yayy             1           3\n",
       "4      Abinaya Sinna             2           6"
      ]
     },
     "execution_count": 542,
     "metadata": {},
     "output_type": "execute_result"
    }
   ],
   "source": [
    "comments_per_author = []\n",
    "likes_per_author = []\n",
    "\n",
    "for author in all_authors:\n",
    "    number_of_comments = len(comments[comments.CommentAuthorName ==  author])\n",
    "    comments_per_author.append(number_of_comments)\n",
    "    \n",
    "    number_of_likes    = comments[comments.CommentAuthorName ==  author].CommentLikeCount.sum()\n",
    "    likes_per_author.append(number_of_likes)\n",
    "\n",
    "data_dict = { 'Author':list(all_authors), 'CommentCount':comments_per_author, 'TotalLikes':likes_per_author }\n",
    "authors = pd.DataFrame(data_dict)\n",
    "\n",
    "authors.head()"
   ]
  },
  {
   "cell_type": "code",
   "execution_count": 543,
   "metadata": {},
   "outputs": [
    {
     "data": {
      "text/html": [
       "<div>\n",
       "<style>\n",
       "    .dataframe thead tr:only-child th {\n",
       "        text-align: right;\n",
       "    }\n",
       "\n",
       "    .dataframe thead th {\n",
       "        text-align: left;\n",
       "    }\n",
       "\n",
       "    .dataframe tbody tr th {\n",
       "        vertical-align: top;\n",
       "    }\n",
       "</style>\n",
       "<table border=\"1\" class=\"dataframe\">\n",
       "  <thead>\n",
       "    <tr style=\"text-align: right;\">\n",
       "      <th></th>\n",
       "      <th>Author</th>\n",
       "      <th>CommentCount</th>\n",
       "      <th>TotalLikes</th>\n",
       "    </tr>\n",
       "  </thead>\n",
       "  <tbody>\n",
       "    <tr>\n",
       "      <th>4</th>\n",
       "      <td>Abinaya Sinna</td>\n",
       "      <td>2</td>\n",
       "      <td>6</td>\n",
       "    </tr>\n",
       "    <tr>\n",
       "      <th>59</th>\n",
       "      <td>nicole segura</td>\n",
       "      <td>1</td>\n",
       "      <td>6</td>\n",
       "    </tr>\n",
       "    <tr>\n",
       "      <th>21</th>\n",
       "      <td>heyjude9895</td>\n",
       "      <td>2</td>\n",
       "      <td>5</td>\n",
       "    </tr>\n",
       "    <tr>\n",
       "      <th>31</th>\n",
       "      <td>Jasmin 75</td>\n",
       "      <td>1</td>\n",
       "      <td>4</td>\n",
       "    </tr>\n",
       "    <tr>\n",
       "      <th>18</th>\n",
       "      <td>Jeon Jk</td>\n",
       "      <td>1</td>\n",
       "      <td>3</td>\n",
       "    </tr>\n",
       "    <tr>\n",
       "      <th>64</th>\n",
       "      <td>SeeTheUnseen</td>\n",
       "      <td>1</td>\n",
       "      <td>3</td>\n",
       "    </tr>\n",
       "    <tr>\n",
       "      <th>68</th>\n",
       "      <td>Özüm Bal</td>\n",
       "      <td>1</td>\n",
       "      <td>3</td>\n",
       "    </tr>\n",
       "    <tr>\n",
       "      <th>30</th>\n",
       "      <td>x Kaskata</td>\n",
       "      <td>1</td>\n",
       "      <td>3</td>\n",
       "    </tr>\n",
       "    <tr>\n",
       "      <th>56</th>\n",
       "      <td>Gloria S.</td>\n",
       "      <td>1</td>\n",
       "      <td>3</td>\n",
       "    </tr>\n",
       "    <tr>\n",
       "      <th>11</th>\n",
       "      <td>xanh sen</td>\n",
       "      <td>1</td>\n",
       "      <td>3</td>\n",
       "    </tr>\n",
       "    <tr>\n",
       "      <th>60</th>\n",
       "      <td>Lulu</td>\n",
       "      <td>2</td>\n",
       "      <td>3</td>\n",
       "    </tr>\n",
       "    <tr>\n",
       "      <th>3</th>\n",
       "      <td>M yayy</td>\n",
       "      <td>1</td>\n",
       "      <td>3</td>\n",
       "    </tr>\n",
       "    <tr>\n",
       "      <th>34</th>\n",
       "      <td>Tuyết Trần</td>\n",
       "      <td>1</td>\n",
       "      <td>3</td>\n",
       "    </tr>\n",
       "    <tr>\n",
       "      <th>8</th>\n",
       "      <td>lovecha som</td>\n",
       "      <td>1</td>\n",
       "      <td>2</td>\n",
       "    </tr>\n",
       "    <tr>\n",
       "      <th>14</th>\n",
       "      <td>Steph Ranis</td>\n",
       "      <td>2</td>\n",
       "      <td>2</td>\n",
       "    </tr>\n",
       "    <tr>\n",
       "      <th>53</th>\n",
       "      <td>Mint Naka</td>\n",
       "      <td>1</td>\n",
       "      <td>2</td>\n",
       "    </tr>\n",
       "    <tr>\n",
       "      <th>72</th>\n",
       "      <td>Katherine Hernandez</td>\n",
       "      <td>1</td>\n",
       "      <td>2</td>\n",
       "    </tr>\n",
       "    <tr>\n",
       "      <th>70</th>\n",
       "      <td>Evawex You</td>\n",
       "      <td>1</td>\n",
       "      <td>1</td>\n",
       "    </tr>\n",
       "    <tr>\n",
       "      <th>76</th>\n",
       "      <td>Sude wang</td>\n",
       "      <td>1</td>\n",
       "      <td>1</td>\n",
       "    </tr>\n",
       "    <tr>\n",
       "      <th>40</th>\n",
       "      <td>Brisa Martinez</td>\n",
       "      <td>1</td>\n",
       "      <td>1</td>\n",
       "    </tr>\n",
       "  </tbody>\n",
       "</table>\n",
       "</div>"
      ],
      "text/plain": [
       "                 Author  CommentCount  TotalLikes\n",
       "4         Abinaya Sinna             2           6\n",
       "59        nicole segura             1           6\n",
       "21          heyjude9895             2           5\n",
       "31            Jasmin 75             1           4\n",
       "18              Jeon Jk             1           3\n",
       "64         SeeTheUnseen             1           3\n",
       "68             Özüm Bal             1           3\n",
       "30            x Kaskata             1           3\n",
       "56            Gloria S.             1           3\n",
       "11             xanh sen             1           3\n",
       "60                 Lulu             2           3\n",
       "3                M yayy             1           3\n",
       "34           Tuyết Trần             1           3\n",
       "8           lovecha som             1           2\n",
       "14          Steph Ranis             2           2\n",
       "53            Mint Naka             1           2\n",
       "72  Katherine Hernandez             1           2\n",
       "70           Evawex You             1           1\n",
       "76            Sude wang             1           1\n",
       "40       Brisa Martinez             1           1"
      ]
     },
     "execution_count": 543,
     "metadata": {},
     "output_type": "execute_result"
    }
   ],
   "source": [
    "authors = authors.sort_values('TotalLikes', ascending=False)\n",
    "authors.head(20)"
   ]
  },
  {
   "cell_type": "code",
   "execution_count": 544,
   "metadata": {},
   "outputs": [
    {
     "data": {
      "image/png": "[encoded data removed]",
      "text/plain": [
       "<matplotlib.figure.Figure at 0x7f29b9455518>"
      ]
     },
     "metadata": {},
     "output_type": "display_data"
    }
   ],
   "source": [
    "g = sns.factorplot(x=\"Author\", y='TotalLikes', data=authors[authors.TotalLikes>0], \n",
    "                   kind='bar', size=6, color='b', aspect=2.5)\n",
    "\n",
    "g = g.set_xticklabels(rotation=90)\n",
    "g = g.set( ylim=(0,7) )\n",
    "\n",
    "## To make horizontal bars:\n",
    "#g = sns.factorplot(orient='h', y=\"Author\", x='TotalLikes', data=authors[authors.TotalLikes>0], \n",
    "#                   kind='bar', size=12, color='b', aspect=0.5)\n",
    "#g = g.set_xticklabels(rotation=90)\n",
    "#g = g.set( xlim=(0,7) )"
   ]
  },
  {
   "cell_type": "markdown",
   "metadata": {},
   "source": [
    "### Comment counts for each video for each of the four groups"
   ]
  },
  {
   "cell_type": "code",
   "execution_count": 545,
   "metadata": {},
   "outputs": [],
   "source": [
    "# Blackpink comment counts.\n",
    "df_blackpink_counts = pd.read_csv(\"data/kpop_comment_counts/blackpink_comment_counts.txt\", sep=\"\\t\")\n",
    "\n",
    "# BTS comment counts.\n",
    "df_bts_counts = pd.read_csv(\"data/kpop_comment_counts/bts_comment_counts.txt\", sep=\"\\t\")\n",
    "\n",
    "# EXO comment counts.\n",
    "df_exo_counts = pd.read_csv(\"data/kpop_comment_counts/exo_comment_counts.txt\", sep=\"\\t\")\n",
    "\n",
    "# Twice comment counts.\n",
    "df_twice_counts = pd.read_csv(\"data/kpop_comment_counts/twice_comment_counts.txt\", sep=\"\\t\")"
   ]
  },
  {
   "cell_type": "code",
   "execution_count": 546,
   "metadata": {},
   "outputs": [
    {
     "data": {
      "text/html": [
       "<div>\n",
       "<style>\n",
       "    .dataframe thead tr:only-child th {\n",
       "        text-align: right;\n",
       "    }\n",
       "\n",
       "    .dataframe thead th {\n",
       "        text-align: left;\n",
       "    }\n",
       "\n",
       "    .dataframe tbody tr th {\n",
       "        vertical-align: top;\n",
       "    }\n",
       "</style>\n",
       "<table border=\"1\" class=\"dataframe\">\n",
       "  <thead>\n",
       "    <tr style=\"text-align: right;\">\n",
       "      <th></th>\n",
       "      <th>VideoID</th>\n",
       "      <th>Comments</th>\n",
       "    </tr>\n",
       "  </thead>\n",
       "  <tbody>\n",
       "    <tr>\n",
       "      <th>0</th>\n",
       "      <td>hKUJmA9O6iA</td>\n",
       "      <td>7317</td>\n",
       "    </tr>\n",
       "    <tr>\n",
       "      <th>1</th>\n",
       "      <td>Amq-qlqbjYA</td>\n",
       "      <td>50184</td>\n",
       "    </tr>\n",
       "    <tr>\n",
       "      <th>2</th>\n",
       "      <td>9pdj4iJD08s</td>\n",
       "      <td>41426</td>\n",
       "    </tr>\n",
       "    <tr>\n",
       "      <th>3</th>\n",
       "      <td>FzVR_fymZw4</td>\n",
       "      <td>23461</td>\n",
       "    </tr>\n",
       "    <tr>\n",
       "      <th>4</th>\n",
       "      <td>NvWfJTbrTBY</td>\n",
       "      <td>9376</td>\n",
       "    </tr>\n",
       "  </tbody>\n",
       "</table>\n",
       "</div>"
      ],
      "text/plain": [
       "       VideoID  Comments\n",
       "0  hKUJmA9O6iA      7317\n",
       "1  Amq-qlqbjYA     50184\n",
       "2  9pdj4iJD08s     41426\n",
       "3  FzVR_fymZw4     23461\n",
       "4  NvWfJTbrTBY      9376"
      ]
     },
     "execution_count": 546,
     "metadata": {},
     "output_type": "execute_result"
    }
   ],
   "source": [
    "df_blackpink_counts.head()"
   ]
  },
  {
   "cell_type": "code",
   "execution_count": 547,
   "metadata": {},
   "outputs": [],
   "source": [
    "all_bands  = [ df_blackpink_counts, df_bts_counts, df_exo_counts, df_twice_counts ]\n",
    "band_names = [ 'Black Pink', 'BTS', 'EXO', 'TWICE' ]\n",
    "\n",
    "for df,name in zip(all_bands, band_names):\n",
    "    df['BandName'] = [name]*len(df)    "
   ]
  },
  {
   "cell_type": "code",
   "execution_count": 548,
   "metadata": {},
   "outputs": [
    {
     "data": {
      "text/html": [
       "<div>\n",
       "<style>\n",
       "    .dataframe thead tr:only-child th {\n",
       "        text-align: right;\n",
       "    }\n",
       "\n",
       "    .dataframe thead th {\n",
       "        text-align: left;\n",
       "    }\n",
       "\n",
       "    .dataframe tbody tr th {\n",
       "        vertical-align: top;\n",
       "    }\n",
       "</style>\n",
       "<table border=\"1\" class=\"dataframe\">\n",
       "  <thead>\n",
       "    <tr style=\"text-align: right;\">\n",
       "      <th></th>\n",
       "      <th>VideoID</th>\n",
       "      <th>Comments</th>\n",
       "      <th>BandName</th>\n",
       "    </tr>\n",
       "  </thead>\n",
       "  <tbody>\n",
       "    <tr>\n",
       "      <th>0</th>\n",
       "      <td>hKUJmA9O6iA</td>\n",
       "      <td>7317</td>\n",
       "      <td>Black Pink</td>\n",
       "    </tr>\n",
       "    <tr>\n",
       "      <th>1</th>\n",
       "      <td>Amq-qlqbjYA</td>\n",
       "      <td>50184</td>\n",
       "      <td>Black Pink</td>\n",
       "    </tr>\n",
       "    <tr>\n",
       "      <th>2</th>\n",
       "      <td>9pdj4iJD08s</td>\n",
       "      <td>41426</td>\n",
       "      <td>Black Pink</td>\n",
       "    </tr>\n",
       "    <tr>\n",
       "      <th>3</th>\n",
       "      <td>FzVR_fymZw4</td>\n",
       "      <td>23461</td>\n",
       "      <td>Black Pink</td>\n",
       "    </tr>\n",
       "    <tr>\n",
       "      <th>4</th>\n",
       "      <td>NvWfJTbrTBY</td>\n",
       "      <td>9376</td>\n",
       "      <td>Black Pink</td>\n",
       "    </tr>\n",
       "  </tbody>\n",
       "</table>\n",
       "</div>"
      ],
      "text/plain": [
       "       VideoID  Comments    BandName\n",
       "0  hKUJmA9O6iA      7317  Black Pink\n",
       "1  Amq-qlqbjYA     50184  Black Pink\n",
       "2  9pdj4iJD08s     41426  Black Pink\n",
       "3  FzVR_fymZw4     23461  Black Pink\n",
       "4  NvWfJTbrTBY      9376  Black Pink"
      ]
     },
     "execution_count": 548,
     "metadata": {},
     "output_type": "execute_result"
    }
   ],
   "source": [
    "df_blackpink_counts.head()"
   ]
  },
  {
   "cell_type": "code",
   "execution_count": 549,
   "metadata": {},
   "outputs": [
    {
     "data": {
      "text/plain": [
       "[None]"
      ]
     },
     "execution_count": 549,
     "metadata": {},
     "output_type": "execute_result"
    },
    {
     "data": {
      "image/png": "[encoded data removed]",
      "text/plain": [
       "<matplotlib.figure.Figure at 0x7f29b9562e80>"
      ]
     },
     "metadata": {},
     "output_type": "display_data"
    }
   ],
   "source": [
    "df_allbands = pd.concat(all_bands)\n",
    "\n",
    "plt.subplots(figsize=(11,9))\n",
    "g = sns.boxplot(x=\"BandName\", y=\"Comments\", hue=\"BandName\", data=df_allbands, dodge=False)\n",
    "g.set( yscale='log' )"
   ]
  },
  {
   "cell_type": "code",
   "execution_count": null,
   "metadata": {},
   "outputs": [],
   "source": [
    "# Metadata about all videos.\n",
    "df_videos = pd.read_excel(\"data/videos.xlsx\", sheetname=0) \n",
    "\n",
    "# Comments about Twice videos.\n",
    "df_twice = pd.read_excel(\"data/videos.xlsx\", sheetname=2)"
   ]
  }
 ],
 "metadata": {
  "anaconda-cloud": {},
  "kernelspec": {
   "display_name": "Python 3",
   "language": "python",
   "name": "python3"
  },
  "language_info": {
   "codemirror_mode": {
    "name": "ipython",
    "version": 3
   },
   "file_extension": ".py",
   "mimetype": "text/x-python",
   "name": "python",
   "nbconvert_exporter": "python",
   "pygments_lexer": "ipython3",
   "version": "3.4.3"
  }
 },
 "nbformat": 4,
 "nbformat_minor": 1
}
