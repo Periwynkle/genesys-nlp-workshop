{
 "cells": [
  {
   "cell_type": "markdown",
   "metadata": {},
   "source": [
    "# Introduction to Python for Digital Text Analysis (Part I)"
   ]
  },
  {
   "cell_type": "markdown",
   "metadata": {},
   "source": [
    "This session will provide an overview of how Python can be used to descriptively summarise a dataset made of YouTube comments.\n",
    "\n",
    "We expect you to have basic knowledge of Python, bue if you don't, here's the link:\n",
    "https://github.com/fbkarsdorp/python-intro/blob/master/notebook.ipynb\n",
    "\n",
    "As this lesson is aimed at people with little python experience - perhaps nothing more than one tutorial! - we are first going to refresh your memory of some Python tools.\n",
    "\n",
    "_____________________________\n",
    "\n",
    "Just before that, I'll tell you one of the most important things I've learned about programming:\n",
    "\n",
    "### Most problems you'll ever face [in Python] were once someone else's problem.\n",
    "\n",
    "So Google it. Go to Stack Overflow. Don't spend time trying to reinvent the wheel."
   ]
  },
  {
   "cell_type": "markdown",
   "metadata": {},
   "source": [
    "## Refreshing your python memory"
   ]
  },
  {
   "cell_type": "markdown",
   "metadata": {},
   "source": [
    "__Strings__ are one of Python's simplest data types. A string can be represented with single ( **'** ) or double ( **\"** ) quotation marks:"
   ]
  },
  {
   "cell_type": "code",
   "execution_count": null,
   "metadata": {
    "collapsed": true
   },
   "outputs": [],
   "source": [
    "s = \"Hello world!\"\n",
    "print(s)"
   ]
  },
  {
   "cell_type": "markdown",
   "metadata": {},
   "source": [
    "A string can be modified in many ways. Here we will focus in a few of them.\n",
    "\n",
    "You can replace part of a string:"
   ]
  },
  {
   "cell_type": "code",
   "execution_count": null,
   "metadata": {
    "collapsed": true
   },
   "outputs": [],
   "source": [
    "s2 = s.replace(\"world\", \"python\")\n",
    "print(s2)"
   ]
  },
  {
   "cell_type": "markdown",
   "metadata": {},
   "source": [
    "You can concatenate strings, by summing one string to another:"
   ]
  },
  {
   "cell_type": "code",
   "execution_count": null,
   "metadata": {
    "collapsed": true
   },
   "outputs": [],
   "source": [
    "s3 = s + ' ' + s2\n",
    "print(s3)"
   ]
  },
  {
   "cell_type": "markdown",
   "metadata": {},
   "source": [
    "You can split strings, turning them into lists:"
   ]
  },
  {
   "cell_type": "code",
   "execution_count": null,
   "metadata": {
    "collapsed": true
   },
   "outputs": [],
   "source": [
    "splitstring = s3.split()\n",
    "print (splitstring)"
   ]
  },
  {
   "cell_type": "markdown",
   "metadata": {},
   "source": [
    "**Lists** are sequences of objects. For instance, the object _splitstring_ above is a list of strings.\n",
    "\n",
    "Here's how to define an empty list, and fill it with numbers, in various ways. Note that one way to fill a list is to add another list to it:"
   ]
  },
  {
   "cell_type": "code",
   "execution_count": null,
   "metadata": {
    "collapsed": true
   },
   "outputs": [],
   "source": [
    "my_list = []\n",
    "\n",
    "my_list.append(10)\n",
    "my_list.append(20)\n",
    "\n",
    "my_list = my_list + [ 30 ]\n",
    "\n",
    "my_list += range(4)\n",
    "# this is the same as: my_list = my_list + range(4)\n",
    "\n",
    "print( my_list )\n",
    "print( my_list[:2] )\n",
    "print( my_list[4:] )\n",
    "print( my_list[:2]+my_list[4:] )"
   ]
  },
  {
   "cell_type": "markdown",
   "metadata": {},
   "source": [
    "If lists are ordered sequences of objects, **Dictionaries** are for when there's no necessary order.\n",
    "\n",
    "The elements of a dictionary are pairs of **keys** and **values**.\n",
    "\n",
    "Here's how to create a dictionary and populate it with key-value pairs:"
   ]
  },
  {
   "cell_type": "code",
   "execution_count": null,
   "metadata": {
    "collapsed": true
   },
   "outputs": [],
   "source": [
    "my_dict = {}\n",
    "\n",
    "my_dict['location'] = 'Brussels'\n",
    "my_dict['host'] = 'EASt'\n",
    "my_dict['event'] = 'workshop'\n",
    "\n",
    "print my_dict\n",
    "print my_dict.keys()\n",
    "print my_dict.values()"
   ]
  },
  {
   "cell_type": "markdown",
   "metadata": {},
   "source": [
    "Once you have your strings, lists, dictionaries and whatever else, you might want to go through them.\n",
    "\n",
    "**for loops** are one common way to iterate over structures. Here's how to iterate over a range of integers:"
   ]
  },
  {
   "cell_type": "code",
   "execution_count": null,
   "metadata": {
    "collapsed": true
   },
   "outputs": [],
   "source": [
    "for i in range(5):\n",
    "    print(i)"
   ]
  },
  {
   "cell_type": "markdown",
   "metadata": {},
   "source": [
    "But you can iterate over any kind of list. For example, here's how to iterate over a list of strings:"
   ]
  },
  {
   "cell_type": "code",
   "execution_count": null,
   "metadata": {
    "collapsed": true
   },
   "outputs": [],
   "source": [
    "names  = [ 'Amelie','Tom','Niko','Ruben','Esma' ]\n",
    "\n",
    "for name in names:\n",
    "    print (\"My name is \"+name)"
   ]
  },
  {
   "cell_type": "markdown",
   "metadata": {},
   "source": [
    "And here's how to iterate over two lists at the same time, using **zip**:"
   ]
  },
  {
   "cell_type": "code",
   "execution_count": null,
   "metadata": {
    "collapsed": true
   },
   "outputs": [],
   "source": [
    "names  = [ 'Amelie','Tom','Niko','Ruben','Esma' ]\n",
    "births = [ 1968, 1984, 1977, 1988, 1973 ]\n",
    " \n",
    "for i, j in zip(names, births):\n",
    "    print( i, \"was born in\", j )"
   ]
  },
  {
   "cell_type": "markdown",
   "metadata": {},
   "source": [
    "_____________\n",
    "\n",
    "# Data analysis with *pandas*"
   ]
  },
  {
   "cell_type": "code",
   "execution_count": null,
   "metadata": {
    "collapsed": true
   },
   "outputs": [],
   "source": [
    "import pandas as pd"
   ]
  },
  {
   "cell_type": "markdown",
   "metadata": {},
   "source": [
    "Now that we have fresh python in our heads, we can look into the YouTube comments. We will be using the **pandas** library, which is very common in data analysis tasks.\n",
    "\n",
    "Here, **comments** will be a **DataFrame** object. You can think of this object as a spreadsheet.\n",
    "\n",
    "We will be analysing comments from one video by the K-pop band EXO. You can repeat this analysis with any other video in the dataset.\n",
    "\n",
    "Now let's load the dataset:"
   ]
  },
  {
   "cell_type": "code",
   "execution_count": null,
   "metadata": {
    "collapsed": true
   },
   "outputs": [],
   "source": [
    "comments = pd.read_csv('data/kpop_videos_metadata/exo/I3dezFzsNss.txt', delimiter='\\t')"
   ]
  },
  {
   "cell_type": "markdown",
   "metadata": {},
   "source": [
    "Show the first rows of **comments**:"
   ]
  },
  {
   "cell_type": "code",
   "execution_count": null,
   "metadata": {
    "collapsed": true
   },
   "outputs": [],
   "source": [
    "comments.head()"
   ]
  },
  {
   "cell_type": "markdown",
   "metadata": {},
   "source": [
    "**Filter** the dataframe, to select only part of the comments:"
   ]
  },
  {
   "cell_type": "code",
   "execution_count": null,
   "metadata": {
    "collapsed": true
   },
   "outputs": [],
   "source": [
    "comments = comments.filter(items=['CommentPublished','CommentTextDisplay','CommentAuthorName','CommentLikeCount'])\n",
    "\n",
    "comments.head()"
   ]
  },
  {
   "cell_type": "markdown",
   "metadata": {},
   "source": [
    "Filters can be combined. The result is always another dataframe:"
   ]
  },
  {
   "cell_type": "code",
   "execution_count": null,
   "metadata": {
    "collapsed": true
   },
   "outputs": [],
   "source": [
    "one_two_likes = comments[ (comments['CommentLikeCount'] >= 1) & (comments['CommentLikeCount'] <= 2) ]\n",
    "\n",
    "one_two_likes.head()"
   ]
  },
  {
   "cell_type": "markdown",
   "metadata": {},
   "source": [
    "Another way to use filters is to create token columns with _True_ for the rows that pass these filters and _False_ for the rows that do not. Here we define a new column called _SomeLikes_, which is _True_ for rows with _CommentLikeCount_ >= 1 and <= 2. "
   ]
  },
  {
   "cell_type": "code",
   "execution_count": null,
   "metadata": {
    "collapsed": true
   },
   "outputs": [],
   "source": [
    "comments['SomeLikes'] = (comments['CommentLikeCount'] >= 1) & (comments['CommentLikeCount'] <= 2)\n",
    "\n",
    "comments.head()"
   ]
  },
  {
   "cell_type": "markdown",
   "metadata": {},
   "source": [
    "Columns can be removed with **del**:"
   ]
  },
  {
   "cell_type": "code",
   "execution_count": null,
   "metadata": {
    "collapsed": true
   },
   "outputs": [],
   "source": [
    "del comments['SomeLikes']\n",
    "\n",
    "comments.head()"
   ]
  },
  {
   "cell_type": "markdown",
   "metadata": {},
   "source": [
    "There is more than one way to access a column and its values.\n",
    "\n",
    "In the code below, both _comments.head()['CommentTextDisplay']_ and _comments.head().CommentTextDisplay_ show the text of the first 5 comments, with their indices on the side, while _comments.head().CommentTextDisplay.values_ does not show the indices.\n",
    "\n",
    "Note how any emoji or special characters disappear with the third option as well."
   ]
  },
  {
   "cell_type": "code",
   "execution_count": null,
   "metadata": {
    "collapsed": true
   },
   "outputs": [],
   "source": [
    "print( comments.head()['CommentTextDisplay'] )\n",
    "\n",
    "print (\"\\n---------------------------------------------------------\\n\")\n",
    "\n",
    "print( comments.head().CommentTextDisplay )\n",
    "\n",
    "print (\"\\n---------------------------------------------------------\\n\")\n",
    "\n",
    "print( comments.head().CommentTextDisplay.values )"
   ]
  },
  {
   "cell_type": "markdown",
   "metadata": {},
   "source": [
    "Here is how to print one specific row of the dataframe:"
   ]
  },
  {
   "cell_type": "code",
   "execution_count": null,
   "metadata": {
    "collapsed": true
   },
   "outputs": [],
   "source": [
    "print (comments.loc[19])"
   ]
  },
  {
   "cell_type": "markdown",
   "metadata": {},
   "source": [
    "And here is how to print one specific field from that row:"
   ]
  },
  {
   "cell_type": "code",
   "execution_count": null,
   "metadata": {
    "collapsed": true
   },
   "outputs": [],
   "source": [
    "print (comments.loc[19].CommentTextDisplay)"
   ]
  },
  {
   "cell_type": "markdown",
   "metadata": {},
   "source": [
    "### Exercise 1:\n",
    "\n",
    "Pick another YouTube video, by one of the four bands, load the file and find the most liked comment. You will need the function **max()**, which returns the maximum value of a list (of numbers, normally)."
   ]
  },
  {
   "cell_type": "markdown",
   "metadata": {},
   "source": [
    "_____________\n",
    "\n",
    "# Basic statistics and data visualisation"
   ]
  },
  {
   "cell_type": "markdown",
   "metadata": {},
   "source": [
    "Now it is time to visualise some of the statistics of this dataset. But first, we need to process this data a little bit.\n",
    "\n",
    "If we look again at our dataframe **comments**, we can see that each comment has a unique date and time, indicated in **CommentPublished**:"
   ]
  },
  {
   "cell_type": "code",
   "execution_count": null,
   "metadata": {
    "collapsed": true
   },
   "outputs": [],
   "source": [
    "comments.head()"
   ]
  },
  {
   "cell_type": "markdown",
   "metadata": {},
   "source": [
    "We can change that by using the datetime library to turn that string into year, month, day, hour, minute and second.\n",
    "\n",
    "Note how _comments['CommentDateTime']_ is written: this combination of _apply_ and _lambda_ is another way to define a column of your dataframe as a function of other columns."
   ]
  },
  {
   "cell_type": "code",
   "execution_count": null,
   "metadata": {
    "collapsed": true
   },
   "outputs": [],
   "source": [
    "from datetime import datetime\n",
    "from dateutil import parser\n",
    "\n",
    "comments['CommentDateTime'] = comments.apply( lambda row: parser.parse(row.CommentPublished), axis=1 )  \n",
    "\n",
    "print( \"min CommentDateTime =\", comments.CommentDateTime.min() )\n",
    "print( \"max CommentDateTime =\", comments.CommentDateTime.max() )"
   ]
  },
  {
   "cell_type": "markdown",
   "metadata": {},
   "source": [
    "Let's also add the column *hour*, indicating the time of the day when each comment was posted."
   ]
  },
  {
   "cell_type": "code",
   "execution_count": null,
   "metadata": {
    "collapsed": true
   },
   "outputs": [],
   "source": [
    "comments['hour'] = comments.apply( lambda row: row.CommentDateTime.hour, axis=1 )  \n",
    "\n",
    "comments.head()"
   ]
  },
  {
   "cell_type": "markdown",
   "metadata": {},
   "source": [
    "Finally, let's also remove any rows containing null (_NaN_) results."
   ]
  },
  {
   "cell_type": "code",
   "execution_count": null,
   "metadata": {
    "collapsed": true
   },
   "outputs": [],
   "source": [
    "comments = comments.dropna()"
   ]
  },
  {
   "cell_type": "markdown",
   "metadata": {},
   "source": [
    "_____________\n",
    "### Visualising comments over time"
   ]
  },
  {
   "cell_type": "code",
   "execution_count": null,
   "metadata": {
    "collapsed": true
   },
   "outputs": [],
   "source": [
    "import matplotlib.pyplot as plt\n",
    "import seaborn as sns\n",
    "sns.set()\n",
    "sns.set(color_codes=True)\n",
    "sns.set_context(\"notebook\", font_scale=1.5, rc={\"lines.linewidth\": 2.5})"
   ]
  },
  {
   "cell_type": "code",
   "execution_count": null,
   "metadata": {
    "collapsed": true
   },
   "outputs": [],
   "source": [
    "g = sns.factorplot(x=\"hour\", data=comments, kind=\"count\", size=6, aspect=1.5)\n",
    "plt.show()"
   ]
  },
  {
   "cell_type": "markdown",
   "metadata": {},
   "source": [
    "### Visualising number of likes per comment"
   ]
  },
  {
   "cell_type": "code",
   "execution_count": null,
   "metadata": {
    "collapsed": true
   },
   "outputs": [],
   "source": [
    "print( \"The mean number of likes per comment is \"+str(comments.CommentLikeCount.mean()) ) "
   ]
  },
  {
   "cell_type": "code",
   "execution_count": null,
   "metadata": {
    "collapsed": true
   },
   "outputs": [],
   "source": [
    "g = sns.distplot( comments.CommentLikeCount , kde=False, rug=False, color='g' )\n",
    "\n",
    "g = g.set_ylabel('number of comments')\n",
    "\n",
    "plt.yscale('log')\n",
    "plt.show()"
   ]
  },
  {
   "cell_type": "markdown",
   "metadata": {},
   "source": [
    "We can look in more detail at the comments with the most likes."
   ]
  },
  {
   "cell_type": "code",
   "execution_count": null,
   "metadata": {
    "collapsed": true
   },
   "outputs": [],
   "source": [
    "for index, row in comments[ comments.CommentLikeCount > 2000 ].iterrows():\n",
    "    print str(row.CommentLikeCount) + \" likes: \" + row.CommentTextDisplay + \"\\n\""
   ]
  },
  {
   "cell_type": "markdown",
   "metadata": {},
   "source": [
    "We can look at the number of unique authors:"
   ]
  },
  {
   "cell_type": "code",
   "execution_count": null,
   "metadata": {
    "collapsed": true
   },
   "outputs": [],
   "source": [
    "all_authors = set(comments.CommentAuthorName)\n",
    "print (\"Number of unique authors: \" + str(len(all_authors)) )"
   ]
  },
  {
   "cell_type": "markdown",
   "metadata": {},
   "source": [
    "### Number of comments per author and number of likes per author:\n",
    "\n",
    "We can also look at which authors comment more or get more likes. Here I have made two dictionaries, *comment_count* and *likes_count*, which have author names as keys, and number of comments and number of likes as values, respectively. "
   ]
  },
  {
   "cell_type": "code",
   "execution_count": null,
   "metadata": {
    "collapsed": true
   },
   "outputs": [],
   "source": [
    "comment_count = {}\n",
    "likes_count   = {}\n",
    "\n",
    "for index, row in comments.iterrows():\n",
    "    \n",
    "    author = row.CommentAuthorName\n",
    "    number_of_likes = int(row.CommentLikeCount)\n",
    "    \n",
    "    if author in comment_count:\n",
    "        comment_count[author] += 1\n",
    "    else:\n",
    "        comment_count[author]  = 1\n",
    "        \n",
    "    if author in likes_count:\n",
    "        likes_count[author] += number_of_likes\n",
    "    else:\n",
    "        likes_count[author]  = number_of_likes\n",
    "\n",
    "all_authors = comment_count.keys()\n",
    "\n",
    "data_dict = { 'Author':list(all_authors),\n",
    "              'CommentCount':comment_count.values(),\n",
    "              'TotalLikes':likes_count.values() }\n",
    "\n",
    "authors = pd.DataFrame(data_dict)\n",
    "\n",
    "authors.head()"
   ]
  },
  {
   "cell_type": "markdown",
   "metadata": {},
   "source": [
    "You can sort the dataframe __authors__ by comment count:"
   ]
  },
  {
   "cell_type": "code",
   "execution_count": null,
   "metadata": {
    "collapsed": true
   },
   "outputs": [],
   "source": [
    "authors.sort_values('CommentCount', ascending=False).head(10)"
   ]
  },
  {
   "cell_type": "markdown",
   "metadata": {},
   "source": [
    "You can sort the dataframe __authors__ by like count:"
   ]
  },
  {
   "cell_type": "code",
   "execution_count": null,
   "metadata": {
    "collapsed": true
   },
   "outputs": [],
   "source": [
    "authors = authors.sort_values('TotalLikes', ascending=False)\n",
    "authors.head(10)"
   ]
  },
  {
   "cell_type": "markdown",
   "metadata": {},
   "source": [
    "Log-log plot of the number of likes per author:"
   ]
  },
  {
   "cell_type": "code",
   "execution_count": null,
   "metadata": {
    "collapsed": true
   },
   "outputs": [],
   "source": [
    "x = sorted(authors.TotalLikes.values)[::-1]\n",
    "\n",
    "plt.loglog(x, color='b')\n",
    "plt.ylabel('Number of authors')\n",
    "plt.xlabel('Number of likes')\n",
    "plt.show()"
   ]
  },
  {
   "cell_type": "markdown",
   "metadata": {},
   "source": [
    "Log-log plot of the number of comments per author:"
   ]
  },
  {
   "cell_type": "code",
   "execution_count": null,
   "metadata": {
    "collapsed": true
   },
   "outputs": [],
   "source": [
    "x = sorted(authors.CommentCount.values)[::-1]\n",
    "plt.loglog(x, color='g')\n",
    "plt.ylabel('Number of authors')\n",
    "plt.xlabel('Number of comments')\n",
    "plt.show()"
   ]
  },
  {
   "cell_type": "markdown",
   "metadata": {},
   "source": [
    "Scatter plot of comments per author vs likes per author:"
   ]
  },
  {
   "cell_type": "code",
   "execution_count": null,
   "metadata": {
    "collapsed": true
   },
   "outputs": [],
   "source": [
    "#plt.close(\"all\")\n",
    "plt.scatter( authors.CommentCount, authors.TotalLikes, alpha=0.75 )\n",
    "plt.xscale('log')\n",
    "plt.yscale('log')\n",
    "\n",
    "plt.ylabel('Number of likes')\n",
    "plt.xlabel('Number of comments')\n",
    "\n",
    "plt.ylim(0.5,10000)\n",
    "plt.show()"
   ]
  },
  {
   "cell_type": "markdown",
   "metadata": {},
   "source": [
    "### Exercise 2:\n",
    "\n",
    "With the same video from the previous exercise, see if you can make the same plots we made here:\n",
    "- A bar plot for the number of comments per hour\n",
    "- A bar plot for the number of likes per comment\n",
    "- A line plot for the number of likes per author\n",
    "- A line plot for the number of comments per author\n",
    "\n",
    "_____________"
   ]
  },
  {
   "cell_type": "code",
   "execution_count": null,
   "metadata": {
    "collapsed": true
   },
   "outputs": [],
   "source": [
    "### Comment counts for each video for each of the four groups"
   ]
  },
  {
   "cell_type": "code",
   "execution_count": 40,
   "metadata": {
    "collapsed": true
   },
   "outputs": [],
   "source": [
    "# Blackpink comment counts.\n",
    "df_blackpink_counts = pd.read_csv(\"data/kpop_comment_counts/blackpink_comment_counts.txt\", sep=\"\\t\")\n",
    "\n",
    "# BTS comment counts.\n",
    "df_bts_counts = pd.read_csv(\"data/kpop_comment_counts/bts_comment_counts.txt\", sep=\"\\t\")\n",
    "\n",
    "# EXO comment counts.\n",
    "df_exo_counts = pd.read_csv(\"data/kpop_comment_counts/exo_comment_counts.txt\", sep=\"\\t\")\n",
    "\n",
    "# Twice comment counts.\n",
    "df_twice_counts = pd.read_csv(\"data/kpop_comment_counts/twice_comment_counts.txt\", sep=\"\\t\")"
   ]
  },
  {
   "cell_type": "code",
   "execution_count": null,
   "metadata": {
    "collapsed": true
   },
   "outputs": [],
   "source": [
    "df_blackpink_counts.head()"
   ]
  },
  {
   "cell_type": "code",
   "execution_count": 42,
   "metadata": {
    "collapsed": true
   },
   "outputs": [],
   "source": [
    "all_bands  = [ df_blackpink_counts, df_bts_counts, df_exo_counts, df_twice_counts ]\n",
    "band_names = [ 'Black Pink', 'BTS', 'EXO', 'TWICE' ]\n",
    "\n",
    "for df,name in zip(all_bands, band_names):\n",
    "    df['BandName'] = [name]*len(df)    "
   ]
  },
  {
   "cell_type": "code",
   "execution_count": null,
   "metadata": {
    "collapsed": true
   },
   "outputs": [],
   "source": [
    "df_blackpink_counts.head()"
   ]
  },
  {
   "cell_type": "code",
   "execution_count": null,
   "metadata": {
    "collapsed": true
   },
   "outputs": [],
   "source": [
    "df_allbands = pd.concat(all_bands)\n",
    "\n",
    "plt.subplots(figsize=(10,8))\n",
    "g = sns.boxplot(x=\"BandName\", y=\"Comments\", hue=\"BandName\", data=df_allbands)\n",
    "g.set( yscale='log' )\n",
    "\n",
    "plt.show()"
   ]
  }
 ],
 "metadata": {
  "anaconda-cloud": {},
  "kernelspec": {
   "display_name": "Python 2",
   "language": "python",
   "name": "python2"
  },
  "language_info": {
   "codemirror_mode": {
    "name": "ipython",
    "version": 2
   },
   "file_extension": ".py",
   "mimetype": "text/x-python",
   "name": "python",
   "nbconvert_exporter": "python",
   "pygments_lexer": "ipython2",
   "version": "2.7.12"
  }
 },
 "nbformat": 4,
 "nbformat_minor": 1
}
