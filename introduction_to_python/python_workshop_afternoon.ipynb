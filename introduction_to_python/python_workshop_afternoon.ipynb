{
 "cells": [
  {
   "cell_type": "markdown",
   "metadata": {},
   "source": [
    "## Introduction to Python for Digital Text Analysis (Part II)"
   ]
  },
  {
   "cell_type": "markdown",
   "metadata": {},
   "source": [
    "This session will provide an overview of the Python Natural Language Toolkit (NLTK) library (http://www.nltk.org), which is an excellent platform for examining linguistic data. It has built-in corpora and text processing libraries for everything from tokenisation to semantic reasoning. NLTK is also favoured by teachers of computational linguistics.\n",
    "\n",
    "We will apply some basic NLTK functionalities to a few YouTube comment files in our Kpop dataset, and examine them individually as well as comparatively."
   ]
  },
  {
   "cell_type": "markdown",
   "metadata": {},
   "source": [
    "### Step I: Import necessary packages"
   ]
  },
  {
   "cell_type": "code",
   "execution_count": 138,
   "metadata": {
    "collapsed": true
   },
   "outputs": [],
   "source": [
    "import nltk\n",
    "from nltk.tokenize import TweetTokenizer\n",
    "from nltk.probability import FreqDist\n",
    "from nltk.tag import pos_tag, map_tag\n",
    "from nltk.collocations import *\n",
    "\n",
    "# To display our visualisations within the notebook and make them look prettier.\n",
    "import matplotlib.pyplot as plt\n",
    "%matplotlib inline\n",
    "plt.style.use('seaborn')"
   ]
  },
  {
   "cell_type": "markdown",
   "metadata": {},
   "source": [
    "### Step II: Read in comment files\n",
    "Let's choose four popular songs, one from each of the Kpop groups, and import their comment text."
   ]
  },
  {
   "cell_type": "code",
   "execution_count": 2,
   "metadata": {},
   "outputs": [
    {
     "name": "stdout",
     "output_type": "stream",
     "text": [
      "CommentTextDisplay\n",
      "V looks so awesome ! hope they come some day to germany xD\n",
      "Please come to Greece Thessaloniki!!!\n",
      "Who watch this in 2017?\n",
      "Can se just appreciate how hot taehyung looks in the mv\n",
      "I love you BTS ❤🙆\n",
      "I love this song so much I can't explain how much I do\n",
      "Vote for bts http://www.billboa\n"
     ]
    }
   ],
   "source": [
    "# First we need to save the paths of the comment-only files we are using.\n",
    "bts_filepath = '../data/kpop_videos_comments/bts/GZjt_sA2eso.txt' # Save Me\n",
    "exo_filepath = '../data/kpop_videos_comments/exo/yWfsla_Uh80.txt' # Call Me Baby\n",
    "twice_filepath = '../data/kpop_videos_comments/twice/EpMwiqW8k8o.txt' # 'Signal' dance video\n",
    "blackpink_filepath = '../data/kpop_videos_comments/blackpink/bwmSjveL3Lc.txt' # Boombayah\n",
    "\n",
    "# Next, let's read in the text from the files as strings, using UTF 8 encoding to recognise emoji.\n",
    "with open(bts_filepath, encoding=\"utf-8\") as text:\n",
    "    bts = text.read()\n",
    "with open(exo_filepath, encoding=\"utf-8\") as text:\n",
    "    exo = text.read()\n",
    "with open(twice_filepath, encoding=\"utf-8\") as text:\n",
    "    twice = text.read()  \n",
    "with open(blackpink_filepath, encoding=\"utf-8\") as text:\n",
    "    blackpink = text.read()\n",
    "\n",
    "print(bts[:300]) # Print first 300 characters."
   ]
  },
  {
   "cell_type": "code",
   "execution_count": 3,
   "metadata": {},
   "outputs": [
    {
     "name": "stdout",
     "output_type": "stream",
     "text": [
      "V looks so awesome ! hope they come some day to germany xD\n",
      "Please come to Greece Thessaloniki!!!\n",
      "Who watch this in 2017?\n",
      "Can se just appreciate how hot taehyung looks in the mv\n",
      "I love you BTS ❤🙆\n",
      "I love this song so much I can't explain how much I do\n",
      "Vote for bts http://www.billboard.com/fan-army-bra\n"
     ]
    }
   ],
   "source": [
    "# Remove CommentTextDisplay from all files by stripping off the first 19 characters (part of metadata).\n",
    "bts = bts[19:]\n",
    "exo = exo[19:]\n",
    "twice = twice[19:]\n",
    "blackpink = blackpink[19:]\n",
    "print(bts[:300])"
   ]
  },
  {
   "cell_type": "markdown",
   "metadata": {},
   "source": [
    "### Step III: Tokenise the comments\n",
    "\n",
    "Now that we've read in the comment files as strings, let's tokenize them so that we can analyse their words in various ways. This will transform the strings into lists of 'words'.\n",
    "\n",
    "NLTK's default word tokenizer ignores non-alpha characters (e.g., hashtags and emoji). We will use its tweet tokenizer, which recognises such characters and does not strip them away: http://www.nltk.org/api/nltk.tokenize.html"
   ]
  },
  {
   "cell_type": "code",
   "execution_count": 14,
   "metadata": {},
   "outputs": [
    {
     "name": "stdout",
     "output_type": "stream",
     "text": [
      "['v', 'looks', 'so', 'awesome', '!', 'hope', 'they', 'come', 'some', 'day', 'to', 'germany', 'xd', 'please', 'come', 'to', 'greece', 'thessaloniki', '!', '!', '!', 'who', 'watch', 'this', 'in', '2017', '?', 'can', 'se', 'just', 'appreciate', 'how', 'hot', 'taehyung', 'looks', 'in', 'the', 'mv', 'i', 'love', 'you', 'bts', '❤', '🙆', 'i', 'love', 'this', 'song', 'so', 'much']\n"
     ]
    }
   ],
   "source": [
    "# Let's ignore cases, so that 'BTS' and 'bts' for example are treated as the same type.\n",
    "bts_tokenized = TweetTokenizer().tokenize(bts.lower())\n",
    "exo_tokenized = TweetTokenizer().tokenize(exo.lower())\n",
    "twice_tokenized = TweetTokenizer().tokenize(twice.lower())\n",
    "blackpink_tokenized = TweetTokenizer().tokenize(blackpink.lower())\n",
    "print(bts_tokenized[:50]) # The first 50 'words'."
   ]
  },
  {
   "cell_type": "markdown",
   "metadata": {
    "collapsed": true
   },
   "source": [
    "### Step IV: Word-level calculations\n",
    "\n",
    "After tokenizing our comment files, we can count their 'words' in a variety of different ways."
   ]
  },
  {
   "cell_type": "code",
   "execution_count": 92,
   "metadata": {},
   "outputs": [
    {
     "name": "stdout",
     "output_type": "stream",
     "text": [
      "1065342\n",
      "1498250\n",
      "92904\n",
      "1295104\n"
     ]
    }
   ],
   "source": [
    "# Length of a text (token count). Note that punctuation symbols and emoji are also counted as tokens.\n",
    "print(len(bts_tokenized))\n",
    "print(len(exo_tokenized))\n",
    "print(len(twice_tokenized))\n",
    "print(len(blackpink_tokenized))"
   ]
  },
  {
   "cell_type": "code",
   "execution_count": 90,
   "metadata": {},
   "outputs": [
    {
     "name": "stdout",
     "output_type": "stream",
     "text": [
      "32970\n",
      "42870\n",
      "6447\n",
      "36842\n"
     ]
    }
   ],
   "source": [
    "# Number of unique vocabulary items (type count). Sets in Python contain unique objects.\n",
    "print(len(set(bts_tokenized)))\n",
    "print(len(set(exo_tokenized)))\n",
    "print(len(set(twice_tokenized)))\n",
    "print(len(set(blackpink_tokenized)))"
   ]
  },
  {
   "cell_type": "markdown",
   "metadata": {},
   "source": [
    "From type count, we can calculate *lexical richness*: the number of unique words divided by the number of total words. Which Kpop video has the most lexically diverse comments?"
   ]
  },
  {
   "cell_type": "code",
   "execution_count": 94,
   "metadata": {},
   "outputs": [
    {
     "name": "stdout",
     "output_type": "stream",
     "text": [
      "0.03094780830944429\n",
      "0.02861338227932588\n",
      "0.06939421338155516\n",
      "0.028447136291757266\n"
     ]
    }
   ],
   "source": [
    "def lexical_diversity(comments):\n",
    "    return len(set(comments))/len(comments)\n",
    "\n",
    "print(lexical_diversity(bts_tokenized))\n",
    "print(lexical_diversity(exo_tokenized))\n",
    "print(lexical_diversity(twice_tokenized))\n",
    "print(lexical_diversity(blackpink_tokenized))"
   ]
  },
  {
   "cell_type": "markdown",
   "metadata": {},
   "source": [
    "Now let's examine the frequency of specific types in the BTS dataset. We can see what the most common types are. We can also compare several band members to see who is mentioned more often."
   ]
  },
  {
   "cell_type": "code",
   "execution_count": 53,
   "metadata": {},
   "outputs": [
    {
     "data": {
      "text/plain": [
       "[('i', 31194),\n",
       " ('the', 26225),\n",
       " (',', 26032),\n",
       " ('.', 26017),\n",
       " ('!', 24543),\n",
       " ('and', 19378),\n",
       " ('to', 18892),\n",
       " ('this', 16273),\n",
       " ('is', 13632),\n",
       " ('me', 12380),\n",
       " ('you', 11159),\n",
       " ('bts', 10592),\n",
       " ('love', 10169),\n",
       " ('a', 9974),\n",
       " ('it', 9919),\n",
       " ('of', 9790),\n",
       " ('?', 9167),\n",
       " ('so', 9160),\n",
       " ('in', 8760),\n",
       " ('for', 8208),\n",
       " ('my', 7835),\n",
       " (\"'\", 7166),\n",
       " ('that', 7165),\n",
       " ('song', 6471),\n",
       " ('save', 6454),\n",
       " ('they', 6409),\n",
       " ('are', 6301),\n",
       " ('like', 5966),\n",
       " ('but', 5883),\n",
       " ('on', 5648),\n",
       " ('...', 5382),\n",
       " ('just', 5227),\n",
       " (')', 5175),\n",
       " ('we', 4928),\n",
       " ('(', 4650),\n",
       " ('them', 4592),\n",
       " ('with', 4541),\n",
       " ('all', 4468),\n",
       " ('their', 4370),\n",
       " ('not', 4065),\n",
       " ('can', 3995),\n",
       " ('*', 3936),\n",
       " (\"i'm\", 3913),\n",
       " ('be', 3773),\n",
       " ('-', 3755),\n",
       " (':', 3749),\n",
       " ('have', 3698),\n",
       " ('mv', 3672),\n",
       " ('one', 3544),\n",
       " ('was', 3518)]"
      ]
     },
     "execution_count": 53,
     "metadata": {},
     "output_type": "execute_result"
    }
   ],
   "source": [
    "# Frequency distribution of types.\n",
    "fdistbts = FreqDist(bts_tokenized)\n",
    "fdistexo = FreqDist(exo_tokenized)\n",
    "fdisttwice = FreqDist(twice_tokenized)\n",
    "fdistblackpink = FreqDist(blackpink_tokenized)\n",
    "\n",
    "# 50 most frequent types in the BTS video comments.\n",
    "fdistbts.most_common(50)"
   ]
  },
  {
   "cell_type": "markdown",
   "metadata": {},
   "source": [
    "Now let's examine specific words in the BTS dataset. We can compare several band members to see who is mentioned more often."
   ]
  },
  {
   "cell_type": "code",
   "execution_count": 129,
   "metadata": {},
   "outputs": [
    {
     "name": "stdout",
     "output_type": "stream",
     "text": [
      "1964\n",
      "1674\n",
      "1063\n",
      "563\n",
      "352\n"
     ]
    }
   ],
   "source": [
    "# Frequency of a specific type.\n",
    "print(fdistbts[\"jimin\"])\n",
    "print(fdistbts[\"jungkook\"])\n",
    "print(fdistbts[\"suga\"])\n",
    "\n",
    "# Just for fun, let's see how often 'BTS' appears in the comments of rival group EXO's video, and vice versa.\n",
    "print(fdistexo[\"bts\"])\n",
    "print(fdistbts[\"exo\"])"
   ]
  },
  {
   "cell_type": "markdown",
   "metadata": {},
   "source": [
    "Now let's look at some more peculiar types: those that appear only once (hapax legomena), those that are extremely long, and those that are both long and frequently occurring. Such words often add a different perspective on a corpus of text (they're a bit like linguistic outliers!)."
   ]
  },
  {
   "cell_type": "code",
   "execution_count": 64,
   "metadata": {},
   "outputs": [
    {
     "data": {
      "text/plain": [
       "18769"
      ]
     },
     "execution_count": 64,
     "metadata": {},
     "output_type": "execute_result"
    }
   ],
   "source": [
    "# How many hapax legomena are there in the BTS comments?\n",
    "len(fdistbts.hapaxes())"
   ]
  },
  {
   "cell_type": "code",
   "execution_count": 68,
   "metadata": {},
   "outputs": [
    {
     "name": "stdout",
     "output_type": "stream",
     "text": [
      "['12,898', '49.7', '방탄은', 'пинкан', 'keeep', 'ahahahahaha', 'haerteu', 'swong', 'adjusted', '2,324', 'œë', '🔋', 'flawlessly', '2679', '2263', '94.727', 'poit', 'specialized', '319', 'caetan', 'carlos', '@flower', '0:02', '99.450', 'sugus', 'pillowy', 'todayyy', 'peps', 'emeterio', 'haxwfp', 'snbchhjd', 'ajujuju', '(911) 420 6660', 'recommends', '79k', '@sihemkpop', 'spose', 'melany', '#youneverwatchalone', 'tsmclip', 'nrj', 'iin', 'mishra', 'faaaaaaaaaaaaaav', 'excercise', 'famil', '0:19', 'pv', 'peloo', 'jewelry', 'mama.mwave.me', 'johannesburg', 'đi', 'anuar', '2:52-', 'française', 'roblox', 'preperation', 'addication', \"the've\", 'eyebags', 'ssaaammmeeee', 'prefiro', 'http://www.thepetitionsite.com/es-es/589/324/503/demand-%22blood-sweat-tears%22-by-bts-be-played-on-the-radio/', 'magos', '.\\n.', 'hehhh', 'https://www.change.org/p/big-hit-entertainment-bts-stylists-bring-back-jhope-s-forehead?tk=cduwspasg8atpapenfkofwmnudxp3wknsseyxtzshfo&utm_medium=email&utm_source=signature_receipt&utm_campaign=new_signature', 'sprayed', '#teamboymeetsevil', 'church-y', 'rela', '2394', 'kthnx', '245', 'masasaktan', '55116', 'soul.you', 'livestream', 'sleeveless', '5-7', 'goooodddd', 'wotwot', 'well-established', '10/25', 'loaded', 'goooooooooooood', 'ginger', '떠나지말라는', 'mochis', 'norah', \"wansn't\", '2184', 'satisfies', '4개의', '[:', 'chonadissima', '11hour', 'hyderabadi', '2430']\n"
     ]
    }
   ],
   "source": [
    "# Let's just look at the first 100.\n",
    "print(fdistbts.hapaxes()[:100])"
   ]
  },
  {
   "cell_type": "code",
   "execution_count": 116,
   "metadata": {},
   "outputs": [
    {
     "data": {
      "text/plain": [
       "['4ghijtebblkjregvhkugrhbugrehvi4rouugfoiruhg8754ughiuwtrhgiutrwhgurtwg',\n",
       " '___love___bangtan___jungkook___save___me___army___forever___',\n",
       " 'aaaaaaaaaaaaaaaaaaaaaaaaaaaaaaaaaaaaaaaaaaaaaaaaaaaaaaaaaaaaaaaaaaaaaaaaaaaaaaaaaaaaaaaaaaaaaaaaaaaaaaaaaaaaaaaaaaaaaahhh',\n",
       " 'aaaaaaaaaaaaaammmmmmmmmmmmmmaaaaaazzzzzzzzzzzzzziiiiiiiiiiiiiiiiiiiiiiinnnnnnnnnnnnnnngggggggggggggggggg',\n",
       " 'armyyyyyyyyyyyyyyyyyyyyyyyyyyyyyyyyyyyyyyyyyyyyyyyyyyy',\n",
       " 'bbbbbbbbbbbbbbaeeeeeeeeeeeeeeeeeeeeeeeeeeeeeeeeeeeeeeeeeeeeeeeeeeeeeeeeeeeeeeeeeeeeeeeeeee',\n",
       " 'bwvjhlfrbvjrthbvuhrfvihtrhgkjjuyhgrviwhbutbgkgojwrkhviutkuuslhgiuet',\n",
       " 'eexxxpppppppeeeeeeeeennsssssssssiiiiivvvvvvveeeeeeee',\n",
       " 'gooooooooooooooooooooooooooooooooooooooooooooooooooooooooooooooooooooooooooooooooooooooooooo',\n",
       " 'hahahahahhahahahahahhahahahahahahhahahahhahahahhahahahahahhahahahahahahahhahahahahahaahhahahahahahhahahahahhahahahahahhahahahahhahahahahhahahahahhahhahahahahhahahahahhahahahahahahahahahahahhahahahahhahahahahahhahaaahhahahhahahahahahhahhahahahahahahahhahahahahhahahahhahahahhahahahahhahh',\n",
       " 'http://aminoapps.com/page/btsarmy/1846271/how-to-vote-on-bbma',\n",
       " 'http://aminoapps.com/page/btsarmy/4947133/updated-streaming-rules',\n",
       " 'http://aminoapps.com/page/btsarmy/5697572/seoul-music-awards-fandom-school-voting',\n",
       " 'http://aminoapps.com/page/btsarmy/663411/soribada-music-awards-voting-tutorial',\n",
       " 'http://aminoapps.com/page/btsarmy/663411/vote-bts-in-soribada-music-awards',\n",
       " 'http://aminoapps.com/page/btsarmy/6988897/i-am-working-on-wings-and-blood-sweat-tears-promotions-so-please-support-and-repost',\n",
       " 'http://aminoapps.com/page/btsarmy/8522846/updated-other-ways-to-vote-for-bts-for-mama',\n",
       " 'http://aminoapps.com/page/btsarmy/9318964/message-from-k-army-and-massresearch-to-help-bts-in-mama',\n",
       " 'http://aminoapps.com/page/btsarmy/945519/soribada-music-awards-voting-tutorial',\n",
       " 'http://aminoapps.com/page/k-pop/7135807/votaciones-billboard-2016-fan-army-face-off-como-votar',\n",
       " 'http://aminoapps.com/web/x195570892/user-profile/d2a54fb2-1b88-41d3-a740-d7f84ebef5f3',\n",
       " 'http://bts-trans.tumblr.com/post/56148920646/interview-130722-cuvism-magazine',\n",
       " 'http://click.mail.change.org/?qs=a2b770b1d0dd93eadb9cef155fbc6c5b561d7d5a03cc6b956e9c3cb8c7243f909f3c6f773a4a05e30ec6eeacb085f1c9bf8737d506fc3d9aa50a3713add83323',\n",
       " 'http://fyeahbangtaned.tumblr.com/post/134477299409/how-to-tudou-streaming',\n",
       " 'http://ikpoptv.blogspot.in/2017/03/poll-most-favorite-kpop-idolround-1.html',\n",
       " 'http://jp.mnet.com/mobileweb/kpop/vote.m?mcdmenuid=menu2_1',\n",
       " 'http://k2nblog.com/bts-the-most-beautiful-moment-in-life-young-forever/',\n",
       " 'http://kpopzone.co/topic/133-bts-bangtan-boys-members-profile/',\n",
       " 'http://m.campaign.naver.com/v/globaltop10/ko/web.nhn',\n",
       " 'http://mwave.interest.me/en/poll/video/result.m?poll_seq=202',\n",
       " 'http://mwave.interest.me/en/star/poll/result.m?poll_seq=538',\n",
       " 'http://mwave.interest.me/en/star/poll/result.m?poll_seq=539#',\n",
       " 'http://mwave.interest.me/en/star/poll/result.m?poll_seq=544',\n",
       " 'http://mwave.interest.me/en/star/poll/result.m?poll_seq=545',\n",
       " 'http://mwave.interest.me/en/star/poll/vote.m?poll_seq=534',\n",
       " 'http://mwave.interest.me/en/star/poll/vote.m?poll_seq=536&sitecode=s21',\n",
       " 'http://mwave.interest.me/en/star/poll/vote.m?poll_seq=538',\n",
       " 'http://mwave.interest.me/en/star/poll/vote.m?poll_seq=539',\n",
       " 'http://mwave.interest.me/en/star/poll/vote.m?poll_seq=544',\n",
       " 'http://mwave.interest.me/en/star/poll/vote.m?poll_seq=544&sitecode=s21',\n",
       " 'http://mwave.interest.me/star/poll/result.m?poll_seq=515',\n",
       " 'http://mwave.interest.me/star/poll/result.m?poll_seq=517',\n",
       " 'http://mwave.interest.me/star/poll/vote.m?poll_seq=517',\n",
       " 'http://mwave.interest.me/star/poll/vote.m?poll_seq=517&sitecode=s21',\n",
       " 'http://onehallyu.com/topic/374-adopted-sons-of-billboard-♫-bts-방탄소년단-official-thread-♫-moneymoneymoney/',\n",
       " 'http://pann-choa.blogspot.com/2016/05/enter-talk-bts-plagiarism-clarification.html',\n",
       " 'http://play.google.com/store/apps/details?id=kr.co.wefans.sma2015.global',\n",
       " 'http://popcrush.com/best-album-2016-fan-choice-awards-poll/',\n",
       " 'http://popcrush.com/best-album-2016-fan-choice-awards-poll/?trackback=tsmclip',\n",
       " 'http://popcrush.com/best-group-2016-fan-choice-awards-poll/?trackback=tsmclip',\n",
       " 'http://popcrush.com/best-k-pop-act-2016-fan-choice-awards/?trackback=tsmclip',\n",
       " 'http://popcrush.com/best-music-video-2016-fan-choice-awards/',\n",
       " 'http://popcrush.com/bts-vs-b-a-p-march-madness-2017-best-boy-band-round-1/',\n",
       " 'http://popcrush.com/bts-vs-b-a-p-march-madness-2017-best-boy-band-round-1/#photogallery-1=10',\n",
       " 'http://popcrush.com/bts-vs-b-a-p-march-madness-2017-best-boy-band-round-1/#photogallery-1=5',\n",
       " 'http://popcrush.com/bts-vs-b-a-p-march-madness-2017-best-boy-band-round-1/?trackback=fbshare_mobile',\n",
       " 'http://popcrush.com/bts-vs-exo-2017-summer-fan-showdown-round-2/',\n",
       " 'http://popcrush.com/bts-vs-exo-2017-summer-fan-showdown-round-2/#photogallery-1=17',\n",
       " 'http://popcrush.com/bts-vs-exo-2017-summer-fan-showdown-round-2/#photogallery-1=5',\n",
       " 'http://popcrush.com/bts-vs-little-mix-2017-summer-fan-showdown-round-1/',\n",
       " 'http://popcrush.com/most-loyal-fanbase-2016-fan-choice-awards/',\n",
       " 'http://popcrush.com/mtv-vmas-2017-k-pop-nomination-poll/?trackback=twitter_mobile_top',\n",
       " 'http://popcrush.com/super-junior-vs-bts-march-madness-2017-best-boy-band-semi-finals/',\n",
       " 'http://popcrush.com/super-junior-vs-bts-march-madness-2017-best-boy-band-semi-finals/?trackback=fbshare_mobile_top',\n",
       " 'http://popcrush.com/super-junior-vs-bts-march-madness-2017-best-boy-band-semi-finals/\\\\u003c3',\n",
       " 'http://popcrush.com/super-junior-vs-bts-march-madness.../',\n",
       " 'http://unbouncepages.com/bangtan_boys_wallpaper_app/',\n",
       " 'http://vote.kpopstarz.com/2016-first-half-best-artist-k-pop/result',\n",
       " 'http://vote.kpopstarz.com/best-k-pop-2016-first-half',\n",
       " 'http://www.allkpop.com/article/2016/05/anti-fans-plan-twitter-attack-against-bts-army-respond',\n",
       " 'http://www.billboard.com/articles/events/fan-army/7416654/fan-army-face-off-2016-intro',\n",
       " 'http://www.billboard.com/charts/year-end/2016/social-50-artists#item-34-vote',\n",
       " 'http://www.billboard.com/charts/year-end/2016/twitter-top-tracks#item-26-vote',\n",
       " 'http://www.billboard.com/charts/year-end/2016/world-albums',\n",
       " 'http://www.billboard.com/charts/year-end/2016/world-albums-artists',\n",
       " 'http://www.billboard.com/fan-army-bracket/?utm_source=twitter',\n",
       " 'http://www.chartsawards.co.uk/2016/11/best-group.html?m=1',\n",
       " 'http://www.dailymotion.com/video/x5d4j5w_eng-sub-170223-new-yang-nam-show-ep-1-bts-1-2_fun',\n",
       " 'http://www.dvdvideosoft.com/products/dvd/free-youtube-to-dvd-converter.htm',\n",
       " 'http://www.dvdvideosoft.com/products/dvd/free-youtube-to-mp3-converter.htm',\n",
       " 'http://www.fuse.tv/2017/01/k-pop-top-40-2016-poll-rules-how-it-works-wildcards',\n",
       " 'http://www.fuse.tv/vote/k-pop-top-40-of-2016/round/1/poll/1',\n",
       " 'http://www.fuse.tv/vote/k-pop-top-40-of-2016/round/2/poll/3',\n",
       " 'http://www.fuse.tv/vote/k-pop-top-40-of-2016/round/4/poll/1',\n",
       " 'http://www.fuse.tv/vote/k-pop-top-40-of-2016/round/4/poll/4',\n",
       " 'http://www.fuse.tv/vote/k-pop-top-40-of-2016/round/5/poll/2',\n",
       " 'http://www.genie.co.kr/detail/albuminfo?axnm=80881231',\n",
       " 'http://www.genie.co.kr/promotion/2016/0226/index?type=&chk=dupemgdlynlhavn1qnhfyujoznzudz09',\n",
       " 'http://www.iqiyi.com/yule/2016mama.html#top%ef%bb%bf2',\n",
       " 'http://www.kpopmap.com/6th-gaon-chart-kpop-music-awards-2016-lineup/',\n",
       " 'http://www.kvilleentertainment.net/poll.php?id=9492327',\n",
       " 'http://www.popcrush.com/most-loyal-fanbase-2016-fan-choice-awards',\n",
       " 'http://www.sbs.com.au/popasia/blog/2016/11/16/vote-sbs-popasia-award-2016-album-year',\n",
       " 'http://www.sbs.com.au/popasia/blog/2016/11/16/vote-sbs-popasia-award-2016-best-boy-band',\n",
       " 'http://www.sbs.com.au/popasia/blog/2016/11/16/vote-sbs-popasia-award-2016-best-song',\n",
       " 'http://www.sbs.com.au/popasia/blog/2016/11/16/vote-sbs-popasia-award-2016-hottest-mv',\n",
       " 'http://www.sbs.com.au/popasia/blog/2017/03/06/poll-who-your-favourite-k-pop-maknae-all-time',\n",
       " 'http://www.sbs.com.au/popasia/blog/2017/03/17/poll-who-your-favourite-k-pop-leader-all-time',\n",
       " 'http://www.sbs.com.au/…/vote-sbs-popasia-award-2016-album-y…',\n",
       " 'http://www.sbs.com.au/…/vote-sbs-popasia-award-2016-best-bo…',\n",
       " 'http://www.sbs.com.au/…/vote-sbs-popasia-award-2016-hottest…',\n",
       " 'http://www.soompi.com/2016/11/10/big-hit-entertainment-takes-legal-action-protect-bts/',\n",
       " 'http://www.thepetitionsite.com/589/324/503/demand-%22blood-sweat-tears%22-by-bts-be-played-on-the-radio/',\n",
       " 'http://www.thepetitionsite.com/589/324/503/demand-%22blood-sweat-tears%22-by-bts-be-played-on-the-radio/?taf_id=30021942',\n",
       " \"http://www.thepetitionsite.com/589/324/503/demand-'blood-sweat-tears'-by-bts-be-played-on-the-radio/\",\n",
       " 'http://www.thepetitionsite.com/589/324/503/demand-/',\n",
       " 'http://www.thepetitionsite.com/en-ca/589/324/503/demand-%22blood-sweat-tears%22-by-bts-be-played-on-the-radio/',\n",
       " 'http://www.thepetitionsite.com/es-es/589/324/503/demand-%22blood-sweat-tears%22-by-bts-be-played-on-the-radio/',\n",
       " 'http://www.thepetitionsite.com/fr/589/324/503/demand-%22blood-sweat-tears%22-by-bts-be-played-on-the-radio/',\n",
       " 'http://www.thepetitionsite.com/tell-a-friend/30021942',\n",
       " 'http://www.thepetitionsite.com/tell-a-friend/30041461',\n",
       " 'http://www.thepetitionsite.com/tell-a-friend/30043682',\n",
       " 'http://www.tudou.com/albumplay/y3yehxuxsvu/4jzlvp6hqno.html#',\n",
       " 'http://yoogamin.tumblr.com/post/105828581086/trans-10asia-magazine-10-star-bts-interview',\n",
       " 'https://bangtanintl.wordpress.com/2015/06/16/tutorial-how-to-download-melon-app-on-apple-products/',\n",
       " 'https://bangtanintl.wordpress.com/tutorial-voting-on-iqiyi-for-mama/',\n",
       " 'https://docs.google.com/document/d/1ft3xj6trizywta5amyrbj3bstugmevr4oniwfteosck/edit?usp=sharing',\n",
       " 'https://docs.google.com/document/d/1ni6zfmp3e4bmbm8yu1vg7azalmwc0cs0wpq4ivajhts/edit?usp=sharing',\n",
       " 'https://docs.google.com/document/d/1otp_5oqbsg7hw1bmank8u9m9ky9q4mo4ufjb52tequ8/mobilebasic',\n",
       " 'https://docs.google.com/document/d/1ptdhalygxuvfkcynwry_v313lkabs_iq-ojk4ngmkoi/edit',\n",
       " 'https://docs.google.com/document/d/1ptdhalygxuvfkcynwry_v313lkabs_iq-ojk4ngmkoi/mobilebasic',\n",
       " 'https://docs.google.com/document/d/1tx-qbfdduipeb8qioxvz33eax0h0n0iennaqjh8v530/edit',\n",
       " 'https://docs.google.com/forms/d/1lsspfgkexybuenulnq0giw6rfiqyubtg5-5eckihvtg/viewform',\n",
       " 'https://docs.google.com/forms/d/1lsspfgkexybuenulnq0giw6rfiqyubtg5-5eckihvtg/viewform?fbzx=5735638404725237000',\n",
       " 'https://docs.google.com/forms/d/1lsspfgkexybuenulnq0giw6rfiqyubtg5-5eckihvtg/viewform?pageid=101427879163077362138',\n",
       " 'https://docs.google.com/forms/d/1lsspfgkexybuenulnq0giw6rfiqyubtg5-5eckihvtg/viewformch',\n",
       " 'https://docs.google.com/forms/d/e/1faipqlsfybquuihan-av468xdlxyxaw35xoa1fxrh7svbuygluqp_ew/viewform',\n",
       " 'https://en.wikipedia.org/wiki/gaon_chart_k-pop_awards',\n",
       " 'https://itunes.apple.com/id/app/sma26th-26th-seoul-music-awards/id1173417544?mt=8',\n",
       " 'https://itunes.apple.com/kr/app/31st-golden-disc-awards-vote/id1063629977?l=en&mt=8',\n",
       " 'https://itunes.apple.com/us/album/hwayang-yeonhwa-most-beautiful/id1109292307?l=ko&ls=1',\n",
       " 'https://m.facebook.com/photo.php?fbid=1240478816004017&id=1017998671585367&set=pcb.1240478939337338&source=48&ref=bookmarks',\n",
       " 'https://mobile.twitter.com/jinjjarevil/status/853163343384899584',\n",
       " 'https://mobile.twitter.com/mtvchartsawards/status/869975885025300483',\n",
       " 'https://mobile.twitter.com/narynaryg/status/792517579449315328',\n",
       " 'https://mobile.twitter.com/topstarzine/status/827100934236889088',\n",
       " 'https://onehallyu.com/topic/506905-full-interview-bts-revealed-by-bang-shi-hyuk-pd-netizens-react/',\n",
       " 'https://open.spotify.com/album/1flcn9j76qlflyt5kilk1x',\n",
       " 'https://open.spotify.com/track/0rb00amsmblr91i9r4sfib',\n",
       " 'https://play.google.com/store/apps/details?id=com.dlto.sma2016android',\n",
       " 'https://play.google.com/store/apps/details?id=com.ilgan.goldendiskawards2016',\n",
       " 'https://play.google.com/store/apps/details?id=kr.thestar.asia.aaa',\n",
       " 'https://plus.google.com/+rafitagvids/posts/dbayyxsgmu4',\n",
       " 'https://plus.google.com/106905034470634984622/posts/caeum6mcflw',\n",
       " 'https://preply.com/en/english-language-tutor/skype/jenna-j/24378/',\n",
       " 'https://sites.google.com/view/btstutorials/voting-tutorials/gda-tutorials?authuser=0',\n",
       " 'https://thetylt.com/entertainment/best-boy-band-of-2017-so-far-bts-or-the-vamps',\n",
       " 'https://thetylt.com/entertainment/best-k-pop-group-bts-or-exo',\n",
       " 'https://twitter.com/1thek/status/813686119946555392',\n",
       " 'https://twitter.com/88f891dbea65641df/status/737180688424816640',\n",
       " 'https://twitter.com/_pupochek/status/822111351682306048',\n",
       " 'https://twitter.com/aprilkepners/status/796493760385470465',\n",
       " 'https://twitter.com/army_league/status/809108460256116736',\n",
       " 'https://twitter.com/army_league/status/813936241628413952',\n",
       " 'https://twitter.com/armybrigade13/status/854809744523046912',\n",
       " 'https://twitter.com/armyvsvoting/status/850225892420759552',\n",
       " 'https://twitter.com/bstwings_views/status/808673573162258432',\n",
       " 'https://twitter.com/bts_copipe_robo/status/817944970778640384',\n",
       " 'https://twitter.com/bts_national/status/780061147739197443',\n",
       " 'https://twitter.com/bts_twt/status/799992065794838528',\n",
       " 'https://twitter.com/btsanalytics/status/889820504231694337',\n",
       " 'https://twitter.com/btsanalytics/status/889962108393226241',\n",
       " 'https://twitter.com/btsanalytics/status/890604458278662145',\n",
       " 'https://twitter.com/btsxmvp/status/888949427632611328',\n",
       " 'https://twitter.com/daily_namjoon/status/791963367351037952',\n",
       " 'https://twitter.com/daily_namjoon/status/821280985773838337',\n",
       " 'https://twitter.com/hashtag/btsbbmas%ef%b8%8f?vertical=default&src=hash&lang=en',\n",
       " 'https://twitter.com/hashtag/btsbbmas?vertical=default&src=hash',\n",
       " 'https://twitter.com/jinjjarevil/status/853163343384899584',\n",
       " 'https://twitter.com/koreaboo/status/870349384810024960',\n",
       " 'https://twitter.com/me990117/status/783318694273220612',\n",
       " 'https://twitter.com/melonforbts/status/877872271041339392',\n",
       " 'https://twitter.com/msjazzsquare/status/869658477899255808',\n",
       " 'https://twitter.com/mtvchartsawards/status/869975885025300483',\n",
       " 'https://twitter.com/mtvru/status/812014392267177984',\n",
       " 'https://twitter.com/myoongi_0309/status/825538040583950336',\n",
       " 'https://twitter.com/nartanim/status/840474964197228544',\n",
       " 'https://twitter.com/neumiichamalow/status/794630480624754689',\n",
       " 'https://twitter.com/noboundariessv/status/796522801825841152?lang=en-gb',\n",
       " 'https://twitter.com/noboundariessv/status/799592101642006528',\n",
       " 'https://twitter.com/search?vertical=default&q=%232017btsfesta&src=typd',\n",
       " 'https://twitter.com/taecoupskie/status/836881087431340034',\n",
       " 'https://twitter.com/taetaehaven/status/823219118115389441',\n",
       " 'https://twitter.com/topstarzine/status/827100934236889088',\n",
       " 'https://twitter.com/wings_streaming/status/781714082365779968',\n",
       " 'https://www.change.org/p/%eb%b9%85%ed%9e%88%ed%8a%b8-%ec%97%94%ed%84%b0%ed%85%8c%ec%9d%b8%eb%a8%bc%ed%8a%b8-%eb%b9%85%ed%9e%88%ed%8a%b8%ec%9d%98-%ec%86%8c%ec%86%8d-%ec%95%84%ed%8b%b0%ec%8a%a4%ed%8a%b8-%eb%b3%b4%ed%98%b8%eb%a5%bc-%ec%9c%84%ed%95%9c-%ec%a0%81%ea%b7%b9%ec%a0%81%ec%9d%b8-%eb%8c%80%ec%9d%91%ec%9d%84-%ec%9a%94%ec%b2%ad%ed%95%a9%eb%8b%88%eb%8b%a4-c65f4fd7-42de-4362-94d3-450e93ef87cc?recruiter=625463339&utm_source=share_petition&utm_medium=copylink',\n",
       " 'https://www.change.org/p/big-hit-entertainment-bts-stylists-bring-back-jhope-s-forehead?tk=cduwspasg8atpapenfkofwmnudxp3wknsseyxtzshfo&utm_medium=email&utm_source=signature_receipt&utm_campaign=new_signature',\n",
       " 'https://www.change.org/p/bighit-entertainment-stop-paul-resinkoff-from-spreading-bts-hate?recruiter=716376926&utm_source=share_petition&utm_medium=copylink&utm_campaign=share_petition&utm_term=share_petition',\n",
       " 'https://www.change.org/p/bts-big-hit-ent-bangtan-boys-have-bts-hold-a-concert-in-miami-florida?recruiter=false&utm_source=share_petition&utm_medium=copylink&utm_campaign=share_petition',\n",
       " 'https://www.change.org/p/bts-bts-en-espa%c3%b1a-2017',\n",
       " 'https://www.change.org/p/cj-e-m-bring-kcon-to-amsterdam',\n",
       " 'https://www.change.org/p/dick-clark-productions-help-k-pop-group-bts-get-invited-to-the-2017-billboard-music-awards',\n",
       " 'https://www.change.org/p/dick-clark-productions-help-k-pop-group-bts-get-invited-to-the-2017-billboard-music-awards#btstobbma2017#btsxbillboard17',\n",
       " 'https://www.change.org/p/dick-clark-productions-help-k-pop-group-bts-get-invited-to-the-2017-billboard-music-awards/share?after_sign_exp=default&just_signed=true',\n",
       " 'https://www.change.org/p/dick-clark-productions-help-k-pop-group-bts-get-invited-to-the-2017-billboard-music-awards/w?source_location=petition_show',\n",
       " 'https://www.change.org/p/dick-clark-productions-help-k-pop-group-bts-get-invited-to-the-2017-billboard-music-awards?recruiter=174537334&utm_source=share_petition&utm_medium=copylink',\n",
       " 'https://www.change.org/p/dick-clark-productions-help-k-pop-group-bts-get-invited-to-the-2017-billboard-music-awards?recruiter=443343130&utm_source=share_petition&utm_medium=copylink',\n",
       " 'https://www.change.org/p/dick-clark-productions-help-k-pop-group-bts-get-invited-to-the-2017-billboard-music-awards?recruiter=564199991&utm_source=share_petition&utm_medium=copylink',\n",
       " 'https://www.change.org/p/dick-clark-productions-help-k-pop-group-bts-get-invited-to-the-2017-billboard-music-awards?recruiter=575919800&utm_source=share_petition&utm_medium=copylink',\n",
       " 'https://www.change.org/p/dick-clark-productions-help-k-pop-group-bts-get-invited-to-the-2017-billboard-music-awards?recruiter=59772982&utm_source=share_petition&utm_medium=copylink',\n",
       " 'https://www.change.org/p/dick-clark-productions-help-k-pop-group-bts-get-invited-to-the-2017-billboard-music-awards?recruiter=631338401&utm_source=share_petition&utm_medium=copylink',\n",
       " 'https://www.change.org/p/dick-clark-productions-help-k-pop-group-bts-get-invited-to-the-2017-billboard-music-awards?recruiter=640742282&utm_source=share_petition&utm_medium=copylink',\n",
       " 'https://www.change.org/p/dick-clark-productions-help-k-pop-group-bts-get-invited-to-the-2017-billboard-music-awards?recruiter=663925544&utm_source=share_petition&utm_medium=copylink',\n",
       " 'https://www.change.org/p/dick-clark-productions-help-k-pop-group-bts-get-invited-to-the-2017-billboard-music-awards?recruiter=669688400&utm_source=share_petition&utm_medium=copylink',\n",
       " 'https://www.change.org/p/dick-clark-productions-help-k-pop-group-bts-get-invited-to-the-2017-billboard-music-awards?recruiter=675551396&utm_source=share_petition&utm_medium=copylink',\n",
       " 'https://www.change.org/p/dick-clark-productions-help-k-pop-group-bts-get-invited-to-the-2017-billboard-music-awards?recruiter=675938600&utm_source=share_petition&utm_medium=copylink',\n",
       " 'https://www.change.org/p/dick-clark-productions-help-k-pop-group-bts-get-invited-to-the-2017-billboard-music-awards?recruiter=707118941&utm_source=share_petition&utm_medium=copylink',\n",
       " 'https://www.change.org/p/dick-clark-productions-help-k-pop-group-bts-get-invited-to-the-2017-billboard-music-awards?recruiter=713512415&utm_source=share_petition&utm_medium=copylink',\n",
       " 'https://www.change.org/p/dick-clark-productions-help-k-pop-group-bts-get-invited-to-the-2017-billboard-music-awards?recruiter=715182896&utm_source=share_petition&utm_medium=copylink',\n",
       " 'https://www.change.org/p/dick-clark-productions-help-k-pop-group-bts-get-invited-to-the-2017-billboard-music-awards?recruiter=false&utm_source=share_petition&utm_medium=copylink',\n",
       " 'https://www.change.org/p/dick-clark-productions-help-k-pop-group-bts-get-invited-to-the-2017-billboard-music-awards?source_location=minibar',\n",
       " 'https://www.change.org/p/dick-clark-productions-help-k-pop-group-bts-get-invited-to-the-2017-billboard-music-awards?source_location=petitions_share_skip',\n",
       " 'https://www.change.org/p/dick-clark-productions-help-k-pop-group-bts-get-invited-to-the-2017-billboard-music-awards?utm_medium=email&utm_source=notification&utm_campaign=petition_signer_receipt_rmp&share_context=signature_receipt&recruiter=713536949',\n",
       " 'https://www.change.org/p/emagination-computer-camps-change-contract-that-is-stopping-girl-from-attending-last-year-at-computer-science-camp?recruiter=439142754&utm_source=petitions_show_components_action_panel_wrapper&utm_medium=copylink',\n",
       " 'https://www.change.org/p/gucci-kim-taehyung-new-model-for-the-luxury-brand-gucci-f961ec85-1716-474c-a2a5-8894857abc8c?recruiter=677047748&utm_source=share_petition&utm_medium=copylink',\n",
       " 'https://www.change.org/p/gucci-make-kim-taehyung-of-bts-a-model-for-gucci',\n",
       " 'https://www.change.org/p/gucci-make-kim-taehyung-of-bts-a-model-for-gucci?recruiter=678045344&utm_source=share_petition&utm_medium=copylink',\n",
       " 'https://www.change.org/p/monsieur-bang-si-hyuk-le-directeur-de-bighit-entertainment-les-bts-en-concert-en-france-bts-new-world-tour-go-through-france-kpop',\n",
       " 'https://www.facebook.com/bangtan.official/photos/a.1308053172543275.1073741987.561348433880423/1308053755876550/?type=3&theater',\n",
       " 'https://www.facebook.com/bulletboys.bighit/posts/1000736850073170',\n",
       " 'https://www.facebook.com/onefm/photos/a.125512118327.101782.42443208327/10154628557418328/?type=3&theater',\n",
       " 'https://www.facebook.com/photo.php?fbid=1080370185375974&set=a.468582139888118.1073741841.100002090089644&type=3&theater',\n",
       " 'https://www.facebook.com/worldmusicawards/photos/a.310614765686310.72237.305202169560903/1295610157186761/?type=3&theater',\n",
       " 'https://www.gofundme.com/272ra553?utm_source=internal&utm_medium=email&utm_content=campaign_link_t&utm_campaign=welcome',\n",
       " 'https://www.gofundme.com/to-meet-bts-is-my-dream-pls',\n",
       " 'https://www.google.com/url?q=https://www.google.com/url?q%3dhttps://docs.google.com/document/d/1lf0xaaqeyepgcf4pj2yjl3nynfk16rheyir9jzzgmy8/edit%26amp;sa%3dd%26amp;ust%3d1475427351499000%26amp;usg%3dafqjcne6jato3rs3j9-r58tdw-lc49gvvg&sa=d&ust=1475427351518000&usg=afqjcnhpewffmfcknn7jkirgigg1jgxoya',\n",
       " 'https://www.indiegogo.com/projects/seoul-got-soul-the-documentary/x/14895019#/',\n",
       " 'https://www.instagram.com/p/bf7at4gtedm/?taken-by=justkoreaboothings',\n",
       " 'https://www.music-plaza.com/mslist.aspx?mode=searchinstr&param1=seventeen',\n",
       " 'https://www.mymusictaste.com/campaign/방탄소년단-bts-x-buenosaires-argentina,761/',\n",
       " 'https://www.quotev.com/quiz/9358431/who-should-be-your-bias-from-bts',\n",
       " 'https://www.reddit.com/r/bangtan/comments/55qfc6/what_happened_over_night_in_kcharts/',\n",
       " 'https://www.soompi.com/2016/12/28/battle-24-hours-vote-r1-best-fandom-soompi-awards/',\n",
       " 'https://www.soompi.com/soompi-awards-2016-vote/?c=10',\n",
       " 'https://www.soompi.com/soompi-awards-2016-vote/?c=12',\n",
       " 'https://www.soompi.com/soompi-awards-2016-vote/?c=13',\n",
       " 'https://www.soompi.com/soompi-awards-2016-vote/?c=14',\n",
       " 'https://www.soompi.com/soompi-awards-2016-vote/?c=4',\n",
       " 'https://www.soompi.com/soompi-awards-2016-vote/?c=8',\n",
       " 'ihaveashawolcownamedmoomoowhosebuddynamedpandaisav.i.poftheexo',\n",
       " 'itunes.apple.com/th/app/asia-artist-awards-2016/id1169049753?mt=8',\n",
       " 'looooooooooooooooooooooooooooooooooooooooooooooooooooooooooooooooooooooooooooooooooooooooooooooooooooooooooooooooooooooooooooooooooooooooooooooove',\n",
       " 'lukyryrkyfhgjbkbkgdyeegsrarqtwufhohojonibobchchxhdug',\n",
       " 'ooooooooooooooooooooooooooooooooooooooooooooooooooooooooooooooooooooooooooooooooooo',\n",
       " 'pllllllllllllllllllllllllllllllllllllllllllllllllllllllllllllllllllllllllllllllllllllllllllllllllllllllllllllllllllllllllllllllllllllllllllllllllllllllllllllllllllllllllllllllllllllllllllllllllllllllllllllllllllllllllllllllllllllllllllllllllllllllllllllllllllllllllllllllllllllllllllllllllllllllllllllllllllllllllllllllllllllllllllllllllllllllllllllllllllllllllllllllllllllllllllllllllllllllllllllllllllllllllllllllllllllllllllllllllllllllllllllllllllllllllllllllllllllllllllllllllllllllllllllllllllllllllllllllllllllllllllllllllllllllllllllllllllllllllllllllllllllllllllllllllllllllllllllllllllllllllllllllllllllllllllllllllllllllllllllllllllllllllllllllllllllllllllllllz',\n",
       " 'sooooooooooooooooooooooooooooooooooooooooooooooooooooooo',\n",
       " 'sooooooooooooooooooooooooooooooooooooooooooooooooooooooooooooooooooooooooooooooooooooooooooooooooooooooooooooooooooooooooooooooooooooooooooooooooooooooo',\n",
       " 'twitter.com/daily_namjoon/status/791267095027691521',\n",
       " 'ukyfbuuyfuybsgubguybgkbkgubuguwgrgjuktgujgrhhirlbflbvbelruhfbvkuhgbv',\n",
       " 'www.sbs.com.au/popasia/blog/2016/11/16/vote-sbs-popasia-award',\n",
       " 'www.sbs.com.au/popasia/blog/2016/11/16/vote-sbs-popasia-award-2016-album-year\\\\u003e',\n",
       " 'www.sbs.com.au/popasia/blog/2016/11/16/vote-sbs-popasia-award-2016-best-boy-band\\\\u003e',\n",
       " 'www.sbs.com.au/popasia/blog/2016/11/16/vote-sbs-popasia-award-2016-hottest-mv\\\\u003e']"
      ]
     },
     "execution_count": 116,
     "metadata": {},
     "output_type": "execute_result"
    }
   ],
   "source": [
    "# All of the long words (more than 50 characters) in the BTS comments.\n",
    "bts_vocab = set(bts_tokenized)\n",
    "bts_long_words = [word for word in bts_vocab if len(word)>50]\n",
    "sorted(bts_long_words)"
   ]
  },
  {
   "cell_type": "code",
   "execution_count": 121,
   "metadata": {},
   "outputs": [
    {
     "data": {
      "text/plain": [
       "['4ghijtebblkjregvhkugrhbugrehvi4rouugfoiruhg8754ughiuwtrhgiutrwhgurtwg',\n",
       " '___love___bangtan___jungkook___save___me___army___forever___',\n",
       " 'aaaaaaaaaaaaaaaaaaaaaaaaaaaaaaaaaaaaaaaaaaaaaaaaaaaaaaaaaaaaaaaaaaaaaaaaaaaaaaaaaaaaaaaaaaaaaaaaaaaaaaaaaaaaaaaaaaaaaahhh',\n",
       " 'aaaaaaaaaaaaaammmmmmmmmmmmmmaaaaaazzzzzzzzzzzzzziiiiiiiiiiiiiiiiiiiiiiinnnnnnnnnnnnnnngggggggggggggggggg',\n",
       " 'armyyyyyyyyyyyyyyyyyyyyyyyyyyyyyyyyyyyyyyyyyyyyyyyyyyy',\n",
       " 'bbbbbbbbbbbbbbaeeeeeeeeeeeeeeeeeeeeeeeeeeeeeeeeeeeeeeeeeeeeeeeeeeeeeeeeeeeeeeeeeeeeeeeeeee',\n",
       " 'bwvjhlfrbvjrthbvuhrfvihtrhgkjjuyhgrviwhbutbgkgojwrkhviutkuuslhgiuet',\n",
       " 'eexxxpppppppeeeeeeeeennsssssssssiiiiivvvvvvveeeeeeee',\n",
       " 'gooooooooooooooooooooooooooooooooooooooooooooooooooooooooooooooooooooooooooooooooooooooooooo',\n",
       " 'hahahahahhahahahahahhahahahahahahhahahahhahahahhahahahahahhahahahahahahahhahahahahahaahhahahahahahhahahahahhahahahahahhahahahahhahahahahhahahahahhahhahahahahhahahahahhahahahahahahahahahahahhahahahahhahahahahahhahaaahhahahhahahahahahhahhahahahahahahahhahahahahhahahahhahahahhahahahahhahh',\n",
       " 'ihaveashawolcownamedmoomoowhosebuddynamedpandaisav.i.poftheexo',\n",
       " 'itunes.apple.com/th/app/asia-artist-awards-2016/id1169049753?mt=8',\n",
       " 'looooooooooooooooooooooooooooooooooooooooooooooooooooooooooooooooooooooooooooooooooooooooooooooooooooooooooooooooooooooooooooooooooooooooooooooove',\n",
       " 'lukyryrkyfhgjbkbkgdyeegsrarqtwufhohojonibobchchxhdug',\n",
       " 'ooooooooooooooooooooooooooooooooooooooooooooooooooooooooooooooooooooooooooooooooooo',\n",
       " 'pllllllllllllllllllllllllllllllllllllllllllllllllllllllllllllllllllllllllllllllllllllllllllllllllllllllllllllllllllllllllllllllllllllllllllllllllllllllllllllllllllllllllllllllllllllllllllllllllllllllllllllllllllllllllllllllllllllllllllllllllllllllllllllllllllllllllllllllllllllllllllllllllllllllllllllllllllllllllllllllllllllllllllllllllllllllllllllllllllllllllllllllllllllllllllllllllllllllllllllllllllllllllllllllllllllllllllllllllllllllllllllllllllllllllllllllllllllllllllllllllllllllllllllllllllllllllllllllllllllllllllllllllllllllllllllllllllllllllllllllllllllllllllllllllllllllllllllllllllllllllllllllllllllllllllllllllllllllllllllllllllllllllllllllllllllllllllllllz',\n",
       " 'sooooooooooooooooooooooooooooooooooooooooooooooooooooooo',\n",
       " 'sooooooooooooooooooooooooooooooooooooooooooooooooooooooooooooooooooooooooooooooooooooooooooooooooooooooooooooooooooooooooooooooooooooooooooooooooooooooo',\n",
       " 'twitter.com/daily_namjoon/status/791267095027691521',\n",
       " 'ukyfbuuyfuybsgubguybgkbkgubuguwgrgjuktgujgrhhirlbflbvbelruhfbvkuhgbv']"
      ]
     },
     "execution_count": 121,
     "metadata": {},
     "output_type": "execute_result"
    }
   ],
   "source": [
    "# There are too many URLs in the 'long words list'. Let's remove them and try again.\n",
    "\n",
    "bts_vocab_nourls = []\n",
    "\n",
    "for word in bts_vocab:\n",
    "    if not word.startswith('http'):\n",
    "        if not word.startswith('www'):\n",
    "            bts_vocab_nourls.append(word)\n",
    "\n",
    "bts_long_words = [word for word in bts_vocab_nourls if len(word)>50]\n",
    "sorted(bts_long_words)"
   ]
  },
  {
   "cell_type": "code",
   "execution_count": 127,
   "metadata": {},
   "outputs": [
    {
     "data": {
      "text/plain": [
       "['#4thyearwithbts',\n",
       " '#mamaredcarpet',\n",
       " '#teamnottoday',\n",
       " '#teamspringday',\n",
       " '#teamyoungforever',\n",
       " 'aesthetically',\n",
       " 'automatically',\n",
       " 'brendaofthedesert',\n",
       " 'choreographed',\n",
       " 'choreographer',\n",
       " 'choreographies',\n",
       " 'cinematography',\n",
       " 'congratulation',\n",
       " 'congratulations',\n",
       " 'differentiate',\n",
       " 'disappointment',\n",
       " 'disrespectful',\n",
       " 'entertainment',\n",
       " 'extraordinary',\n",
       " 'inappropriate',\n",
       " 'international',\n",
       " 'internationally',\n",
       " 'personalities',\n",
       " 'pronunciation',\n",
       " 'recommendation',\n",
       " 'recommendations',\n",
       " 'representative',\n",
       " 'saenggakhamyeon',\n",
       " 'samkyeobeorin',\n",
       " 'straightening',\n",
       " 'thisisneverthat',\n",
       " 'uncomfortable',\n",
       " 'understanding',\n",
       " 'unfortunately',\n",
       " 'wiheomhajanha']"
      ]
     },
     "execution_count": 127,
     "metadata": {},
     "output_type": "execute_result"
    }
   ],
   "source": [
    "# Now let's examine the words of at least 12 characters that occur more than 5 times.\n",
    "bts_long_frequent_words = [word for word in bts_vocab_nourls if len(word)>12 and fdistbts[word]>5]\n",
    "sorted(bts_long_frequent_words)"
   ]
  },
  {
   "cell_type": "markdown",
   "metadata": {},
   "source": [
    "### Step V: POS tagging\n",
    "\n",
    "Compute and visualise frequencies of most popular (proper) nouns, adjectives, verbs. Also frequencies of most popuar words overall...?"
   ]
  },
  {
   "cell_type": "code",
   "execution_count": null,
   "metadata": {},
   "outputs": [
    {
     "name": "stdout",
     "output_type": "stream",
     "text": [
      "showing info https://raw.githubusercontent.com/nltk/nltk_data/gh-pages/index.xml\n"
     ]
    }
   ],
   "source": [
    "nltk.download()\n",
    "\n",
    "bts_tagged = nltk.pos_tag(bts_tokenized, tagset=\"universal\")\n",
    "print(bts_tagged)"
   ]
  },
  {
   "cell_type": "code",
   "execution_count": 133,
   "metadata": {},
   "outputs": [
    {
     "ename": "LookupError",
     "evalue": "\n**********************************************************************\n  Resource 'taggers/averaged_perceptron_tagger/averaged_perceptron\n  _tagger.pickle' not found.  Please use the NLTK Downloader to\n  obtain the resource:  >>> nltk.download()\n  Searched in:\n    - 'C:\\\\Users\\\\Periwynkle/nltk_data'\n    - 'C:\\\\nltk_data'\n    - 'D:\\\\nltk_data'\n    - 'E:\\\\nltk_data'\n    - 'C:\\\\Users\\\\Periwynkle\\\\Anaconda3\\\\nltk_data'\n    - 'C:\\\\Users\\\\Periwynkle\\\\Anaconda3\\\\lib\\\\nltk_data'\n    - 'C:\\\\Users\\\\Periwynkle\\\\AppData\\\\Roaming\\\\nltk_data'\n**********************************************************************",
     "output_type": "error",
     "traceback": [
      "\u001b[1;31m---------------------------------------------------------------------------\u001b[0m",
      "\u001b[1;31mLookupError\u001b[0m                               Traceback (most recent call last)",
      "\u001b[1;32m<ipython-input-133-2bf2e35f7255>\u001b[0m in \u001b[0;36m<module>\u001b[1;34m()\u001b[0m\n\u001b[1;32m----> 1\u001b[1;33m \u001b[0mnltk\u001b[0m\u001b[1;33m.\u001b[0m\u001b[0mpos_tag\u001b[0m\u001b[1;33m(\u001b[0m\u001b[0mbts\u001b[0m\u001b[1;33m)\u001b[0m\u001b[1;33m\u001b[0m\u001b[0m\n\u001b[0m\u001b[0;32m      2\u001b[0m \u001b[0mnltk\u001b[0m\u001b[1;33m.\u001b[0m\u001b[0mpos_tag\u001b[0m\u001b[1;33m(\u001b[0m\u001b[0mbts\u001b[0m\u001b[1;33m,\u001b[0m \u001b[0mtagset\u001b[0m\u001b[1;33m=\u001b[0m\u001b[1;34m\"universal\"\u001b[0m\u001b[1;33m)\u001b[0m\u001b[1;33m\u001b[0m\u001b[0m\n\u001b[0;32m      3\u001b[0m \u001b[1;33m\u001b[0m\u001b[0m\n\u001b[0;32m      4\u001b[0m \u001b[1;31m##Universal Part-of-Speech Tagset\u001b[0m\u001b[1;33m\u001b[0m\u001b[1;33m\u001b[0m\u001b[0m\n\u001b[0;32m      5\u001b[0m \u001b[1;31m##Tag   Meaning                 English Examples\u001b[0m\u001b[1;33m\u001b[0m\u001b[1;33m\u001b[0m\u001b[0m\n",
      "\u001b[1;32mC:\\Users\\Periwynkle\\Anaconda3\\lib\\site-packages\\nltk\\tag\\__init__.py\u001b[0m in \u001b[0;36mpos_tag\u001b[1;34m(tokens, tagset, lang)\u001b[0m\n\u001b[0;32m    124\u001b[0m     \u001b[1;33m:\u001b[0m\u001b[0mrtype\u001b[0m\u001b[1;33m:\u001b[0m \u001b[0mlist\u001b[0m\u001b[1;33m(\u001b[0m\u001b[0mtuple\u001b[0m\u001b[1;33m(\u001b[0m\u001b[0mstr\u001b[0m\u001b[1;33m,\u001b[0m \u001b[0mstr\u001b[0m\u001b[1;33m)\u001b[0m\u001b[1;33m)\u001b[0m\u001b[1;33m\u001b[0m\u001b[0m\n\u001b[0;32m    125\u001b[0m     \"\"\"\n\u001b[1;32m--> 126\u001b[1;33m     \u001b[0mtagger\u001b[0m \u001b[1;33m=\u001b[0m \u001b[0m_get_tagger\u001b[0m\u001b[1;33m(\u001b[0m\u001b[0mlang\u001b[0m\u001b[1;33m)\u001b[0m\u001b[1;33m\u001b[0m\u001b[0m\n\u001b[0m\u001b[0;32m    127\u001b[0m     \u001b[1;32mreturn\u001b[0m \u001b[0m_pos_tag\u001b[0m\u001b[1;33m(\u001b[0m\u001b[0mtokens\u001b[0m\u001b[1;33m,\u001b[0m \u001b[0mtagset\u001b[0m\u001b[1;33m,\u001b[0m \u001b[0mtagger\u001b[0m\u001b[1;33m)\u001b[0m\u001b[1;33m\u001b[0m\u001b[0m\n\u001b[0;32m    128\u001b[0m \u001b[1;33m\u001b[0m\u001b[0m\n",
      "\u001b[1;32mC:\\Users\\Periwynkle\\Anaconda3\\lib\\site-packages\\nltk\\tag\\__init__.py\u001b[0m in \u001b[0;36m_get_tagger\u001b[1;34m(lang)\u001b[0m\n\u001b[0;32m     88\u001b[0m         \u001b[0mtagger\u001b[0m\u001b[1;33m.\u001b[0m\u001b[0mload\u001b[0m\u001b[1;33m(\u001b[0m\u001b[0map_russian_model_loc\u001b[0m\u001b[1;33m)\u001b[0m\u001b[1;33m\u001b[0m\u001b[0m\n\u001b[0;32m     89\u001b[0m     \u001b[1;32melse\u001b[0m\u001b[1;33m:\u001b[0m\u001b[1;33m\u001b[0m\u001b[0m\n\u001b[1;32m---> 90\u001b[1;33m         \u001b[0mtagger\u001b[0m \u001b[1;33m=\u001b[0m \u001b[0mPerceptronTagger\u001b[0m\u001b[1;33m(\u001b[0m\u001b[1;33m)\u001b[0m\u001b[1;33m\u001b[0m\u001b[0m\n\u001b[0m\u001b[0;32m     91\u001b[0m     \u001b[1;32mreturn\u001b[0m \u001b[0mtagger\u001b[0m\u001b[1;33m\u001b[0m\u001b[0m\n\u001b[0;32m     92\u001b[0m \u001b[1;33m\u001b[0m\u001b[0m\n",
      "\u001b[1;32mC:\\Users\\Periwynkle\\Anaconda3\\lib\\site-packages\\nltk\\tag\\perceptron.py\u001b[0m in \u001b[0;36m__init__\u001b[1;34m(self, load)\u001b[0m\n\u001b[0;32m    138\u001b[0m         \u001b[0mself\u001b[0m\u001b[1;33m.\u001b[0m\u001b[0mclasses\u001b[0m \u001b[1;33m=\u001b[0m \u001b[0mset\u001b[0m\u001b[1;33m(\u001b[0m\u001b[1;33m)\u001b[0m\u001b[1;33m\u001b[0m\u001b[0m\n\u001b[0;32m    139\u001b[0m         \u001b[1;32mif\u001b[0m \u001b[0mload\u001b[0m\u001b[1;33m:\u001b[0m\u001b[1;33m\u001b[0m\u001b[0m\n\u001b[1;32m--> 140\u001b[1;33m             \u001b[0mAP_MODEL_LOC\u001b[0m \u001b[1;33m=\u001b[0m \u001b[1;34m'file:'\u001b[0m\u001b[1;33m+\u001b[0m\u001b[0mstr\u001b[0m\u001b[1;33m(\u001b[0m\u001b[0mfind\u001b[0m\u001b[1;33m(\u001b[0m\u001b[1;34m'taggers/averaged_perceptron_tagger/'\u001b[0m\u001b[1;33m+\u001b[0m\u001b[0mPICKLE\u001b[0m\u001b[1;33m)\u001b[0m\u001b[1;33m)\u001b[0m\u001b[1;33m\u001b[0m\u001b[0m\n\u001b[0m\u001b[0;32m    141\u001b[0m             \u001b[0mself\u001b[0m\u001b[1;33m.\u001b[0m\u001b[0mload\u001b[0m\u001b[1;33m(\u001b[0m\u001b[0mAP_MODEL_LOC\u001b[0m\u001b[1;33m)\u001b[0m\u001b[1;33m\u001b[0m\u001b[0m\n\u001b[0;32m    142\u001b[0m \u001b[1;33m\u001b[0m\u001b[0m\n",
      "\u001b[1;32mC:\\Users\\Periwynkle\\Anaconda3\\lib\\site-packages\\nltk\\data.py\u001b[0m in \u001b[0;36mfind\u001b[1;34m(resource_name, paths)\u001b[0m\n\u001b[0;32m    651\u001b[0m     \u001b[0msep\u001b[0m \u001b[1;33m=\u001b[0m \u001b[1;34m'*'\u001b[0m \u001b[1;33m*\u001b[0m \u001b[1;36m70\u001b[0m\u001b[1;33m\u001b[0m\u001b[0m\n\u001b[0;32m    652\u001b[0m     \u001b[0mresource_not_found\u001b[0m \u001b[1;33m=\u001b[0m \u001b[1;34m'\\n%s\\n%s\\n%s'\u001b[0m \u001b[1;33m%\u001b[0m \u001b[1;33m(\u001b[0m\u001b[0msep\u001b[0m\u001b[1;33m,\u001b[0m \u001b[0mmsg\u001b[0m\u001b[1;33m,\u001b[0m \u001b[0msep\u001b[0m\u001b[1;33m)\u001b[0m\u001b[1;33m\u001b[0m\u001b[0m\n\u001b[1;32m--> 653\u001b[1;33m     \u001b[1;32mraise\u001b[0m \u001b[0mLookupError\u001b[0m\u001b[1;33m(\u001b[0m\u001b[0mresource_not_found\u001b[0m\u001b[1;33m)\u001b[0m\u001b[1;33m\u001b[0m\u001b[0m\n\u001b[0m\u001b[0;32m    654\u001b[0m \u001b[1;33m\u001b[0m\u001b[0m\n\u001b[0;32m    655\u001b[0m \u001b[1;33m\u001b[0m\u001b[0m\n",
      "\u001b[1;31mLookupError\u001b[0m: \n**********************************************************************\n  Resource 'taggers/averaged_perceptron_tagger/averaged_perceptron\n  _tagger.pickle' not found.  Please use the NLTK Downloader to\n  obtain the resource:  >>> nltk.download()\n  Searched in:\n    - 'C:\\\\Users\\\\Periwynkle/nltk_data'\n    - 'C:\\\\nltk_data'\n    - 'D:\\\\nltk_data'\n    - 'E:\\\\nltk_data'\n    - 'C:\\\\Users\\\\Periwynkle\\\\Anaconda3\\\\nltk_data'\n    - 'C:\\\\Users\\\\Periwynkle\\\\Anaconda3\\\\lib\\\\nltk_data'\n    - 'C:\\\\Users\\\\Periwynkle\\\\AppData\\\\Roaming\\\\nltk_data'\n**********************************************************************"
     ]
    }
   ],
   "source": [
    "#tagged_text = tokenized_text.tagged_words(tagset=\"universal\")\n",
    "#tag_fd = nltk.FreqDist(tag for (word, tag) in tagged_text)\n",
    "#print(tag_fd.most_common())\n",
    "\n",
    "##Universal Part-of-Speech Tagset\n",
    "##Tag\tMeaning\t                English Examples\n",
    "##ADJ\tadjective\t        new, good, high, special, big, local\n",
    "##ADP\tadposition\t        on, of, at, with, by, into, under\n",
    "##ADV\tadverb\t                really, already, still, early, now\n",
    "##CONJ\tconjunction\t        and, or, but, if, while, although\n",
    "##DET\tdeterminer, article\tthe, a, some, most, every, no, which\n",
    "##NOUN\tnoun\t                year, home, costs, time, Africa\n",
    "##NUM\tnumeral\t                twenty-four, fourth, 1991, 14:24\n",
    "##PRT\tparticle\t        at, on, out, over per, that, up, with\n",
    "##PRON\tpronoun\t                he, their, her, its, my, I, us\n",
    "##VERB\tverb\t                is, say, told, given, playing, would\n",
    "##.\tpunctuation marks\t. , ; !\n",
    "##X\tother\t                ersatz, esprit, dunno, gr8, univeristy\n",
    "\n",
    "# Adapt the below code to the Kpop dataset!\n",
    "\n",
    "#TAGGED CORPORA\n",
    "from nltk.corpus import brown\n",
    "brown_news_tagged = brown.tagged_words(categories=\"news\", tagset=\"universal\")\n",
    "tag_fd = nltk.FreqDist(tag for (word, tag) in brown_news_tagged)\n",
    "tag_fd.most_common()\n",
    "tag_fd.plot(cumulative=True)\n",
    "\n",
    "#Which parts of speech occur before a noun?\n",
    "word_tag_pairs = nltk.bigrams(brown_news_tagged) #Bigrams consist of word-tag pairs.\n",
    "noun_preceders = [a[1] for (a, b) in word_tag_pairs if b[1] == \"NOUN\"]\n",
    "fdist_noun_preceders = nltk.FreqDist(noun_preceders)\n",
    "fdist_noun_preceders.most_common() #Displays tags and frequencies.\n",
    "[tag for (tag, _) in fdist_noun_preceders.most_common()] #Just displays tags.\n",
    "\n",
    "#What are the most common verbs in the Wall Street Journal corpus?\n",
    "wsj = nltk.corpus.treebank.tagged_words(tagset=\"universal\")\n",
    "word_tag_fd = nltk.FreqDist(wsj)\n",
    "word_tag_fd.most_common(50)\n",
    "#[wordtag[0] for (wordtag, _) in word_tag_fd.most_common() if wordtag[1] == \"VERB\"] #Sort verbs by frequency.\n",
    "\n",
    "#Frequency-ordered list of POS tags given a word. Word is treated as a condition and its tag as an event.\n",
    "cfd1 = nltk.ConditionalFreqDist(wsj)\n",
    "cfd1[\"yield\"].most_common()\n",
    "\n",
    "#Reverse the order of the pairs to see likely words for a given POS tag.\n",
    "wsj2 = nltk.corpus.treebank.tagged_words()\n",
    "cfd2 = nltk.ConditionalFreqDist((tag, word) for (word, tag) in wsj)\n",
    "list(cfd2[\"VBN\"])"
   ]
  },
  {
   "cell_type": "markdown",
   "metadata": {},
   "source": [
    "### Step VI: Bigrams & Collocations"
   ]
  },
  {
   "cell_type": "code",
   "execution_count": null,
   "metadata": {
    "collapsed": true
   },
   "outputs": [],
   "source": [
    "#Extract a list of word pairs from a text.\n",
    "from nltk import bigrams\n",
    "list(bigrams([\"more\", \"is\", \"said\", \"than\", \"done\"]))\n",
    "\n",
    "#Collocations: bigrams that occur more often than we would expect based on the frequency of the individual words.\n",
    "bts.collocations()\n",
    "\n",
    "#Distribution of word lengths in a text.\n",
    "word_lengths = [len(word) for word in bts]\n",
    "fdist1wordlength = FreqDist(word_lengths)\n",
    "print(fdist1wordlength)\n",
    "\n",
    "#Most common word lengths.\n",
    "fdist1wordlength.most_common()\n",
    "\n",
    "#Most frequent word length.\n",
    "fdist1wordlength.max()\n",
    "\n",
    "#How many words of length 3 appear in the text.\n",
    "fdist1wordlength[3]\n",
    "\n",
    "#What proportion of all word lengths are words of length 3?\n",
    "fdist1wordlength.freq(3)"
   ]
  },
  {
   "cell_type": "markdown",
   "metadata": {},
   "source": [
    "#### Open-Ended Exercises/Questions\n",
    "1. What are the most common 3-grams, 4-grams..?\n",
    "2. Compare most frequent words (and types of words) in each of the four video comment datasets."
   ]
  },
  {
   "cell_type": "code",
   "execution_count": null,
   "metadata": {
    "collapsed": true
   },
   "outputs": [],
   "source": []
  }
 ],
 "metadata": {
  "kernelspec": {
   "display_name": "Python [default]",
   "language": "python",
   "name": "python3"
  },
  "language_info": {
   "codemirror_mode": {
    "name": "ipython",
    "version": 3
   },
   "file_extension": ".py",
   "mimetype": "text/x-python",
   "name": "python",
   "nbconvert_exporter": "python",
   "pygments_lexer": "ipython3",
   "version": "3.5.3"
  }
 },
 "nbformat": 4,
 "nbformat_minor": 2
}
