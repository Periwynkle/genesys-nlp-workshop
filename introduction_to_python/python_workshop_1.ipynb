{
 "cells": [
  {
   "cell_type": "markdown",
   "metadata": {},
   "source": [
    "## Introduction to Python for Digital Text Analysis (Part I)"
   ]
  },
  {
   "cell_type": "markdown",
   "metadata": {},
   "source": [
    "This session will provide an overview of how Python can be used to descriptively summarise a dataset."
   ]
  },
  {
   "cell_type": "markdown",
   "metadata": {},
   "source": [
    "# First thing: running code"
   ]
  },
  {
   "cell_type": "code",
   "execution_count": 78,
   "metadata": {},
   "outputs": [
    {
     "name": "stdout",
     "output_type": "stream",
     "text": [
      "10\n"
     ]
    }
   ],
   "source": [
    "a = 10\n",
    "print(a)"
   ]
  },
  {
   "cell_type": "markdown",
   "metadata": {},
   "source": [
    "There are two other keyboard shortcuts for running code:\n",
    "\n",
    "Shift-Enter runs the current cell and inserts a new one below.\n",
    "Ctrl-Enter run the current cell and enters command mode."
   ]
  },
  {
   "cell_type": "markdown",
   "metadata": {},
   "source": [
    "### Strings"
   ]
  },
  {
   "cell_type": "code",
   "execution_count": 79,
   "metadata": {},
   "outputs": [
    {
     "name": "stdout",
     "output_type": "stream",
     "text": [
      "12\n"
     ]
    }
   ],
   "source": [
    "s = \"Hello world!\"\n",
    "print( len(s) )"
   ]
  },
  {
   "cell_type": "code",
   "execution_count": 80,
   "metadata": {},
   "outputs": [
    {
     "name": "stdout",
     "output_type": "stream",
     "text": [
      "Hello python!\n",
      "monty python!\n"
     ]
    }
   ],
   "source": [
    "s2 = s.replace(\"world\", \"python\")\n",
    "print(s2)\n",
    "\n",
    "s3 = s2.replace(\"Hello\",\"monty\")\n",
    "print(s3)"
   ]
  },
  {
   "cell_type": "code",
   "execution_count": 81,
   "metadata": {},
   "outputs": [
    {
     "data": {
      "text/plain": [
       "6"
      ]
     },
     "execution_count": 81,
     "metadata": {},
     "output_type": "execute_result"
    }
   ],
   "source": [
    "s.find('world')"
   ]
  },
  {
   "cell_type": "code",
   "execution_count": 82,
   "metadata": {},
   "outputs": [
    {
     "name": "stdout",
     "output_type": "stream",
     "text": [
      "Hello world! monty python!\n"
     ]
    }
   ],
   "source": [
    "# Concatenation\n",
    "\n",
    "s4 = s + ' '+ s3\n",
    "\n",
    "print(s4)"
   ]
  },
  {
   "cell_type": "code",
   "execution_count": 83,
   "metadata": {},
   "outputs": [
    {
     "data": {
      "text/plain": [
       "['The method split', 'returns a list', 'of all the words', 'in the string']"
      ]
     },
     "execution_count": 83,
     "metadata": {},
     "output_type": "execute_result"
    }
   ],
   "source": [
    "# Splitting\n",
    "\n",
    "s = \"The method split\\nreturns a list\\nof all the words\\nin the string\"\n",
    "\n",
    "s.split('\\n')"
   ]
  },
  {
   "cell_type": "code",
   "execution_count": 84,
   "metadata": {},
   "outputs": [
    {
     "data": {
      "text/plain": [
       "['The method split\\nreturns a list\\nof all the words\\nin the string']"
      ]
     },
     "execution_count": 84,
     "metadata": {},
     "output_type": "execute_result"
    }
   ],
   "source": [
    "s.split('-')"
   ]
  },
  {
   "cell_type": "markdown",
   "metadata": {},
   "source": [
    "### Lists\n",
    "\n",
    "A list is a container of objects. They do not need to be the same kind."
   ]
  },
  {
   "cell_type": "code",
   "execution_count": 85,
   "metadata": {},
   "outputs": [
    {
     "name": "stdout",
     "output_type": "stream",
     "text": [
      "6\n"
     ]
    }
   ],
   "source": [
    "values = [ '1', 2, 3.0, True, False, 'banana' ]\n",
    "print (len(values))"
   ]
  },
  {
   "cell_type": "code",
   "execution_count": 86,
   "metadata": {},
   "outputs": [
    {
     "name": "stdout",
     "output_type": "stream",
     "text": [
      "3.0\n",
      "['1', 2, 3.0]\n"
     ]
    }
   ],
   "source": [
    "# Slicing\n",
    "\n",
    "print (values[2])\n",
    "print (values[:3])"
   ]
  },
  {
   "cell_type": "code",
   "execution_count": 87,
   "metadata": {},
   "outputs": [
    {
     "name": "stdout",
     "output_type": "stream",
     "text": [
      "[8, 10, 11, 12]\n"
     ]
    }
   ],
   "source": [
    "# Append\n",
    "\n",
    "my_list = []\n",
    "\n",
    "my_list.append(8)\n",
    "my_list.append(10)\n",
    "my_list.append(11)\n",
    "my_list.append(12)\n",
    "\n",
    "print(my_list)"
   ]
  },
  {
   "cell_type": "code",
   "execution_count": 88,
   "metadata": {},
   "outputs": [
    {
     "name": "stdout",
     "output_type": "stream",
     "text": [
      "[8, 11, 12]\n",
      "[11, 12]\n"
     ]
    }
   ],
   "source": [
    "# Delete\n",
    "\n",
    "my_list.remove(10)\n",
    "print(my_list)\n",
    "\n",
    "del my_list[0]\n",
    "print(my_list)"
   ]
  },
  {
   "cell_type": "code",
   "execution_count": 89,
   "metadata": {},
   "outputs": [
    {
     "name": "stdout",
     "output_type": "stream",
     "text": [
      "range(0, 10, 2)\n",
      "range(-5, 5)\n"
     ]
    }
   ],
   "source": [
    "# Generating, using the function range(start,stop,step)\n",
    "\n",
    "range1 = range(0,10,2)\n",
    "range2 = range(-5,5)\n",
    "\n",
    "print(range1)\n",
    "print(range2)"
   ]
  },
  {
   "cell_type": "code",
   "execution_count": 90,
   "metadata": {},
   "outputs": [
    {
     "name": "stdout",
     "output_type": "stream",
     "text": [
      "[0, 2, 4, 6, 8]\n",
      "[-5, -4, -3, -2, -1, 0, 1, 2, 3, 4]\n",
      "[-5, -4, -3, -2, -1, 0, 1, 2, 3, 4] is a list\n"
     ]
    }
   ],
   "source": [
    "# Functions list() and str()\n",
    "\n",
    "print(list(range1))\n",
    "print(list(range2))\n",
    "\n",
    "print( str(list(range2)) + ' is a list' )\n"
   ]
  },
  {
   "cell_type": "markdown",
   "metadata": {},
   "source": [
    "### Dictionaries\n",
    "\n",
    "A flexible collection of {key: value} pairs.\n",
    "\n",
    "Also called associative arrays or hash maps in other languages."
   ]
  },
  {
   "cell_type": "code",
   "execution_count": 91,
   "metadata": {},
   "outputs": [
    {
     "data": {
      "text/plain": [
       "{2017: True, 'bananas': 'yellow', 'how_many_bananas': 5}"
      ]
     },
     "execution_count": 91,
     "metadata": {},
     "output_type": "execute_result"
    }
   ],
   "source": [
    "my_dict = {}\n",
    "\n",
    "my_dict['bananas'] = 'yellow'\n",
    "my_dict['how_many_bananas'] = 5\n",
    "my_dict[2017] = True\n",
    "\n",
    "my_dict"
   ]
  },
  {
   "cell_type": "markdown",
   "metadata": {},
   "source": [
    "# Control flow\n",
    "\n",
    "Note the indentation!\n",
    "\n",
    "In python we don't use brackets or semicolons to decide which parts of the code are inside which others; we use indentaiton."
   ]
  },
  {
   "cell_type": "code",
   "execution_count": 92,
   "metadata": {},
   "outputs": [
    {
     "name": "stdout",
     "output_type": "stream",
     "text": [
      "Walking\n"
     ]
    }
   ],
   "source": [
    "# If statements\n",
    "\n",
    "car = 10.00\n",
    "bus = 2.50\n",
    "cash = 1.50\n",
    "\n",
    "if car < cash:\n",
    "    print ('I can drive')\n",
    "    \n",
    "if bus < cash and car > cash:\n",
    "    print (\"I'll take the bus\")\n",
    "    \n",
    "if bus > cash:\n",
    "    print ('Walking')"
   ]
  },
  {
   "cell_type": "code",
   "execution_count": 93,
   "metadata": {},
   "outputs": [
    {
     "name": "stdout",
     "output_type": "stream",
     "text": [
      "stay home\n"
     ]
    }
   ],
   "source": [
    "cash = 0.90\n",
    "\n",
    "if car < cash:\n",
    "    print ('Enjoy your car ride')\n",
    "elif bus < cash:\n",
    "    print ('Another one rides the bus')\n",
    "elif cash < 1.00:\n",
    "    print ('stay home')\n",
    "else:\n",
    "    print ('Walking..')"
   ]
  },
  {
   "cell_type": "code",
   "execution_count": 94,
   "metadata": {},
   "outputs": [
    {
     "name": "stdout",
     "output_type": "stream",
     "text": [
      "0\n",
      "1\n",
      "2\n",
      "3\n",
      "4\n"
     ]
    }
   ],
   "source": [
    "# for loops\n",
    "for i in range(5):\n",
    "    print(i)"
   ]
  },
  {
   "cell_type": "code",
   "execution_count": 95,
   "metadata": {},
   "outputs": [
    {
     "name": "stdout",
     "output_type": "stream",
     "text": [
      "My name is Amelie\n",
      "My name is Tom\n",
      "My name is Niko\n",
      "My name is Ruben\n",
      "My name is Esma\n"
     ]
    }
   ],
   "source": [
    "names  = [ 'Amelie','Tom','Niko','Ruben','Esma' ]\n",
    "for name in names:\n",
    "    print (\"My name is \"+name)"
   ]
  },
  {
   "cell_type": "code",
   "execution_count": 126,
   "metadata": {},
   "outputs": [
    {
     "name": "stdout",
     "output_type": "stream",
     "text": [
      "Amelie was born in 1968\n",
      "Tom was born in 1984\n",
      "Niko was born in 1977\n",
      "Ruben was born in 1988\n",
      "Esma was born in 1973\n"
     ]
    }
   ],
   "source": [
    "# zip\n",
    "\n",
    "names  = [ 'Amelie','Tom','Niko','Ruben','Esma' ]\n",
    "births = [ 1968, 1984, 1977, 1988, 1973 ]\n",
    " \n",
    "for i, j in zip(names, births):\n",
    "    print(i, \"was born in\", j)"
   ]
  },
  {
   "cell_type": "markdown",
   "metadata": {},
   "source": [
    "# Data analysis\n",
    "\n",
    "We'll use the **pandas** library for data analysis."
   ]
  },
  {
   "cell_type": "code",
   "execution_count": 97,
   "metadata": {},
   "outputs": [],
   "source": [
    "import pandas as pd"
   ]
  },
  {
   "cell_type": "markdown",
   "metadata": {},
   "source": [
    "First, we'll transform _births_ and _names_ into a dictionary."
   ]
  },
  {
   "cell_type": "code",
   "execution_count": 133,
   "metadata": {},
   "outputs": [
    {
     "data": {
      "text/plain": [
       "{'Births': [1968, 1984, 1977, 1988, 1973],\n",
       " 'Names': ['Amelie', 'Tom', 'Niko', 'Ruben', 'Esma']}"
      ]
     },
     "execution_count": 133,
     "metadata": {},
     "output_type": "execute_result"
    }
   ],
   "source": [
    "dict_data = { 'Names':names, 'Births':births }\n",
    "\n",
    "dict_data"
   ]
  },
  {
   "cell_type": "markdown",
   "metadata": {},
   "source": [
    "**df** will be a **DataFrame** object. You can think of this object as a spreadsheet."
   ]
  },
  {
   "cell_type": "code",
   "execution_count": 134,
   "metadata": {},
   "outputs": [
    {
     "data": {
      "text/html": [
       "<div>\n",
       "<style>\n",
       "    .dataframe thead tr:only-child th {\n",
       "        text-align: right;\n",
       "    }\n",
       "\n",
       "    .dataframe thead th {\n",
       "        text-align: left;\n",
       "    }\n",
       "\n",
       "    .dataframe tbody tr th {\n",
       "        vertical-align: top;\n",
       "    }\n",
       "</style>\n",
       "<table border=\"1\" class=\"dataframe\">\n",
       "  <thead>\n",
       "    <tr style=\"text-align: right;\">\n",
       "      <th></th>\n",
       "      <th>Births</th>\n",
       "      <th>Names</th>\n",
       "    </tr>\n",
       "  </thead>\n",
       "  <tbody>\n",
       "    <tr>\n",
       "      <th>0</th>\n",
       "      <td>1968</td>\n",
       "      <td>Amelie</td>\n",
       "    </tr>\n",
       "    <tr>\n",
       "      <th>1</th>\n",
       "      <td>1984</td>\n",
       "      <td>Tom</td>\n",
       "    </tr>\n",
       "    <tr>\n",
       "      <th>2</th>\n",
       "      <td>1977</td>\n",
       "      <td>Niko</td>\n",
       "    </tr>\n",
       "    <tr>\n",
       "      <th>3</th>\n",
       "      <td>1988</td>\n",
       "      <td>Ruben</td>\n",
       "    </tr>\n",
       "    <tr>\n",
       "      <th>4</th>\n",
       "      <td>1973</td>\n",
       "      <td>Esma</td>\n",
       "    </tr>\n",
       "  </tbody>\n",
       "</table>\n",
       "</div>"
      ],
      "text/plain": [
       "   Births   Names\n",
       "0    1968  Amelie\n",
       "1    1984     Tom\n",
       "2    1977    Niko\n",
       "3    1988   Ruben\n",
       "4    1973    Esma"
      ]
     },
     "execution_count": 134,
     "metadata": {},
     "output_type": "execute_result"
    }
   ],
   "source": [
    "df = pd.DataFrame(dict_data)\n",
    "df"
   ]
  },
  {
   "cell_type": "markdown",
   "metadata": {},
   "source": [
    "### Exporting\n",
    "\n",
    "The only parameters we will use is ***index*** and ***header***. Setting these parameters to False will prevent the index and header names from being exported. Change the values of these parameters to get a better understanding of their use."
   ]
  },
  {
   "cell_type": "code",
   "execution_count": 108,
   "metadata": {},
   "outputs": [],
   "source": [
    "df.to_csv('births.csv',index=False,header=True)"
   ]
  },
  {
   "cell_type": "code",
   "execution_count": 109,
   "metadata": {},
   "outputs": [
    {
     "data": {
      "text/html": [
       "<div>\n",
       "<style>\n",
       "    .dataframe thead tr:only-child th {\n",
       "        text-align: right;\n",
       "    }\n",
       "\n",
       "    .dataframe thead th {\n",
       "        text-align: left;\n",
       "    }\n",
       "\n",
       "    .dataframe tbody tr th {\n",
       "        vertical-align: top;\n",
       "    }\n",
       "</style>\n",
       "<table border=\"1\" class=\"dataframe\">\n",
       "  <thead>\n",
       "    <tr style=\"text-align: right;\">\n",
       "      <th></th>\n",
       "      <th>Births</th>\n",
       "      <th>Names</th>\n",
       "    </tr>\n",
       "  </thead>\n",
       "  <tbody>\n",
       "    <tr>\n",
       "      <th>0</th>\n",
       "      <td>1968</td>\n",
       "      <td>Amelie</td>\n",
       "    </tr>\n",
       "    <tr>\n",
       "      <th>1</th>\n",
       "      <td>1985</td>\n",
       "      <td>Tom</td>\n",
       "    </tr>\n",
       "    <tr>\n",
       "      <th>2</th>\n",
       "      <td>1977</td>\n",
       "      <td>Niko</td>\n",
       "    </tr>\n",
       "    <tr>\n",
       "      <th>3</th>\n",
       "      <td>1988</td>\n",
       "      <td>Ruben</td>\n",
       "    </tr>\n",
       "    <tr>\n",
       "      <th>4</th>\n",
       "      <td>1973</td>\n",
       "      <td>Esma</td>\n",
       "    </tr>\n",
       "  </tbody>\n",
       "</table>\n",
       "</div>"
      ],
      "text/plain": [
       "   Births   Names\n",
       "0    1968  Amelie\n",
       "1    1985     Tom\n",
       "2    1977    Niko\n",
       "3    1988   Ruben\n",
       "4    1973    Esma"
      ]
     },
     "execution_count": 109,
     "metadata": {},
     "output_type": "execute_result"
    }
   ],
   "source": [
    "infile = 'births.csv'\n",
    "df = pd.read_csv(infile)\n",
    "df"
   ]
  },
  {
   "cell_type": "code",
   "execution_count": 136,
   "metadata": {},
   "outputs": [
    {
     "data": {
      "text/html": [
       "<div>\n",
       "<style>\n",
       "    .dataframe thead tr:only-child th {\n",
       "        text-align: right;\n",
       "    }\n",
       "\n",
       "    .dataframe thead th {\n",
       "        text-align: left;\n",
       "    }\n",
       "\n",
       "    .dataframe tbody tr th {\n",
       "        vertical-align: top;\n",
       "    }\n",
       "</style>\n",
       "<table border=\"1\" class=\"dataframe\">\n",
       "  <thead>\n",
       "    <tr style=\"text-align: right;\">\n",
       "      <th></th>\n",
       "      <th>Births</th>\n",
       "      <th>Names</th>\n",
       "      <th>age_in_2017</th>\n",
       "      <th>Countries</th>\n",
       "    </tr>\n",
       "  </thead>\n",
       "  <tbody>\n",
       "    <tr>\n",
       "      <th>0</th>\n",
       "      <td>1968</td>\n",
       "      <td>Amelie</td>\n",
       "      <td>49</td>\n",
       "      <td>Belgium</td>\n",
       "    </tr>\n",
       "    <tr>\n",
       "      <th>1</th>\n",
       "      <td>1984</td>\n",
       "      <td>Tom</td>\n",
       "      <td>33</td>\n",
       "      <td>England</td>\n",
       "    </tr>\n",
       "    <tr>\n",
       "      <th>2</th>\n",
       "      <td>1977</td>\n",
       "      <td>Niko</td>\n",
       "      <td>40</td>\n",
       "      <td>Croatia</td>\n",
       "    </tr>\n",
       "    <tr>\n",
       "      <th>3</th>\n",
       "      <td>1988</td>\n",
       "      <td>Ruben</td>\n",
       "      <td>29</td>\n",
       "      <td>Cuba</td>\n",
       "    </tr>\n",
       "    <tr>\n",
       "      <th>4</th>\n",
       "      <td>1973</td>\n",
       "      <td>Esma</td>\n",
       "      <td>44</td>\n",
       "      <td>Turkey</td>\n",
       "    </tr>\n",
       "  </tbody>\n",
       "</table>\n",
       "</div>"
      ],
      "text/plain": [
       "   Births   Names  age_in_2017 Countries\n",
       "0    1968  Amelie           49   Belgium\n",
       "1    1984     Tom           33   England\n",
       "2    1977    Niko           40   Croatia\n",
       "3    1988   Ruben           29      Cuba\n",
       "4    1973    Esma           44    Turkey"
      ]
     },
     "execution_count": 136,
     "metadata": {},
     "output_type": "execute_result"
    }
   ],
   "source": [
    "countries = ['Belgium','England','Croatia','Cuba','Turkey']\n",
    "df['Countries'] = countries\n",
    "\n",
    "df"
   ]
  },
  {
   "cell_type": "code",
   "execution_count": 135,
   "metadata": {},
   "outputs": [
    {
     "name": "stdout",
     "output_type": "stream",
     "text": [
      "   Births   Names  age_in_2017\n",
      "0    1968  Amelie           49\n",
      "1    1984     Tom           33\n",
      "2    1977    Niko           40\n",
      "3    1988   Ruben           29\n",
      "4    1973    Esma           44\n"
     ]
    }
   ],
   "source": [
    "df['age_in_2017'] = 2017 - df['Births']\n",
    "print (df)"
   ]
  },
  {
   "cell_type": "code",
   "execution_count": 123,
   "metadata": {},
   "outputs": [
    {
     "name": "stdout",
     "output_type": "stream",
     "text": [
      "0    Belgium\n",
      "1    England\n",
      "2    Croatia\n",
      "3       Cuba\n",
      "4     Turkey\n",
      "Name: Countries, dtype: object\n"
     ]
    }
   ],
   "source": [
    "# Print one specific column\n",
    "print (df['Countries'])"
   ]
  },
  {
   "cell_type": "code",
   "execution_count": 140,
   "metadata": {},
   "outputs": [
    {
     "name": "stdout",
     "output_type": "stream",
     "text": [
      "0    Belgium\n",
      "1    England\n",
      "2    Croatia\n",
      "3       Cuba\n",
      "4     Turkey\n",
      "Name: Countries, dtype: object\n"
     ]
    }
   ],
   "source": [
    "print (df.Countries)"
   ]
  },
  {
   "cell_type": "code",
   "execution_count": 137,
   "metadata": {},
   "outputs": [
    {
     "data": {
      "text/html": [
       "<div>\n",
       "<style>\n",
       "    .dataframe thead tr:only-child th {\n",
       "        text-align: right;\n",
       "    }\n",
       "\n",
       "    .dataframe thead th {\n",
       "        text-align: left;\n",
       "    }\n",
       "\n",
       "    .dataframe tbody tr th {\n",
       "        vertical-align: top;\n",
       "    }\n",
       "</style>\n",
       "<table border=\"1\" class=\"dataframe\">\n",
       "  <thead>\n",
       "    <tr style=\"text-align: right;\">\n",
       "      <th></th>\n",
       "      <th>Births</th>\n",
       "      <th>Names</th>\n",
       "      <th>age_in_2017</th>\n",
       "      <th>Countries</th>\n",
       "    </tr>\n",
       "  </thead>\n",
       "  <tbody>\n",
       "    <tr>\n",
       "      <th>0</th>\n",
       "      <td>1968</td>\n",
       "      <td>Amelie</td>\n",
       "      <td>49</td>\n",
       "      <td>Belgium</td>\n",
       "    </tr>\n",
       "    <tr>\n",
       "      <th>1</th>\n",
       "      <td>1984</td>\n",
       "      <td>Tom</td>\n",
       "      <td>33</td>\n",
       "      <td>England</td>\n",
       "    </tr>\n",
       "    <tr>\n",
       "      <th>2</th>\n",
       "      <td>1977</td>\n",
       "      <td>Niko</td>\n",
       "      <td>40</td>\n",
       "      <td>Croatia</td>\n",
       "    </tr>\n",
       "    <tr>\n",
       "      <th>4</th>\n",
       "      <td>1973</td>\n",
       "      <td>Esma</td>\n",
       "      <td>44</td>\n",
       "      <td>Turkey</td>\n",
       "    </tr>\n",
       "  </tbody>\n",
       "</table>\n",
       "</div>"
      ],
      "text/plain": [
       "   Births   Names  age_in_2017 Countries\n",
       "0    1968  Amelie           49   Belgium\n",
       "1    1984     Tom           33   England\n",
       "2    1977    Niko           40   Croatia\n",
       "4    1973    Esma           44    Turkey"
      ]
     },
     "execution_count": 137,
     "metadata": {},
     "output_type": "execute_result"
    }
   ],
   "source": [
    "# Select part of the dataframe\n",
    "\n",
    "df[ df['Births'] < 1985 ]"
   ]
  },
  {
   "cell_type": "code",
   "execution_count": 138,
   "metadata": {},
   "outputs": [
    {
     "data": {
      "text/html": [
       "<div>\n",
       "<style>\n",
       "    .dataframe thead tr:only-child th {\n",
       "        text-align: right;\n",
       "    }\n",
       "\n",
       "    .dataframe thead th {\n",
       "        text-align: left;\n",
       "    }\n",
       "\n",
       "    .dataframe tbody tr th {\n",
       "        vertical-align: top;\n",
       "    }\n",
       "</style>\n",
       "<table border=\"1\" class=\"dataframe\">\n",
       "  <thead>\n",
       "    <tr style=\"text-align: right;\">\n",
       "      <th></th>\n",
       "      <th>Births</th>\n",
       "      <th>Names</th>\n",
       "      <th>age_in_2017</th>\n",
       "      <th>Countries</th>\n",
       "    </tr>\n",
       "  </thead>\n",
       "  <tbody>\n",
       "    <tr>\n",
       "      <th>0</th>\n",
       "      <td>1968</td>\n",
       "      <td>Amelie</td>\n",
       "      <td>49</td>\n",
       "      <td>Belgium</td>\n",
       "    </tr>\n",
       "    <tr>\n",
       "      <th>2</th>\n",
       "      <td>1977</td>\n",
       "      <td>Niko</td>\n",
       "      <td>40</td>\n",
       "      <td>Croatia</td>\n",
       "    </tr>\n",
       "    <tr>\n",
       "      <th>4</th>\n",
       "      <td>1973</td>\n",
       "      <td>Esma</td>\n",
       "      <td>44</td>\n",
       "      <td>Turkey</td>\n",
       "    </tr>\n",
       "  </tbody>\n",
       "</table>\n",
       "</div>"
      ],
      "text/plain": [
       "   Births   Names  age_in_2017 Countries\n",
       "0    1968  Amelie           49   Belgium\n",
       "2    1977    Niko           40   Croatia\n",
       "4    1973    Esma           44    Turkey"
      ]
     },
     "execution_count": 138,
     "metadata": {},
     "output_type": "execute_result"
    }
   ],
   "source": [
    "df[ (df['Births'] < 1980) & ( len(df['Names']) > 3 ) ]"
   ]
  },
  {
   "cell_type": "code",
   "execution_count": 152,
   "metadata": {},
   "outputs": [
    {
     "name": "stdout",
     "output_type": "stream",
     "text": [
      "   Births   Names  age_in_2017 Countries\n",
      "0    1968  Amelie           49   Belgium\n",
      "1    1984     Tom           33   England\n",
      "2    1977    Niko           40   Croatia\n",
      "3    1988   Ruben           29      Cuba\n",
      "4    1973    Esma           44    Turkey\n",
      " \n",
      "   Births   Names  age_in_2017 Countries\n",
      "0    1968  Amelie           49   Belgium\n",
      "2    1977    Niko           40   Croatia\n",
      "4    1973    Esma           44    Turkey\n"
     ]
    }
   ],
   "source": [
    "# Copying \n",
    "\n",
    "df_new = df.copy()\n",
    "df_new = df[ (df['Births'] < 1980) & ( len(df['Names']) > 3 ) ]\n",
    "\n",
    "print (df)\n",
    "print (\" \")\n",
    "print (df_new)"
   ]
  },
  {
   "cell_type": "code",
   "execution_count": 150,
   "metadata": {},
   "outputs": [
    {
     "name": "stdout",
     "output_type": "stream",
     "text": [
      "0    Amelie\n",
      "1       Tom\n",
      "2      Niko\n",
      "3     Ruben\n",
      "4      Esma\n",
      "Name: Names, dtype: object\n",
      " \n",
      "0    Amelie\n",
      "1       Tom\n",
      "2      Niko\n",
      "3     Ruben\n",
      "4      Esma\n",
      "Name: Names, dtype: object\n",
      " \n",
      "['Amelie' 'Tom' 'Niko' 'Ruben' 'Esma']\n"
     ]
    }
   ],
   "source": [
    "# Synonyms\n",
    "\n",
    "print( df['Names'] )\n",
    "print (\" \")\n",
    "print( df.Names )\n",
    "print (\" \")\n",
    "print( df.Names.values )"
   ]
  },
  {
   "cell_type": "code",
   "execution_count": 148,
   "metadata": {},
   "outputs": [
    {
     "name": "stdout",
     "output_type": "stream",
     "text": [
      "Births           1973\n",
      "Names            Esma\n",
      "age_in_2017        44\n",
      "Countries      Turkey\n",
      "Name: 4, dtype: object\n",
      " \n",
      "Esma\n"
     ]
    }
   ],
   "source": [
    "# Print one specific line\n",
    "\n",
    "print (df.loc[4])\n",
    "print (\" \")\n",
    "print (df.loc[4].Names)"
   ]
  },
  {
   "cell_type": "markdown",
   "metadata": {},
   "source": [
    "# Data visualisation"
   ]
  },
  {
   "cell_type": "code",
   "execution_count": null,
   "metadata": {},
   "outputs": [],
   "source": [
    "import seaborn as sns\n",
    "import matplotlib.pyplot as plt\n",
    "\n",
    "#%matplotlib inline"
   ]
  },
  {
   "cell_type": "code",
   "execution_count": null,
   "metadata": {},
   "outputs": [],
   "source": []
  },
  {
   "cell_type": "code",
   "execution_count": null,
   "metadata": {},
   "outputs": [],
   "source": []
  },
  {
   "cell_type": "code",
   "execution_count": null,
   "metadata": {},
   "outputs": [],
   "source": []
  },
  {
   "cell_type": "code",
   "execution_count": 1,
   "metadata": {},
   "outputs": [],
   "source": []
  },
  {
   "cell_type": "code",
   "execution_count": 5,
   "metadata": {},
   "outputs": [],
   "source": [
    "# Metadata about all videos.\n",
    "df_videos = pd.read_excel(\"../data/videos.xlsx\", sheetname=0) \n",
    "\n",
    "# Sample of comments about the BTS video 'Save Me'.\n",
    "df_bts_sample = pd.read_excel(\"../data/videos.xlsx\", sheetname=1)\n",
    "\n",
    "# Comments about Twice videos.\n",
    "df_twice = pd.read_excel(\"../data/videos.xlsx\", sheetname=2)\n",
    "\n",
    "# Blackpink comment counts.\n",
    "df_blackpink_counts = pd.read_csv(\"../data/kpop_comment_counts/blackpink_comment_counts.txt\", sep=\"\\t\")\n",
    "\n",
    "# BTS comment counts.\n",
    "df_bts_counts = pd.read_csv(\"../data/kpop_comment_counts/bts_comment_counts.txt\", sep=\"\\t\")\n",
    "\n",
    "# EXO comment counts.\n",
    "df_exo_counts = pd.read_csv(\"../data/kpop_comment_counts/exo_comment_counts.txt\", sep=\"\\t\")\n",
    "\n",
    "# Twice comment counts.\n",
    "df_twice_counts = pd.read_csv(\"../data/kpop_comment_counts/twice_comment_counts.txt\", sep=\"\\t\")"
   ]
  },
  {
   "cell_type": "markdown",
   "metadata": {},
   "source": [
    "Next sections should use the data in the above dataframes to provide a basic description of dataset - how many comments, how many unique users, what time are the comments, number of comments over time (can group by week or month and compute means), etc. Include basic visualisations here (plots, graphs, charts) with matplotlib/seaborn. \n",
    "\n",
    "*The specific columns in the video comment tabs (df_bts_sample and df_twice) that we should look at are CommentPublished (needs to be parsed), CommentTextDisplay, CommentAuthorName, and CommentLikeCount. We can look in more detail at the comments with the most likes.\n",
    "\n",
    "*Can use the value_counts method to compute number of posts / user for the BTS and Twice samples and visualise as a bar chart (CommentAuthorName column)."
   ]
  },
  {
   "cell_type": "code",
   "execution_count": null,
   "metadata": {
    "collapsed": true
   },
   "outputs": [],
   "source": []
  }
 ],
 "metadata": {
  "anaconda-cloud": {},
  "kernelspec": {
   "display_name": "Python 3",
   "language": "python",
   "name": "python3"
  },
  "language_info": {
   "codemirror_mode": {
    "name": "ipython",
    "version": 3
   },
   "file_extension": ".py",
   "mimetype": "text/x-python",
   "name": "python",
   "nbconvert_exporter": "python",
   "pygments_lexer": "ipython3",
   "version": "3.4.3"
  }
 },
 "nbformat": 4,
 "nbformat_minor": 1
}
