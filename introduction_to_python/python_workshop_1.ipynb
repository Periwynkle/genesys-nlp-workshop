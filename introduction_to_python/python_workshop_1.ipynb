{
 "cells": [
  {
   "cell_type": "markdown",
   "metadata": {},
   "source": [
    "# Introduction to Python for Digital Text Analysis (Part I)"
   ]
  },
  {
   "cell_type": "markdown",
   "metadata": {},
   "source": [
    "This session will provide an overview of how Python can be used to descriptively summarise a dataset.\n",
    "\n",
    "We expect you to have basic knowledge of Python, bue if you don't, here's the link:\n",
    "https://github.com/fbkarsdorp/python-intro/blob/master/notebook.ipynb"
   ]
  },
  {
   "cell_type": "markdown",
   "metadata": {},
   "source": [
    "## Refreshing your python memory"
   ]
  },
  {
   "cell_type": "code",
   "execution_count": 156,
   "metadata": {},
   "outputs": [
    {
     "name": "stdout",
     "output_type": "stream",
     "text": [
      "Hello python!\n",
      "monty python!\n",
      "Hello world! monty python!\n",
      "['Hello', 'world!', 'monty', 'python!']\n"
     ]
    }
   ],
   "source": [
    "# Strings\n",
    "\n",
    "s = \"Hello world!\"\n",
    "\n",
    "s2 = s.replace(\"world\", \"python\")\n",
    "print(s2)\n",
    "\n",
    "s3 = s2.replace(\"Hello\",\"monty\")\n",
    "print(s3)\n",
    "\n",
    "s4 = s + ' '+ s3\n",
    "print(s4)\n",
    "\n",
    "splitstring = s4.split()\n",
    "print (splitstring)"
   ]
  },
  {
   "cell_type": "code",
   "execution_count": 163,
   "metadata": {},
   "outputs": [
    {
     "name": "stdout",
     "output_type": "stream",
     "text": [
      "[10, 20, 30, 0, 1, 2, 3]\n",
      "[10, 20]\n",
      "[1, 2, 3]\n",
      "[10, 20, 1, 2, 3]\n"
     ]
    }
   ],
   "source": [
    "# Lists\n",
    "\n",
    "my_list = []\n",
    "\n",
    "my_list.append(10)\n",
    "my_list.append(20)\n",
    "\n",
    "my_list = my_list + [ 30 ]\n",
    "\n",
    "my_list += range(4)\n",
    "\n",
    "print( my_list )\n",
    "print( my_list[:2] )\n",
    "print( my_list[4:] )\n",
    "print( my_list[:2]+my_list[4:] )"
   ]
  },
  {
   "cell_type": "code",
   "execution_count": 167,
   "metadata": {},
   "outputs": [
    {
     "data": {
      "text/plain": [
       "{'event': 'workshop', 'host': 'EASt', 'location': 'Brussels'}"
      ]
     },
     "execution_count": 167,
     "metadata": {},
     "output_type": "execute_result"
    }
   ],
   "source": [
    "# Dictionaries\n",
    "\n",
    "my_dict = {}\n",
    "\n",
    "my_dict['location'] = 'Brussels'\n",
    "my_dict['host'] = 'EASt'\n",
    "my_dict['event'] = 'workshop'\n",
    "\n",
    "my_dict"
   ]
  },
  {
   "cell_type": "code",
   "execution_count": 94,
   "metadata": {},
   "outputs": [
    {
     "name": "stdout",
     "output_type": "stream",
     "text": [
      "0\n",
      "1\n",
      "2\n",
      "3\n",
      "4\n"
     ]
    }
   ],
   "source": [
    "# for loops\n",
    "for i in range(5):\n",
    "    print(i)"
   ]
  },
  {
   "cell_type": "code",
   "execution_count": 95,
   "metadata": {},
   "outputs": [
    {
     "name": "stdout",
     "output_type": "stream",
     "text": [
      "My name is Amelie\n",
      "My name is Tom\n",
      "My name is Niko\n",
      "My name is Ruben\n",
      "My name is Esma\n"
     ]
    }
   ],
   "source": [
    "names  = [ 'Amelie','Tom','Niko','Ruben','Esma' ]\n",
    "\n",
    "for name in names:\n",
    "    print (\"My name is \"+name)"
   ]
  },
  {
   "cell_type": "code",
   "execution_count": 126,
   "metadata": {},
   "outputs": [
    {
     "name": "stdout",
     "output_type": "stream",
     "text": [
      "Amelie was born in 1968\n",
      "Tom was born in 1984\n",
      "Niko was born in 1977\n",
      "Ruben was born in 1988\n",
      "Esma was born in 1973\n"
     ]
    }
   ],
   "source": [
    "# zip\n",
    "\n",
    "names  = [ 'Amelie','Tom','Niko','Ruben','Esma' ]\n",
    "births = [ 1968, 1984, 1977, 1988, 1973 ]\n",
    " \n",
    "for i, j in zip(names, births):\n",
    "    print(i, \"was born in\", j)"
   ]
  },
  {
   "cell_type": "markdown",
   "metadata": {},
   "source": [
    "# Data analysis with *pandas*"
   ]
  },
  {
   "cell_type": "code",
   "execution_count": 169,
   "metadata": {},
   "outputs": [],
   "source": [
    "import pandas as pd"
   ]
  },
  {
   "cell_type": "markdown",
   "metadata": {},
   "source": [
    "**comments** will be a **DataFrame** object. You can think of this object as a spreadsheet."
   ]
  },
  {
   "cell_type": "code",
   "execution_count": 177,
   "metadata": {},
   "outputs": [],
   "source": [
    "# Sample of comments about the BTS video 'Save Me'.\n",
    "comments = pd.read_excel(\"videos.xlsx\", sheetname=1)"
   ]
  },
  {
   "cell_type": "code",
   "execution_count": 178,
   "metadata": {},
   "outputs": [
    {
     "data": {
      "text/html": [
       "<div>\n",
       "<style>\n",
       "    .dataframe thead tr:only-child th {\n",
       "        text-align: right;\n",
       "    }\n",
       "\n",
       "    .dataframe thead th {\n",
       "        text-align: left;\n",
       "    }\n",
       "\n",
       "    .dataframe tbody tr th {\n",
       "        vertical-align: top;\n",
       "    }\n",
       "</style>\n",
       "<table border=\"1\" class=\"dataframe\">\n",
       "  <thead>\n",
       "    <tr style=\"text-align: right;\">\n",
       "      <th></th>\n",
       "      <th>Search</th>\n",
       "      <th>Title</th>\n",
       "      <th>VideoID</th>\n",
       "      <th>CommentID</th>\n",
       "      <th>CommentPublished</th>\n",
       "      <th>CommentUpdated</th>\n",
       "      <th>CommentTextDisplay</th>\n",
       "      <th>CommentAuthorName</th>\n",
       "      <th>CommentAuthorURI</th>\n",
       "      <th>CommentCanReply</th>\n",
       "      <th>CommentTotalReplyCount</th>\n",
       "      <th>CommentisPublic</th>\n",
       "      <th>CommentLikeCount</th>\n",
       "      <th>CommentVewerRating</th>\n",
       "      <th>IsReply</th>\n",
       "      <th>CommentPosterInfo</th>\n",
       "    </tr>\n",
       "  </thead>\n",
       "  <tbody>\n",
       "    <tr>\n",
       "      <th>0</th>\n",
       "      <td>https://www.youtube.com/channel/UC3IZKseVpdzPS...</td>\n",
       "      <td>BTS (방탄소년단) 'Save ME' Official MV</td>\n",
       "      <td>GZjt_sA2eso</td>\n",
       "      <td>z234uhc5gljycromkacdp432q0vjces4wq3zuewbnfhw03...</td>\n",
       "      <td>2017-08-01T18:26:30.000Z</td>\n",
       "      <td>2017-08-01T18:26:30.000Z</td>\n",
       "      <td>V looks so awesome ! hope they come some day t...</td>\n",
       "      <td>xSeriouslyable</td>\n",
       "      <td>http://www.youtube.com/channel/UCVg43Gk6iCw0iq...</td>\n",
       "      <td>false</td>\n",
       "      <td>0.0</td>\n",
       "      <td>1.0</td>\n",
       "      <td>1</td>\n",
       "      <td>none</td>\n",
       "      <td>0</td>\n",
       "      <td>NaN</td>\n",
       "    </tr>\n",
       "    <tr>\n",
       "      <th>1</th>\n",
       "      <td>https://www.youtube.com/channel/UC3IZKseVpdzPS...</td>\n",
       "      <td>BTS (방탄소년단) 'Save ME' Official MV</td>\n",
       "      <td>GZjt_sA2eso</td>\n",
       "      <td>z121jpbosx3ds5quw23fg5jxoqfnhbdjq04</td>\n",
       "      <td>2017-08-01T18:24:35.000Z</td>\n",
       "      <td>2017-08-01T18:24:35.000Z</td>\n",
       "      <td>esteroreroshepo atianitiro  +</td>\n",
       "      <td>strike virtual</td>\n",
       "      <td>http://www.youtube.com/channel/UCOavwxVoZXnW0L...</td>\n",
       "      <td>false</td>\n",
       "      <td>0.0</td>\n",
       "      <td>1.0</td>\n",
       "      <td>0</td>\n",
       "      <td>none</td>\n",
       "      <td>0</td>\n",
       "      <td>NaN</td>\n",
       "    </tr>\n",
       "    <tr>\n",
       "      <th>2</th>\n",
       "      <td>https://www.youtube.com/channel/UC3IZKseVpdzPS...</td>\n",
       "      <td>BTS (방탄소년단) 'Save ME' Official MV</td>\n",
       "      <td>GZjt_sA2eso</td>\n",
       "      <td>z12zyhtrbpmqjbamb234wzboknfpzfttw</td>\n",
       "      <td>2017-08-01T18:17:07.000Z</td>\n",
       "      <td>2017-08-01T18:17:07.000Z</td>\n",
       "      <td>Yeah  jimin♥♥♥♥</td>\n",
       "      <td>yuot yuot</td>\n",
       "      <td>http://www.youtube.com/channel/UCYMpAZqqP1fX8p...</td>\n",
       "      <td>false</td>\n",
       "      <td>0.0</td>\n",
       "      <td>1.0</td>\n",
       "      <td>0</td>\n",
       "      <td>none</td>\n",
       "      <td>0</td>\n",
       "      <td>NaN</td>\n",
       "    </tr>\n",
       "    <tr>\n",
       "      <th>3</th>\n",
       "      <td>https://www.youtube.com/channel/UC3IZKseVpdzPS...</td>\n",
       "      <td>BTS (방탄소년단) 'Save ME' Official MV</td>\n",
       "      <td>GZjt_sA2eso</td>\n",
       "      <td>z12aefop2vajiz0xz04cen3gruqffxlwpzk0k</td>\n",
       "      <td>2017-08-01T17:59:55.000Z</td>\n",
       "      <td>2017-08-01T17:59:55.000Z</td>\n",
       "      <td>love</td>\n",
       "      <td>sakar qadr</td>\n",
       "      <td>http://www.youtube.com/channel/UCYXxHDHz7g1owk...</td>\n",
       "      <td>false</td>\n",
       "      <td>0.0</td>\n",
       "      <td>1.0</td>\n",
       "      <td>0</td>\n",
       "      <td>none</td>\n",
       "      <td>0</td>\n",
       "      <td>NaN</td>\n",
       "    </tr>\n",
       "    <tr>\n",
       "      <th>4</th>\n",
       "      <td>https://www.youtube.com/channel/UC3IZKseVpdzPS...</td>\n",
       "      <td>BTS (방탄소년단) 'Save ME' Official MV</td>\n",
       "      <td>GZjt_sA2eso</td>\n",
       "      <td>z13lilvxpo3reffpo04cgtizfpqaj5co1wc0k</td>\n",
       "      <td>2017-08-01T17:50:49.000Z</td>\n",
       "      <td>2017-08-01T17:50:49.000Z</td>\n",
       "      <td>Please come to Greece Thessaloniki!!!</td>\n",
       "      <td>brina paulidou</td>\n",
       "      <td>http://www.youtube.com/channel/UCwDSreKzLMK8NK...</td>\n",
       "      <td>false</td>\n",
       "      <td>0.0</td>\n",
       "      <td>1.0</td>\n",
       "      <td>1</td>\n",
       "      <td>none</td>\n",
       "      <td>0</td>\n",
       "      <td>NaN</td>\n",
       "    </tr>\n",
       "  </tbody>\n",
       "</table>\n",
       "</div>"
      ],
      "text/plain": [
       "                                              Search  \\\n",
       "0  https://www.youtube.com/channel/UC3IZKseVpdzPS...   \n",
       "1  https://www.youtube.com/channel/UC3IZKseVpdzPS...   \n",
       "2  https://www.youtube.com/channel/UC3IZKseVpdzPS...   \n",
       "3  https://www.youtube.com/channel/UC3IZKseVpdzPS...   \n",
       "4  https://www.youtube.com/channel/UC3IZKseVpdzPS...   \n",
       "\n",
       "                               Title      VideoID  \\\n",
       "0  BTS (방탄소년단) 'Save ME' Official MV  GZjt_sA2eso   \n",
       "1  BTS (방탄소년단) 'Save ME' Official MV  GZjt_sA2eso   \n",
       "2  BTS (방탄소년단) 'Save ME' Official MV  GZjt_sA2eso   \n",
       "3  BTS (방탄소년단) 'Save ME' Official MV  GZjt_sA2eso   \n",
       "4  BTS (방탄소년단) 'Save ME' Official MV  GZjt_sA2eso   \n",
       "\n",
       "                                           CommentID  \\\n",
       "0  z234uhc5gljycromkacdp432q0vjces4wq3zuewbnfhw03...   \n",
       "1                z121jpbosx3ds5quw23fg5jxoqfnhbdjq04   \n",
       "2                  z12zyhtrbpmqjbamb234wzboknfpzfttw   \n",
       "3              z12aefop2vajiz0xz04cen3gruqffxlwpzk0k   \n",
       "4              z13lilvxpo3reffpo04cgtizfpqaj5co1wc0k   \n",
       "\n",
       "           CommentPublished            CommentUpdated  \\\n",
       "0  2017-08-01T18:26:30.000Z  2017-08-01T18:26:30.000Z   \n",
       "1  2017-08-01T18:24:35.000Z  2017-08-01T18:24:35.000Z   \n",
       "2  2017-08-01T18:17:07.000Z  2017-08-01T18:17:07.000Z   \n",
       "3  2017-08-01T17:59:55.000Z  2017-08-01T17:59:55.000Z   \n",
       "4  2017-08-01T17:50:49.000Z  2017-08-01T17:50:49.000Z   \n",
       "\n",
       "                                  CommentTextDisplay CommentAuthorName  \\\n",
       "0  V looks so awesome ! hope they come some day t...    xSeriouslyable   \n",
       "1                      esteroreroshepo atianitiro  +    strike virtual   \n",
       "2                                    Yeah  jimin♥♥♥♥         yuot yuot   \n",
       "3                                               love        sakar qadr   \n",
       "4              Please come to Greece Thessaloniki!!!    brina paulidou   \n",
       "\n",
       "                                    CommentAuthorURI CommentCanReply  \\\n",
       "0  http://www.youtube.com/channel/UCVg43Gk6iCw0iq...           false   \n",
       "1  http://www.youtube.com/channel/UCOavwxVoZXnW0L...           false   \n",
       "2  http://www.youtube.com/channel/UCYMpAZqqP1fX8p...           false   \n",
       "3  http://www.youtube.com/channel/UCYXxHDHz7g1owk...           false   \n",
       "4  http://www.youtube.com/channel/UCwDSreKzLMK8NK...           false   \n",
       "\n",
       "   CommentTotalReplyCount  CommentisPublic  CommentLikeCount  \\\n",
       "0                     0.0              1.0                 1   \n",
       "1                     0.0              1.0                 0   \n",
       "2                     0.0              1.0                 0   \n",
       "3                     0.0              1.0                 0   \n",
       "4                     0.0              1.0                 1   \n",
       "\n",
       "  CommentVewerRating  IsReply  CommentPosterInfo  \n",
       "0               none        0                NaN  \n",
       "1               none        0                NaN  \n",
       "2               none        0                NaN  \n",
       "3               none        0                NaN  \n",
       "4               none        0                NaN  "
      ]
     },
     "execution_count": 178,
     "metadata": {},
     "output_type": "execute_result"
    }
   ],
   "source": [
    "# Show first rows of dataframe\n",
    "comments.head()"
   ]
  },
  {
   "cell_type": "code",
   "execution_count": 209,
   "metadata": {},
   "outputs": [
    {
     "data": {
      "text/html": [
       "<div>\n",
       "<style>\n",
       "    .dataframe thead tr:only-child th {\n",
       "        text-align: right;\n",
       "    }\n",
       "\n",
       "    .dataframe thead th {\n",
       "        text-align: left;\n",
       "    }\n",
       "\n",
       "    .dataframe tbody tr th {\n",
       "        vertical-align: top;\n",
       "    }\n",
       "</style>\n",
       "<table border=\"1\" class=\"dataframe\">\n",
       "  <thead>\n",
       "    <tr style=\"text-align: right;\">\n",
       "      <th></th>\n",
       "      <th>CommentPublished</th>\n",
       "      <th>CommentTextDisplay</th>\n",
       "      <th>CommentAuthorName</th>\n",
       "      <th>CommentLikeCount</th>\n",
       "    </tr>\n",
       "  </thead>\n",
       "  <tbody>\n",
       "    <tr>\n",
       "      <th>0</th>\n",
       "      <td>2017-08-01T18:26:30.000Z</td>\n",
       "      <td>V looks so awesome ! hope they come some day t...</td>\n",
       "      <td>xSeriouslyable</td>\n",
       "      <td>1</td>\n",
       "    </tr>\n",
       "    <tr>\n",
       "      <th>1</th>\n",
       "      <td>2017-08-01T18:24:35.000Z</td>\n",
       "      <td>esteroreroshepo atianitiro  +</td>\n",
       "      <td>strike virtual</td>\n",
       "      <td>0</td>\n",
       "    </tr>\n",
       "    <tr>\n",
       "      <th>2</th>\n",
       "      <td>2017-08-01T18:17:07.000Z</td>\n",
       "      <td>Yeah  jimin♥♥♥♥</td>\n",
       "      <td>yuot yuot</td>\n",
       "      <td>0</td>\n",
       "    </tr>\n",
       "    <tr>\n",
       "      <th>3</th>\n",
       "      <td>2017-08-01T17:59:55.000Z</td>\n",
       "      <td>love</td>\n",
       "      <td>sakar qadr</td>\n",
       "      <td>0</td>\n",
       "    </tr>\n",
       "    <tr>\n",
       "      <th>4</th>\n",
       "      <td>2017-08-01T17:50:49.000Z</td>\n",
       "      <td>Please come to Greece Thessaloniki!!!</td>\n",
       "      <td>brina paulidou</td>\n",
       "      <td>1</td>\n",
       "    </tr>\n",
       "  </tbody>\n",
       "</table>\n",
       "</div>"
      ],
      "text/plain": [
       "           CommentPublished  \\\n",
       "0  2017-08-01T18:26:30.000Z   \n",
       "1  2017-08-01T18:24:35.000Z   \n",
       "2  2017-08-01T18:17:07.000Z   \n",
       "3  2017-08-01T17:59:55.000Z   \n",
       "4  2017-08-01T17:50:49.000Z   \n",
       "\n",
       "                                  CommentTextDisplay CommentAuthorName  \\\n",
       "0  V looks so awesome ! hope they come some day t...    xSeriouslyable   \n",
       "1                      esteroreroshepo atianitiro  +    strike virtual   \n",
       "2                                    Yeah  jimin♥♥♥♥         yuot yuot   \n",
       "3                                               love        sakar qadr   \n",
       "4              Please come to Greece Thessaloniki!!!    brina paulidou   \n",
       "\n",
       "   CommentLikeCount  \n",
       "0                 1  \n",
       "1                 0  \n",
       "2                 0  \n",
       "3                 0  \n",
       "4                 1  "
      ]
     },
     "execution_count": 209,
     "metadata": {},
     "output_type": "execute_result"
    }
   ],
   "source": [
    "# Selecting\n",
    "\n",
    "comments = comments.filter( items=['CommentPublished','CommentTextDisplay','CommentAuthorName','CommentLikeCount'] )\n",
    "\n",
    "comments.head()"
   ]
  },
  {
   "cell_type": "code",
   "execution_count": 210,
   "metadata": {},
   "outputs": [
    {
     "data": {
      "text/html": [
       "<div>\n",
       "<style>\n",
       "    .dataframe thead tr:only-child th {\n",
       "        text-align: right;\n",
       "    }\n",
       "\n",
       "    .dataframe thead th {\n",
       "        text-align: left;\n",
       "    }\n",
       "\n",
       "    .dataframe tbody tr th {\n",
       "        vertical-align: top;\n",
       "    }\n",
       "</style>\n",
       "<table border=\"1\" class=\"dataframe\">\n",
       "  <thead>\n",
       "    <tr style=\"text-align: right;\">\n",
       "      <th></th>\n",
       "      <th>CommentPublished</th>\n",
       "      <th>CommentTextDisplay</th>\n",
       "      <th>CommentAuthorName</th>\n",
       "      <th>CommentLikeCount</th>\n",
       "    </tr>\n",
       "  </thead>\n",
       "  <tbody>\n",
       "    <tr>\n",
       "      <th>1</th>\n",
       "      <td>2017-08-01T18:24:35.000Z</td>\n",
       "      <td>esteroreroshepo atianitiro  +</td>\n",
       "      <td>strike virtual</td>\n",
       "      <td>0</td>\n",
       "    </tr>\n",
       "    <tr>\n",
       "      <th>2</th>\n",
       "      <td>2017-08-01T18:17:07.000Z</td>\n",
       "      <td>Yeah  jimin♥♥♥♥</td>\n",
       "      <td>yuot yuot</td>\n",
       "      <td>0</td>\n",
       "    </tr>\n",
       "    <tr>\n",
       "      <th>3</th>\n",
       "      <td>2017-08-01T17:59:55.000Z</td>\n",
       "      <td>love</td>\n",
       "      <td>sakar qadr</td>\n",
       "      <td>0</td>\n",
       "    </tr>\n",
       "    <tr>\n",
       "      <th>7</th>\n",
       "      <td>2017-08-01T16:26:05.000Z</td>\n",
       "      <td>Who still watch in 2017?</td>\n",
       "      <td>ekisho raito</td>\n",
       "      <td>0</td>\n",
       "    </tr>\n",
       "    <tr>\n",
       "      <th>8</th>\n",
       "      <td>2017-08-01T16:24:59.000Z</td>\n",
       "      <td>Who watch this in 2017?</td>\n",
       "      <td>TheyCallMe Kitty</td>\n",
       "      <td>0</td>\n",
       "    </tr>\n",
       "  </tbody>\n",
       "</table>\n",
       "</div>"
      ],
      "text/plain": [
       "           CommentPublished             CommentTextDisplay CommentAuthorName  \\\n",
       "1  2017-08-01T18:24:35.000Z  esteroreroshepo atianitiro  +    strike virtual   \n",
       "2  2017-08-01T18:17:07.000Z                Yeah  jimin♥♥♥♥         yuot yuot   \n",
       "3  2017-08-01T17:59:55.000Z                           love        sakar qadr   \n",
       "7  2017-08-01T16:26:05.000Z       Who still watch in 2017?      ekisho raito   \n",
       "8  2017-08-01T16:24:59.000Z        Who watch this in 2017?  TheyCallMe Kitty   \n",
       "\n",
       "   CommentLikeCount  \n",
       "1                 0  \n",
       "2                 0  \n",
       "3                 0  \n",
       "7                 0  \n",
       "8                 0  "
      ]
     },
     "execution_count": 210,
     "metadata": {},
     "output_type": "execute_result"
    }
   ],
   "source": [
    "# Filtering\n",
    "\n",
    "zero_likes = comments[ comments['CommentLikeCount'] == 0 ]\n",
    "\n",
    "zero_likes.head()"
   ]
  },
  {
   "cell_type": "code",
   "execution_count": 211,
   "metadata": {},
   "outputs": [
    {
     "data": {
      "text/html": [
       "<div>\n",
       "<style>\n",
       "    .dataframe thead tr:only-child th {\n",
       "        text-align: right;\n",
       "    }\n",
       "\n",
       "    .dataframe thead th {\n",
       "        text-align: left;\n",
       "    }\n",
       "\n",
       "    .dataframe tbody tr th {\n",
       "        vertical-align: top;\n",
       "    }\n",
       "</style>\n",
       "<table border=\"1\" class=\"dataframe\">\n",
       "  <thead>\n",
       "    <tr style=\"text-align: right;\">\n",
       "      <th></th>\n",
       "      <th>CommentPublished</th>\n",
       "      <th>CommentTextDisplay</th>\n",
       "      <th>CommentAuthorName</th>\n",
       "      <th>CommentLikeCount</th>\n",
       "    </tr>\n",
       "  </thead>\n",
       "  <tbody>\n",
       "    <tr>\n",
       "      <th>0</th>\n",
       "      <td>2017-08-01T18:26:30.000Z</td>\n",
       "      <td>V looks so awesome ! hope they come some day t...</td>\n",
       "      <td>xSeriouslyable</td>\n",
       "      <td>1</td>\n",
       "    </tr>\n",
       "    <tr>\n",
       "      <th>4</th>\n",
       "      <td>2017-08-01T17:50:49.000Z</td>\n",
       "      <td>Please come to Greece Thessaloniki!!!</td>\n",
       "      <td>brina paulidou</td>\n",
       "      <td>1</td>\n",
       "    </tr>\n",
       "    <tr>\n",
       "      <th>5</th>\n",
       "      <td>2017-08-01T17:42:27.000Z</td>\n",
       "      <td>like si eres army y nunca los vas a dejar de a...</td>\n",
       "      <td>army forever</td>\n",
       "      <td>1</td>\n",
       "    </tr>\n",
       "    <tr>\n",
       "      <th>6</th>\n",
       "      <td>2017-08-01T17:35:46.000Z</td>\n",
       "      <td>som hermosos</td>\n",
       "      <td>jenni SN</td>\n",
       "      <td>1</td>\n",
       "    </tr>\n",
       "    <tr>\n",
       "      <th>16</th>\n",
       "      <td>2017-08-01T15:31:16.000Z</td>\n",
       "      <td>Limdo😘</td>\n",
       "      <td>julinharavelly Jesus</td>\n",
       "      <td>1</td>\n",
       "    </tr>\n",
       "  </tbody>\n",
       "</table>\n",
       "</div>"
      ],
      "text/plain": [
       "            CommentPublished  \\\n",
       "0   2017-08-01T18:26:30.000Z   \n",
       "4   2017-08-01T17:50:49.000Z   \n",
       "5   2017-08-01T17:42:27.000Z   \n",
       "6   2017-08-01T17:35:46.000Z   \n",
       "16  2017-08-01T15:31:16.000Z   \n",
       "\n",
       "                                   CommentTextDisplay     CommentAuthorName  \\\n",
       "0   V looks so awesome ! hope they come some day t...        xSeriouslyable   \n",
       "4               Please come to Greece Thessaloniki!!!        brina paulidou   \n",
       "5   like si eres army y nunca los vas a dejar de a...          army forever   \n",
       "6                                        som hermosos              jenni SN   \n",
       "16                                             Limdo😘  julinharavelly Jesus   \n",
       "\n",
       "    CommentLikeCount  \n",
       "0                  1  \n",
       "4                  1  \n",
       "5                  1  \n",
       "6                  1  \n",
       "16                 1  "
      ]
     },
     "execution_count": 211,
     "metadata": {},
     "output_type": "execute_result"
    }
   ],
   "source": [
    "one_two_likes = comments[ (comments['CommentLikeCount'] >= 1) & (comments['CommentLikeCount'] <= 2) ]\n",
    "\n",
    "one_two_likes.head()"
   ]
  },
  {
   "cell_type": "code",
   "execution_count": 212,
   "metadata": {},
   "outputs": [
    {
     "data": {
      "text/html": [
       "<div>\n",
       "<style>\n",
       "    .dataframe thead tr:only-child th {\n",
       "        text-align: right;\n",
       "    }\n",
       "\n",
       "    .dataframe thead th {\n",
       "        text-align: left;\n",
       "    }\n",
       "\n",
       "    .dataframe tbody tr th {\n",
       "        vertical-align: top;\n",
       "    }\n",
       "</style>\n",
       "<table border=\"1\" class=\"dataframe\">\n",
       "  <thead>\n",
       "    <tr style=\"text-align: right;\">\n",
       "      <th></th>\n",
       "      <th>CommentPublished</th>\n",
       "      <th>CommentTextDisplay</th>\n",
       "      <th>CommentAuthorName</th>\n",
       "      <th>CommentLikeCount</th>\n",
       "      <th>FewLikes</th>\n",
       "    </tr>\n",
       "  </thead>\n",
       "  <tbody>\n",
       "    <tr>\n",
       "      <th>0</th>\n",
       "      <td>2017-08-01T18:26:30.000Z</td>\n",
       "      <td>V looks so awesome ! hope they come some day t...</td>\n",
       "      <td>xSeriouslyable</td>\n",
       "      <td>1</td>\n",
       "      <td>True</td>\n",
       "    </tr>\n",
       "    <tr>\n",
       "      <th>1</th>\n",
       "      <td>2017-08-01T18:24:35.000Z</td>\n",
       "      <td>esteroreroshepo atianitiro  +</td>\n",
       "      <td>strike virtual</td>\n",
       "      <td>0</td>\n",
       "      <td>False</td>\n",
       "    </tr>\n",
       "    <tr>\n",
       "      <th>2</th>\n",
       "      <td>2017-08-01T18:17:07.000Z</td>\n",
       "      <td>Yeah  jimin♥♥♥♥</td>\n",
       "      <td>yuot yuot</td>\n",
       "      <td>0</td>\n",
       "      <td>False</td>\n",
       "    </tr>\n",
       "    <tr>\n",
       "      <th>3</th>\n",
       "      <td>2017-08-01T17:59:55.000Z</td>\n",
       "      <td>love</td>\n",
       "      <td>sakar qadr</td>\n",
       "      <td>0</td>\n",
       "      <td>False</td>\n",
       "    </tr>\n",
       "    <tr>\n",
       "      <th>4</th>\n",
       "      <td>2017-08-01T17:50:49.000Z</td>\n",
       "      <td>Please come to Greece Thessaloniki!!!</td>\n",
       "      <td>brina paulidou</td>\n",
       "      <td>1</td>\n",
       "      <td>True</td>\n",
       "    </tr>\n",
       "  </tbody>\n",
       "</table>\n",
       "</div>"
      ],
      "text/plain": [
       "           CommentPublished  \\\n",
       "0  2017-08-01T18:26:30.000Z   \n",
       "1  2017-08-01T18:24:35.000Z   \n",
       "2  2017-08-01T18:17:07.000Z   \n",
       "3  2017-08-01T17:59:55.000Z   \n",
       "4  2017-08-01T17:50:49.000Z   \n",
       "\n",
       "                                  CommentTextDisplay CommentAuthorName  \\\n",
       "0  V looks so awesome ! hope they come some day t...    xSeriouslyable   \n",
       "1                      esteroreroshepo atianitiro  +    strike virtual   \n",
       "2                                    Yeah  jimin♥♥♥♥         yuot yuot   \n",
       "3                                               love        sakar qadr   \n",
       "4              Please come to Greece Thessaloniki!!!    brina paulidou   \n",
       "\n",
       "   CommentLikeCount  FewLikes  \n",
       "0                 1      True  \n",
       "1                 0     False  \n",
       "2                 0     False  \n",
       "3                 0     False  \n",
       "4                 1      True  "
      ]
     },
     "execution_count": 212,
     "metadata": {},
     "output_type": "execute_result"
    }
   ],
   "source": [
    "# Adding new column\n",
    "\n",
    "comments['FewLikes'] = (comments['CommentLikeCount'] >= 1) & (comments['CommentLikeCount'] <= 2)\n",
    "\n",
    "comments.head()"
   ]
  },
  {
   "cell_type": "code",
   "execution_count": 269,
   "metadata": {},
   "outputs": [
    {
     "data": {
      "text/html": [
       "<div>\n",
       "<style>\n",
       "    .dataframe thead tr:only-child th {\n",
       "        text-align: right;\n",
       "    }\n",
       "\n",
       "    .dataframe thead th {\n",
       "        text-align: left;\n",
       "    }\n",
       "\n",
       "    .dataframe tbody tr th {\n",
       "        vertical-align: top;\n",
       "    }\n",
       "</style>\n",
       "<table border=\"1\" class=\"dataframe\">\n",
       "  <thead>\n",
       "    <tr style=\"text-align: right;\">\n",
       "      <th></th>\n",
       "      <th>CommentPublished</th>\n",
       "      <th>CommentTextDisplay</th>\n",
       "      <th>CommentAuthorName</th>\n",
       "      <th>CommentLikeCount</th>\n",
       "      <th>CommentDateTime</th>\n",
       "    </tr>\n",
       "  </thead>\n",
       "  <tbody>\n",
       "    <tr>\n",
       "      <th>0</th>\n",
       "      <td>2017-08-01T18:26:30.000Z</td>\n",
       "      <td>V looks so awesome ! hope they come some day t...</td>\n",
       "      <td>xSeriouslyable</td>\n",
       "      <td>1</td>\n",
       "      <td>2017-08-01 18:26:30+00:00</td>\n",
       "    </tr>\n",
       "    <tr>\n",
       "      <th>1</th>\n",
       "      <td>2017-08-01T18:24:35.000Z</td>\n",
       "      <td>esteroreroshepo atianitiro  +</td>\n",
       "      <td>strike virtual</td>\n",
       "      <td>0</td>\n",
       "      <td>2017-08-01 18:24:35+00:00</td>\n",
       "    </tr>\n",
       "    <tr>\n",
       "      <th>2</th>\n",
       "      <td>2017-08-01T18:17:07.000Z</td>\n",
       "      <td>Yeah  jimin♥♥♥♥</td>\n",
       "      <td>yuot yuot</td>\n",
       "      <td>0</td>\n",
       "      <td>2017-08-01 18:17:07+00:00</td>\n",
       "    </tr>\n",
       "    <tr>\n",
       "      <th>3</th>\n",
       "      <td>2017-08-01T17:59:55.000Z</td>\n",
       "      <td>love</td>\n",
       "      <td>sakar qadr</td>\n",
       "      <td>0</td>\n",
       "      <td>2017-08-01 17:59:55+00:00</td>\n",
       "    </tr>\n",
       "    <tr>\n",
       "      <th>4</th>\n",
       "      <td>2017-08-01T17:50:49.000Z</td>\n",
       "      <td>Please come to Greece Thessaloniki!!!</td>\n",
       "      <td>brina paulidou</td>\n",
       "      <td>1</td>\n",
       "      <td>2017-08-01 17:50:49+00:00</td>\n",
       "    </tr>\n",
       "  </tbody>\n",
       "</table>\n",
       "</div>"
      ],
      "text/plain": [
       "           CommentPublished  \\\n",
       "0  2017-08-01T18:26:30.000Z   \n",
       "1  2017-08-01T18:24:35.000Z   \n",
       "2  2017-08-01T18:17:07.000Z   \n",
       "3  2017-08-01T17:59:55.000Z   \n",
       "4  2017-08-01T17:50:49.000Z   \n",
       "\n",
       "                                  CommentTextDisplay CommentAuthorName  \\\n",
       "0  V looks so awesome ! hope they come some day t...    xSeriouslyable   \n",
       "1                      esteroreroshepo atianitiro  +    strike virtual   \n",
       "2                                    Yeah  jimin♥♥♥♥         yuot yuot   \n",
       "3                                               love        sakar qadr   \n",
       "4              Please come to Greece Thessaloniki!!!    brina paulidou   \n",
       "\n",
       "   CommentLikeCount           CommentDateTime  \n",
       "0                 1 2017-08-01 18:26:30+00:00  \n",
       "1                 0 2017-08-01 18:24:35+00:00  \n",
       "2                 0 2017-08-01 18:17:07+00:00  \n",
       "3                 0 2017-08-01 17:59:55+00:00  \n",
       "4                 1 2017-08-01 17:50:49+00:00  "
      ]
     },
     "execution_count": 269,
     "metadata": {},
     "output_type": "execute_result"
    }
   ],
   "source": [
    "del comments['FewLikes']\n",
    "\n",
    "comments.head()"
   ]
  },
  {
   "cell_type": "code",
   "execution_count": 204,
   "metadata": {},
   "outputs": [
    {
     "name": "stdout",
     "output_type": "stream",
     "text": [
      "0    V looks so awesome ! hope they come some day t...\n",
      "1                        esteroreroshepo atianitiro  +\n",
      "2                                      Yeah  jimin♥♥♥♥\n",
      "3                                                 love\n",
      "4                Please come to Greece Thessaloniki!!!\n",
      "Name: CommentTextDisplay, dtype: object\n",
      "\n",
      "---------------------------------------------------------\n",
      "\n",
      "0    V looks so awesome ! hope they come some day t...\n",
      "1                        esteroreroshepo atianitiro  +\n",
      "2                                      Yeah  jimin♥♥♥♥\n",
      "3                                                 love\n",
      "4                Please come to Greece Thessaloniki!!!\n",
      "Name: CommentTextDisplay, dtype: object\n",
      "\n",
      "---------------------------------------------------------\n",
      "\n",
      "['V looks so awesome ! hope they come some day to germany xD'\n",
      " 'esteroreroshepo atianitiro  +' 'Yeah  jimin♥♥♥♥' 'love'\n",
      " 'Please come to Greece Thessaloniki!!!']\n"
     ]
    }
   ],
   "source": [
    "# Synonyms\n",
    "\n",
    "print( comments.head()['CommentTextDisplay'] )\n",
    "\n",
    "print (\"\\n---------------------------------------------------------\\n\")\n",
    "\n",
    "print( comments.head().CommentTextDisplay )\n",
    "\n",
    "print (\"\\n---------------------------------------------------------\\n\")\n",
    "\n",
    "print( comments.head().CommentTextDisplay.values )"
   ]
  },
  {
   "cell_type": "code",
   "execution_count": 206,
   "metadata": {},
   "outputs": [
    {
     "name": "stdout",
     "output_type": "stream",
     "text": [
      "CommentPublished                   2017-08-01T17:50:49.000Z\n",
      "CommentTextDisplay    Please come to Greece Thessaloniki!!!\n",
      "CommentAuthorName                            brina paulidou\n",
      "CommentLikeCount                                          1\n",
      "Name: 4, dtype: object\n",
      "\n",
      "---------------------------------------------------------\n",
      "\n",
      "Please come to Greece Thessaloniki!!!\n"
     ]
    }
   ],
   "source": [
    "# Print one specific line\n",
    "\n",
    "print (comments.loc[4])\n",
    "\n",
    "print (\"\\n---------------------------------------------------------\\n\")\n",
    "\n",
    "print (comments.loc[4].CommentTextDisplay)"
   ]
  },
  {
   "cell_type": "markdown",
   "metadata": {},
   "source": [
    "# Basic statistics and data visualisation"
   ]
  },
  {
   "cell_type": "code",
   "execution_count": 217,
   "metadata": {},
   "outputs": [
    {
     "data": {
      "text/html": [
       "<div>\n",
       "<style>\n",
       "    .dataframe thead tr:only-child th {\n",
       "        text-align: right;\n",
       "    }\n",
       "\n",
       "    .dataframe thead th {\n",
       "        text-align: left;\n",
       "    }\n",
       "\n",
       "    .dataframe tbody tr th {\n",
       "        vertical-align: top;\n",
       "    }\n",
       "</style>\n",
       "<table border=\"1\" class=\"dataframe\">\n",
       "  <thead>\n",
       "    <tr style=\"text-align: right;\">\n",
       "      <th></th>\n",
       "      <th>CommentPublished</th>\n",
       "      <th>CommentTextDisplay</th>\n",
       "      <th>CommentAuthorName</th>\n",
       "      <th>CommentLikeCount</th>\n",
       "      <th>FewLikes</th>\n",
       "    </tr>\n",
       "  </thead>\n",
       "  <tbody>\n",
       "    <tr>\n",
       "      <th>0</th>\n",
       "      <td>2017-08-01T18:26:30.000Z</td>\n",
       "      <td>V looks so awesome ! hope they come some day t...</td>\n",
       "      <td>xSeriouslyable</td>\n",
       "      <td>1</td>\n",
       "      <td>True</td>\n",
       "    </tr>\n",
       "    <tr>\n",
       "      <th>1</th>\n",
       "      <td>2017-08-01T18:24:35.000Z</td>\n",
       "      <td>esteroreroshepo atianitiro  +</td>\n",
       "      <td>strike virtual</td>\n",
       "      <td>0</td>\n",
       "      <td>False</td>\n",
       "    </tr>\n",
       "    <tr>\n",
       "      <th>2</th>\n",
       "      <td>2017-08-01T18:17:07.000Z</td>\n",
       "      <td>Yeah  jimin♥♥♥♥</td>\n",
       "      <td>yuot yuot</td>\n",
       "      <td>0</td>\n",
       "      <td>False</td>\n",
       "    </tr>\n",
       "    <tr>\n",
       "      <th>3</th>\n",
       "      <td>2017-08-01T17:59:55.000Z</td>\n",
       "      <td>love</td>\n",
       "      <td>sakar qadr</td>\n",
       "      <td>0</td>\n",
       "      <td>False</td>\n",
       "    </tr>\n",
       "    <tr>\n",
       "      <th>4</th>\n",
       "      <td>2017-08-01T17:50:49.000Z</td>\n",
       "      <td>Please come to Greece Thessaloniki!!!</td>\n",
       "      <td>brina paulidou</td>\n",
       "      <td>1</td>\n",
       "      <td>True</td>\n",
       "    </tr>\n",
       "  </tbody>\n",
       "</table>\n",
       "</div>"
      ],
      "text/plain": [
       "           CommentPublished  \\\n",
       "0  2017-08-01T18:26:30.000Z   \n",
       "1  2017-08-01T18:24:35.000Z   \n",
       "2  2017-08-01T18:17:07.000Z   \n",
       "3  2017-08-01T17:59:55.000Z   \n",
       "4  2017-08-01T17:50:49.000Z   \n",
       "\n",
       "                                  CommentTextDisplay CommentAuthorName  \\\n",
       "0  V looks so awesome ! hope they come some day t...    xSeriouslyable   \n",
       "1                      esteroreroshepo atianitiro  +    strike virtual   \n",
       "2                                    Yeah  jimin♥♥♥♥         yuot yuot   \n",
       "3                                               love        sakar qadr   \n",
       "4              Please come to Greece Thessaloniki!!!    brina paulidou   \n",
       "\n",
       "   CommentLikeCount  FewLikes  \n",
       "0                 1      True  \n",
       "1                 0     False  \n",
       "2                 0     False  \n",
       "3                 0     False  \n",
       "4                 1      True  "
      ]
     },
     "execution_count": 217,
     "metadata": {},
     "output_type": "execute_result"
    }
   ],
   "source": [
    "comments.head()"
   ]
  },
  {
   "cell_type": "code",
   "execution_count": 266,
   "metadata": {},
   "outputs": [
    {
     "data": {
      "text/plain": [
       "datetime.datetime(2017, 8, 1, 18, 26, 30, tzinfo=tzutc())"
      ]
     },
     "execution_count": 266,
     "metadata": {},
     "output_type": "execute_result"
    }
   ],
   "source": [
    "# Fixing dates and times \n",
    "\n",
    "from datetime import datetime\n",
    "from dateutil import parser\n",
    "\n",
    "dt = parser.parse('2017-08-01T18:26:30.000Z')\n",
    "\n",
    "dt"
   ]
  },
  {
   "cell_type": "code",
   "execution_count": 299,
   "metadata": {},
   "outputs": [
    {
     "name": "stdout",
     "output_type": "stream",
     "text": [
      "min CommentDateTime = 2017-08-01 02:25:18+00:00\n",
      "max CommentDateTime = 2017-08-01 18:26:30+00:00\n"
     ]
    }
   ],
   "source": [
    "# apply and lambda\n",
    "\n",
    "comments['CommentDateTime'] = comments.apply( lambda row: parser.parse(row.CommentPublished), axis=1 )  \n",
    "\n",
    "print( \"min CommentDateTime =\", comments.CommentDateTime.min() )\n",
    "print( \"max CommentDateTime =\", comments.CommentDateTime.max() )"
   ]
  },
  {
   "cell_type": "code",
   "execution_count": 312,
   "metadata": {},
   "outputs": [
    {
     "data": {
      "text/html": [
       "<div>\n",
       "<style>\n",
       "    .dataframe thead tr:only-child th {\n",
       "        text-align: right;\n",
       "    }\n",
       "\n",
       "    .dataframe thead th {\n",
       "        text-align: left;\n",
       "    }\n",
       "\n",
       "    .dataframe tbody tr th {\n",
       "        vertical-align: top;\n",
       "    }\n",
       "</style>\n",
       "<table border=\"1\" class=\"dataframe\">\n",
       "  <thead>\n",
       "    <tr style=\"text-align: right;\">\n",
       "      <th></th>\n",
       "      <th>CommentPublished</th>\n",
       "      <th>CommentTextDisplay</th>\n",
       "      <th>CommentAuthorName</th>\n",
       "      <th>CommentLikeCount</th>\n",
       "      <th>CommentDateTime</th>\n",
       "      <th>hour</th>\n",
       "      <th>epoch</th>\n",
       "    </tr>\n",
       "  </thead>\n",
       "  <tbody>\n",
       "    <tr>\n",
       "      <th>0</th>\n",
       "      <td>2017-08-01T18:26:30.000Z</td>\n",
       "      <td>V looks so awesome ! hope they come some day t...</td>\n",
       "      <td>xSeriouslyable</td>\n",
       "      <td>1</td>\n",
       "      <td>2017-08-01 18:26:30+00:00</td>\n",
       "      <td>18</td>\n",
       "      <td>1.501612e+09</td>\n",
       "    </tr>\n",
       "    <tr>\n",
       "      <th>1</th>\n",
       "      <td>2017-08-01T18:24:35.000Z</td>\n",
       "      <td>esteroreroshepo atianitiro  +</td>\n",
       "      <td>strike virtual</td>\n",
       "      <td>0</td>\n",
       "      <td>2017-08-01 18:24:35+00:00</td>\n",
       "      <td>18</td>\n",
       "      <td>1.501612e+09</td>\n",
       "    </tr>\n",
       "    <tr>\n",
       "      <th>2</th>\n",
       "      <td>2017-08-01T18:17:07.000Z</td>\n",
       "      <td>Yeah  jimin♥♥♥♥</td>\n",
       "      <td>yuot yuot</td>\n",
       "      <td>0</td>\n",
       "      <td>2017-08-01 18:17:07+00:00</td>\n",
       "      <td>18</td>\n",
       "      <td>1.501611e+09</td>\n",
       "    </tr>\n",
       "    <tr>\n",
       "      <th>3</th>\n",
       "      <td>2017-08-01T17:59:55.000Z</td>\n",
       "      <td>love</td>\n",
       "      <td>sakar qadr</td>\n",
       "      <td>0</td>\n",
       "      <td>2017-08-01 17:59:55+00:00</td>\n",
       "      <td>17</td>\n",
       "      <td>1.501610e+09</td>\n",
       "    </tr>\n",
       "    <tr>\n",
       "      <th>4</th>\n",
       "      <td>2017-08-01T17:50:49.000Z</td>\n",
       "      <td>Please come to Greece Thessaloniki!!!</td>\n",
       "      <td>brina paulidou</td>\n",
       "      <td>1</td>\n",
       "      <td>2017-08-01 17:50:49+00:00</td>\n",
       "      <td>17</td>\n",
       "      <td>1.501610e+09</td>\n",
       "    </tr>\n",
       "  </tbody>\n",
       "</table>\n",
       "</div>"
      ],
      "text/plain": [
       "           CommentPublished  \\\n",
       "0  2017-08-01T18:26:30.000Z   \n",
       "1  2017-08-01T18:24:35.000Z   \n",
       "2  2017-08-01T18:17:07.000Z   \n",
       "3  2017-08-01T17:59:55.000Z   \n",
       "4  2017-08-01T17:50:49.000Z   \n",
       "\n",
       "                                  CommentTextDisplay CommentAuthorName  \\\n",
       "0  V looks so awesome ! hope they come some day t...    xSeriouslyable   \n",
       "1                      esteroreroshepo atianitiro  +    strike virtual   \n",
       "2                                    Yeah  jimin♥♥♥♥         yuot yuot   \n",
       "3                                               love        sakar qadr   \n",
       "4              Please come to Greece Thessaloniki!!!    brina paulidou   \n",
       "\n",
       "   CommentLikeCount           CommentDateTime  hour         epoch  \n",
       "0                 1 2017-08-01 18:26:30+00:00    18  1.501612e+09  \n",
       "1                 0 2017-08-01 18:24:35+00:00    18  1.501612e+09  \n",
       "2                 0 2017-08-01 18:17:07+00:00    18  1.501611e+09  \n",
       "3                 0 2017-08-01 17:59:55+00:00    17  1.501610e+09  \n",
       "4                 1 2017-08-01 17:50:49+00:00    17  1.501610e+09  "
      ]
     },
     "execution_count": 312,
     "metadata": {},
     "output_type": "execute_result"
    }
   ],
   "source": [
    "comments['hour'] = comments.apply( lambda row: row.CommentDateTime.hour, axis=1 )  \n",
    "comments['epoch'] = comments.apply( lambda row: row.CommentDateTime.timestamp(), axis=1 )  \n",
    "\n",
    "comments.head()"
   ]
  },
  {
   "cell_type": "code",
   "execution_count": 316,
   "metadata": {},
   "outputs": [
    {
     "data": {
      "image/png": "[encoded data removed]",
      "text/plain": [
       "<matplotlib.figure.Figure at 0x7f2a03076400>"
      ]
     },
     "metadata": {},
     "output_type": "display_data"
    }
   ],
   "source": [
    "# Comments over time\n",
    "\n",
    "g = sns.factorplot(x=\"hour\", data=comments, kind=\"count\",\n",
    "                   palette=\"BuPu\", size=6, aspect=1.5)"
   ]
  },
  {
   "cell_type": "code",
   "execution_count": 218,
   "metadata": {},
   "outputs": [
    {
     "name": "stdout",
     "output_type": "stream",
     "text": [
      "The mean number of likes per comment is 0.959595959596\n"
     ]
    }
   ],
   "source": [
    "print (\"The mean number of likes per comment is\", comments.CommentLikeCount.mean())"
   ]
  },
  {
   "cell_type": "code",
   "execution_count": 219,
   "metadata": {},
   "outputs": [
    {
     "data": {
      "text/plain": [
       "Counter({0: 40, 1: 43, 2: 4, 3: 8, 4: 2, 6: 2})"
      ]
     },
     "execution_count": 219,
     "metadata": {},
     "output_type": "execute_result"
    }
   ],
   "source": [
    "from collections import Counter\n",
    "\n",
    "Counter( comments.CommentLikeCount )"
   ]
  },
  {
   "cell_type": "code",
   "execution_count": 242,
   "metadata": {},
   "outputs": [],
   "source": [
    "import matplotlib.pyplot as plt\n",
    "import seaborn as sns\n",
    "sns.set()\n",
    "sns.set(color_codes=True)\n",
    "sns.set_context(\"notebook\", font_scale=1.5, rc={\"lines.linewidth\": 2.5})"
   ]
  },
  {
   "cell_type": "code",
   "execution_count": 329,
   "metadata": {},
   "outputs": [
    {
     "data": {
      "image/png": "[encoded data removed]",
      "text/plain": [
       "<matplotlib.figure.Figure at 0x7f2a00024588>"
      ]
     },
     "metadata": {},
     "output_type": "display_data"
    }
   ],
   "source": [
    "g = sns.distplot( comments.CommentLikeCount, kde=False, rug=False )\n",
    "g = g.set_ylabel('number of comments')"
   ]
  },
  {
   "cell_type": "markdown",
   "metadata": {},
   "source": [
    "We can look in more detail at the comments with the most likes.\n",
    "\n",
    "\n",
    "The other thing to quickly visualise is the overall comment counts for each video for each of the four groups.\n",
    "\n",
    "These are available in tab-delimited files in the 'TWICE-BTS-EXO-BLACKPINK_About' folder.\n",
    "\n",
    "the comment-only file doesn't have metadata to play around with, so we wouldn't be able to group by user for example, or by time, but that's what we're covering in the session you're working on now"
   ]
  },
  {
   "cell_type": "code",
   "execution_count": null,
   "metadata": {},
   "outputs": [],
   "source": []
  },
  {
   "cell_type": "code",
   "execution_count": null,
   "metadata": {},
   "outputs": [],
   "source": []
  },
  {
   "cell_type": "code",
   "execution_count": 1,
   "metadata": {},
   "outputs": [],
   "source": []
  },
  {
   "cell_type": "code",
   "execution_count": 5,
   "metadata": {},
   "outputs": [],
   "source": [
    "# Metadata about all videos.\n",
    "df_videos = pd.read_excel(\"../data/videos.xlsx\", sheetname=0) \n",
    "\n",
    "# Sample of comments about the BTS video 'Save Me'.\n",
    "df_bts_sample = pd.read_excel(\"../data/videos.xlsx\", sheetname=1)\n",
    "\n",
    "# Comments about Twice videos.\n",
    "df_twice = pd.read_excel(\"../data/videos.xlsx\", sheetname=2)\n",
    "\n",
    "# Blackpink comment counts.\n",
    "df_blackpink_counts = pd.read_csv(\"../data/kpop_comment_counts/blackpink_comment_counts.txt\", sep=\"\\t\")\n",
    "\n",
    "# BTS comment counts.\n",
    "df_bts_counts = pd.read_csv(\"../data/kpop_comment_counts/bts_comment_counts.txt\", sep=\"\\t\")\n",
    "\n",
    "# EXO comment counts.\n",
    "df_exo_counts = pd.read_csv(\"../data/kpop_comment_counts/exo_comment_counts.txt\", sep=\"\\t\")\n",
    "\n",
    "# Twice comment counts.\n",
    "df_twice_counts = pd.read_csv(\"../data/kpop_comment_counts/twice_comment_counts.txt\", sep=\"\\t\")"
   ]
  },
  {
   "cell_type": "markdown",
   "metadata": {},
   "source": [
    "Next sections should use the data in the above dataframes to provide a basic description of dataset - how many comments, how many unique users, what time are the comments, number of comments over time (can group by week or month and compute means), etc. Include basic visualisations here (plots, graphs, charts) with matplotlib/seaborn. \n",
    "\n",
    "*The specific columns in the video comment tabs (df_bts_sample and df_twice) that we should look at are CommentPublished (needs to be parsed), CommentTextDisplay, CommentAuthorName, and CommentLikeCount. We can look in more detail at the comments with the most likes.\n",
    "\n",
    "*Can use the value_counts method to compute number of posts / user for the BTS and Twice samples and visualise as a bar chart (CommentAuthorName column)."
   ]
  },
  {
   "cell_type": "code",
   "execution_count": null,
   "metadata": {
    "collapsed": true
   },
   "outputs": [],
   "source": [
    "First, we'll transform _births_ and _names_ into a dictionary.\n",
    "\n",
    "dict_data = { 'Names':names, 'Births':births }\n",
    "\n",
    "dict_data\n",
    "\n",
    "### Exporting\n",
    "\n",
    "The only parameters we will use is ***index*** and ***header***. Setting these parameters to False will prevent the index and header names from being exported. Change the values of these parameters to get a better understanding of their use.\n",
    "\n",
    "df.to_csv('births.csv',index=False,header=True)\n",
    "\n",
    "infile = 'births.csv'\n",
    "df = pd.read_csv(infile)\n",
    "df"
   ]
  }
 ],
 "metadata": {
  "anaconda-cloud": {},
  "kernelspec": {
   "display_name": "Python 3",
   "language": "python",
   "name": "python3"
  },
  "language_info": {
   "codemirror_mode": {
    "name": "ipython",
    "version": 3
   },
   "file_extension": ".py",
   "mimetype": "text/x-python",
   "name": "python",
   "nbconvert_exporter": "python",
   "pygments_lexer": "ipython3",
   "version": "3.4.3"
  }
 },
 "nbformat": 4,
 "nbformat_minor": 1
}
