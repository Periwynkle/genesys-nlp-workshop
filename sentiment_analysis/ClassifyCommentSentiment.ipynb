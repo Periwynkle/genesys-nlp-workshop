{
 "cells": [
  {
   "cell_type": "markdown",
   "metadata": {},
   "source": [
    "The Python code below classifies the sentiment on a single file.\n",
    "\n",
    "You will need to change the locations of: \n",
    "   * SentiStrength\n",
    "   * the SentiStrength data folder and\n",
    "   * the YouTube comments file\n",
    "to make this code work. These are near the top of the code below.\n",
    "The results will be saved to the folder where the YouTube files are kept.\n",
    "\n",
    "To classify the sentiment in more than one file, repeat the code below but change the filename of the YouTube comments file.\n"
   ]
  },
  {
   "cell_type": "code",
   "execution_count": 1,
   "metadata": {},
   "outputs": [
    {
     "name": "stdout",
     "output_type": "stream",
     "text": [
      "If SentiStrength is working then 3 and -1 will be next: 3 -1 A lovely day! \n",
      "\n",
      "Running SentiStrength on file D:/Downloads/k-pop test/BLACKPINK_eng-1kYrp_Bs8DU_commentsOnly.txt with command:\n",
      "java -jar \"D:/Downloads/k-pop test/SentiStrength.jar\" sentidata \"D:/Downloads/k-pop test/SentiStrength_Data/\" input \"D:/Downloads/k-pop test/BLACKPINK_eng-1kYrp_Bs8DU_commentsOnly.txt\" \n",
      "\n",
      "Finished! The results will be in a file with a name from\n",
      "D:/Downloads/k-pop test/BLACKPINK_eng-1kYrp_Bs8DU_commentsOnly.txt\n",
      "ending in out.txt.\n",
      "Press enter to continue.\n"
     ]
    }
   ],
   "source": [
    "import subprocess\n",
    "import shlex\n",
    "import os.path\n",
    "import sys\n",
    "\n",
    "#######################################################################################################\n",
    "## Modify the three lines below to make this program work on your computer.                          ##\n",
    "## Be careful with the direction of the slashes / and include a slash at the end of the second path. ##\n",
    "#######################################################################################################\n",
    "SentiStrengthLocation = \"D:/Downloads/k-pop test/SentiStrength.jar\" #This must point to the location of SentiStrength on your computer\n",
    "SentiStrengthUnzippedTextFilesLocation = \"D:/Downloads/k-pop test/SentiStrength_Data/\" #This must point to the location of the unzipped SentiStrength data files on your computer\n",
    "FileToClassify = \"D:/Downloads/k-pop test/BLACKPINK_eng-1kYrp_Bs8DU_commentsOnly.txt\" #This must point to the location of the file that you want classified.\n",
    "\n",
    "#Test file locations and quit if anything not found\n",
    "if not os.path.isfile(SentiStrengthLocation):\n",
    "    print(\"SentiStrength not found at: \", SentiStrengthLocation)\n",
    "    sys.exit()\n",
    "if not os.path.isfile(FileToClassify):\n",
    "    print(\"File to classify not found at: \", FileToClassify)\n",
    "    sys.exit()\n",
    "if not os.path.isdir(SentiStrengthUnzippedTextFilesLocation):\n",
    "    print(\"SentiStrength data folder not found at: \", SentiStrengthUnzippedTextFilesLocation)\n",
    "    sys.exit()\n",
    "\n",
    "# Test if SentiStrength is working\n",
    "def RateSentiment(sentiString):\n",
    "    #open a subprocess using shlex to get the command line string into the correct args list format\n",
    "    p = subprocess.Popen(shlex.split(\"java -jar '\" + SentiStrengthLocation + \"' stdin sentidata '\" + SentiStrengthUnzippedTextFilesLocation + \"'\"),stdin=subprocess.PIPE,stdout=subprocess.PIPE,stderr=subprocess.PIPE)\n",
    "    #communicate via stdin the string to be rated. Note that all spaces are replaced with +\n",
    "    #Can't send string in Python 3, must send bytes\n",
    "    b = bytes(sentiString.replace(\" \",\"+\"), 'utf-8')\n",
    "    stdout_byte, stderr_text = p.communicate(b)\n",
    "    #convert from byte\n",
    "    stdout_text = stdout_byte.decode(\"utf-8\") \n",
    "    #remove the tab spacing between the positive and negative ratings. e.g. 1    -5 -> 1 -5\n",
    "    stdout_text = stdout_text.rstrip().replace(\"\\t\",\" \")\n",
    "    return stdout_text + \" \" + sentiString\n",
    "\n",
    "print(\"If SentiStrength is working then 3 and -1 will be next:\", RateSentiment(\"A lovely day!\"),\"\\n\")\n",
    "\n",
    "print(\"Running SentiStrength on file \" + FileToClassify + \" with command:\")\n",
    "cmd = 'java -jar \"' + SentiStrengthLocation + '\" sentidata \"' + SentiStrengthUnzippedTextFilesLocation + '\" input \"' + FileToClassify + '\"'\n",
    "print(cmd, \"\\n\")\n",
    "p = subprocess.Popen(shlex.split(cmd),stdin=subprocess.PIPE,stdout=subprocess.PIPE,stderr=subprocess.PIPE)\n",
    "wait =input(\"Finished! The results will be in a file with a name from\\n\" + FileToClassify + \"\\nending in out.txt.\\nPress enter to continue.\")\n"
   ]
  },
  {
   "cell_type": "markdown",
   "metadata": {},
   "source": [
    "The Python code below classifies the sentiment on all files within a folder.\n",
    "\n",
    "***ONLY RUN THE CODE BELOW IF YOU WANT TO CLASSIFY THE SENTIMENT ON ALL FILES IN ONE GO***\n",
    "\n",
    "You will need to change the locations of: \n",
    "   * SentiStrength\n",
    "   * the SentiStrength data folder and\n",
    "   * the YouTube comments file\n",
    "to make this code work. These are near the top of the code below."
   ]
  },
  {
   "cell_type": "code",
   "execution_count": null,
   "metadata": {
    "collapsed": true
   },
   "outputs": [],
   "source": [
    "import subprocess\n",
    "import shlex\n",
    "import os.path\n",
    "import sys\n",
    "\n",
    "#######################################################################################################\n",
    "## Modify the three lines below to make this program work on your computer.                          ##\n",
    "## Be careful with the direction of the slashes / and include a slash at the end of the second path. ##\n",
    "#######################################################################################################\n",
    "SentiStrengthLocation = \"D:/Downloads/k-pop test/SentiStrength.jar\" #This must point to the location of SentiStrength on your computer\n",
    "SentiStrengthUnzippedTextFilesLocation = \"D:/Downloads/k-pop test/SentiStrength_Data/\" #This must point to the location of the unzipped SentiStrength data files on your computer\n",
    "FolderOfFilesToClassify = \"D:/Downloads/k-pop test/TWICE-BTS-EXO-BLACKPINK_english comments, one file per video/\" #This must point to the location of the folder of files that you want classified.\n",
    "\n",
    "#Test file locations and quit if anything not found\n",
    "if not os.path.isfile(SentiStrengthLocation):\n",
    "    print(\"SentiStrength not found at: \", SentiStrengthLocation)\n",
    "    sys.exit()\n",
    "if not os.path.isdir(FolderOfFilesToClassify):\n",
    "    print(\"Folder of files to classify not found at: \", FolderOfFilesToClassify)\n",
    "    sys.exit()\n",
    "if not os.path.isdir(SentiStrengthUnzippedTextFilesLocation):\n",
    "    print(\"SentiStrength data folder not found at: \", SentiStrengthUnzippedTextFilesLocation)\n",
    "    sys.exit()\n",
    "\n",
    "# Test if SentiStrength is working\n",
    "def RateSentiment(sentiString):\n",
    "    #open a subprocess using shlex to get the command line string into the correct args list format\n",
    "    p = subprocess.Popen(shlex.split(\"java -jar '\" + SentiStrengthLocation + \"' stdin sentidata '\" + SentiStrengthUnzippedTextFilesLocation + \"'\"),stdin=subprocess.PIPE,stdout=subprocess.PIPE,stderr=subprocess.PIPE)\n",
    "    #communicate via stdin the string to be rated. Note that all spaces are replaced with +\n",
    "    #Can't send string in Python 3, must send bytes\n",
    "    b = bytes(sentiString.replace(\" \",\"+\"), 'utf-8')\n",
    "    stdout_byte, stderr_text = p.communicate(b)\n",
    "    #convert from byte\n",
    "    stdout_text = stdout_byte.decode(\"utf-8\") \n",
    "    #remove the tab spacing between the positive and negative ratings. e.g. 1    -5 -> 1 -5\n",
    "    stdout_text = stdout_text.rstrip().replace(\"\\t\",\" \")\n",
    "    return stdout_text + \" \" + sentiString\n",
    "\n",
    "print(\"If SentiStrength is working then 3 and -1 will be next:\", RateSentiment(\"A lovely day!\"))\n",
    "\n",
    "print(\"\\nRunning SentiStrength with command\")\n",
    "cmd = 'java -jar \"' + SentiStrengthLocation + '\" sentidata \"' + SentiStrengthUnzippedTextFilesLocation + '\" annotateCol 1 inputFolder \"' + FolderOfFilesToClassify + '\" overwrite'\n",
    "print(cmd, \"\\n\")\n",
    "\n",
    "p = subprocess.Popen(shlex.split(cmd),stdin=subprocess.PIPE,stdout=subprocess.PIPE,stderr=subprocess.PIPE)\n",
    "wait =input(\"\\nPlease wait for the black window to vanish - may take 15 minutes!\\nDO NOT RUN THIS AGAIN ON THE SAME FILES.\\nThe results will be added to each file in\\n\" + FolderOfFilesToClassify + \".\\n\")\n"
   ]
  }
 ],
 "metadata": {
  "kernelspec": {
   "display_name": "Python 3",
   "language": "python",
   "name": "python3"
  },
  "language_info": {
   "codemirror_mode": {
    "name": "ipython",
    "version": 3
   },
   "file_extension": ".py",
   "mimetype": "text/x-python",
   "name": "python",
   "nbconvert_exporter": "python",
   "pygments_lexer": "ipython3",
   "version": "3.6.2"
  }
 },
 "nbformat": 4,
 "nbformat_minor": 2
}
